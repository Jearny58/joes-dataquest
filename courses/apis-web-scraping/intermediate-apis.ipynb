{
 "cells": [
  {
   "cell_type": "markdown",
   "metadata": {},
   "source": [
    "# Introduction\n",
    "\n",
    "- Most APIs require authentication\n",
    "- APIs also use authentication to perform __rate limiting__\n",
    "    - to ensure it remains avilable and responsive, APIs will prevent you from making too many requests in too short a time, i.e. restriction rate limiting\n",
    "- In this mission we're going to take a look at the [GitHub API](https://developer.github.com/v3/) "
   ]
  },
  {
   "cell_type": "markdown",
   "metadata": {},
   "source": [
    "# API Authentication\n",
    "\n",
    "- To authenticate with the GitHub API, we'll need to us an access token\n",
    "    - a credential generated via GitHub\n",
    "    - is a string that the API can read and associate with your account\n",
    "- Using a token is preferable to a username and password\n",
    "    - typically, you'll be accessing an API from a script, if username/passsword is leaked someone else can take over your account\n",
    "    - Access tokens can have scopes and specific permissions\n",
    "        - Using read-access-only tokens in potentially insecure or shared scripts gives you more control over security\n",
    "- Will need to pass your token to the GitHub API via an _Authorization header_\n",
    "    - headers contain metadata about the request\n",
    "    - can use Python's `requests` libraru to make a dictionary of headers\n",
    "- Should __never__ share your token with anyone you don't want to have access to your account"
   ]
  },
  {
   "cell_type": "code",
   "execution_count": 2,
   "metadata": {},
   "outputs": [
    {
     "name": "stdout",
     "output_type": "stream",
     "text": [
      "{'message': 'Bad credentials', 'documentation_url': 'https://developer.github.com/v3'}\n"
     ]
    }
   ],
   "source": [
    "import requests\n",
    "\n",
    "# Create a dictionary of headers containing our Authorization header.\n",
    "headers = {\"Authorization\": \"INSERT TOKEN HERE\"}\n",
    "\n",
    "# Make a GET request to the GitHub API with our headers.\n",
    "# This API endpoint will give us details about Vik Paruchuri.\n",
    "response = requests.get(\"https://api.github.com/users/VikParuchuri\", headers=headers)\n",
    "\n",
    "# Print the content of the response.  As you can see, this token corresponds to the account of Vik Paruchuri.\n",
    "print(response.json())"
   ]
  },
  {
   "cell_type": "code",
   "execution_count": null,
   "metadata": {},
   "outputs": [],
   "source": [
    "# Create a dictionary of headers containing our Authorization header.\n",
    "headers = {\"Authorization\": \"INSERT TOKEN HERE\"}\n",
    "\n",
    "# Make an authenticated request to https://api.github.com/users/VikParuchuri/orgs. This will give us a list of the organizations a GitHub user belongs to\n",
    "response = requests.get(\"https://api.github.com/users/VikParuchuri/orgs\", headers=headers)\n",
    "\n",
    "# Assign the JSON content of the response to orgs (you can get this with response.json())\n",
    "orgs = response.json()\n",
    "\n",
    "print(orgs)"
   ]
  },
  {
   "cell_type": "markdown",
   "metadata": {},
   "source": [
    "# Endpoints and Objects\n",
    "\n",
    "- APIs usually let us retrive information about specific objects in a database\n",
    "- Based on the example above, we could also retrive information about other GitHub users through the same endpoint"
   ]
  },
  {
   "cell_type": "code",
   "execution_count": null,
   "metadata": {},
   "outputs": [],
   "source": [
    "# We've loaded headers in.\n",
    "# Use the endpoint https://api.github.com/users/torvalds with the same headers from before to get information about Linus Torvalds.\n",
    "response = requests.get('https://api.github.com/users/torvalds', headers=headers)\n",
    "\n",
    "torvalds = response.json()\n",
    "\n",
    "print(torvalds)"
   ]
  },
  {
   "cell_type": "markdown",
   "metadata": {},
   "source": [
    "# Other Objects"
   ]
  },
  {
   "cell_type": "code",
   "execution_count": null,
   "metadata": {},
   "outputs": [],
   "source": [
    "# Enter your answer here.\n",
    "# Make a GET request to the https://api.github.com/repos/octocat/Hello-World endpoint\n",
    "response = requests.get('https://api.github.com/repos/octocat/Hello-World', headers=headers)\n",
    "\n",
    "hello_world = response.json()\n",
    "\n",
    "print(hello_world)"
   ]
  },
  {
   "cell_type": "markdown",
   "metadata": {},
   "source": [
    "# Pagination\n",
    "\n",
    "- Sometimes a request can return a lot of objects\n",
    "    - example: listing out all of a user's repositories\n",
    "- __Pagination__: means that the API provider will only return a certain number of records per page\n",
    "    - can specify the page number you want to access\n",
    "    - to access all the pages, you'll need to write a loop\n",
    "- To get repositories a user has _starred_ we can use the following API endpoint:\n",
    "`https://api.github.com/users/VikParuchuri/starred`\n",
    "    - can add two pagination query paramters - `page` and `per_page`\n",
    "        - `page` is the page we want to access\n",
    "        - `per_page` is the number of records we want to see on each page\n",
    "            - typically a cap on this\n",
    "            \n",
    "         "
   ]
  },
  {
   "cell_type": "code",
   "execution_count": null,
   "metadata": {},
   "outputs": [],
   "source": [
    "# Get the second page of repositories that Vik Paruchuri \n",
    "# starred from the https://api.github.com/users/VikParuchuri/starred endpoint.\n",
    "params = {\"per_page\": 50, \"page\": 2}\n",
    "response = requests.get(\"https://api.github.com/users/VikParuchuri/starred\", headers=headers, params=params)\n",
    "page2_repos = response.json()"
   ]
  },
  {
   "cell_type": "markdown",
   "metadata": {},
   "source": [
    "# User-Level Endpoints"
   ]
  },
  {
   "cell_type": "code",
   "execution_count": null,
   "metadata": {},
   "outputs": [],
   "source": [
    "# make a GET request to user to get info on the user the authentication token is for\n",
    "response = requests.get(\"https://api.github.com/user\", headers=headers)\n",
    "user = response.json()"
   ]
  },
  {
   "cell_type": "markdown",
   "metadata": {},
   "source": [
    "# POST requests\n",
    "\n",
    "- few other types of API requests\n",
    "- `POSTS` requests to send information and to create objects on API's server\n",
    "    - For GitHub, can use `POST` to create new repos\n",
    "- Not all endpoints accept a `POST` request, and not all will accept a `GET` request\n",
    "- Can make `POST` requests using `requests.post`\n",
    "\n",
    "### EXAMPLE\n",
    "\n",
    "`payload = {\"name\": \"test\"}\n",
    " requests.post(\"https://api.github.com/user/repos\", json=payload)`\n",
    " \n",
    " - code above will create a new repo named `test` under the account of the authenticated user\n",
    " - [Here is GitHub's API documentation for repos](https://developer.github.com/v3/repos/)\n",
    " - A successful `POST` request will usually return `201` status code\n",
    "     - indicates that it was able to create the object on the server\n",
    "  "
   ]
  },
  {
   "cell_type": "code",
   "execution_count": null,
   "metadata": {},
   "outputs": [],
   "source": [
    "# Create the data we'll pass into the API endpoint.  While this endpoint only requires the \"name\" key, there are other optional keys.\n",
    "payload = {\"name\": \"learning-about-apis\"}\n",
    "\n",
    "# We need to pass in our authentication headers!\n",
    "response = requests.post(\"https://api.github.com/user/repos\", json=payload, headers=headers)\n",
    "\n",
    "status = response.status_code"
   ]
  },
  {
   "cell_type": "markdown",
   "metadata": {},
   "source": [
    "# PUT/PATCH Requests\n",
    "\n",
    "- `PATCH`/`PUT` requests come into play when we want to update an existing object\n",
    "- `PATCH` = when we want to change a few attributes of an object but don't want to resend the entire object to the server\n",
    "    - example: change the name of the repo\n",
    "- `PUT` = send the complete object we're revising as a replacement for the server's existing version\n",
    "- In practive, API developers don't always respect this convention\n",
    "    - sometimes API endpoints that accept `PUT` requests will treat them like `PATCH` requests and not require us to send the whole object back\n",
    "\n",
    "`payload = {\"description\": \"The best repository ever!\", \"name\": \"test\"}\n",
    "response = requests.patch(\"https://api.github.com/repos/VikParuchuri/test\", json=payload)`\n",
    "\n",
    "Code above will change the description of the test repo to The best repository ever!\n",
    "\n",
    "- A successful `PATCH` request will usually return a `200` status code"
   ]
  },
  {
   "cell_type": "code",
   "execution_count": null,
   "metadata": {},
   "outputs": [],
   "source": [
    "# Make a PATCH request to the https://api.github.com/repos/VikParuchuri/learning-about-apis \n",
    "# endpoint that changes the description to Learning about requests!.\n",
    "payload = {\"description\": \"Learning about requests!\", \"name\": \"learning-about-apis\"}\n",
    "response = requests.patch(\"https://api.github.com/repos/VikParuchuri/learning-about-apis\", json=payload, headers=headers)\n",
    "\n",
    "status = response.status_code"
   ]
  },
  {
   "cell_type": "markdown",
   "metadata": {},
   "source": [
    "# DELETE Requests\n",
    "\n",
    "- `DELETE` request removes objects from the server\n",
    "    - example: can be used to remove repos\n",
    "    \n",
    "`response = requests.delete(\"https://api.github.com/repos/VikParuchuri/test\")`\n",
    "\n",
    "The code above will delete the `test` repository from GitHub\n",
    "- a successful `DELETE` will usually return a `204` status code indicating that it successfully deleted the object\n",
    "- use them very carefully!"
   ]
  },
  {
   "cell_type": "code",
   "execution_count": null,
   "metadata": {},
   "outputs": [],
   "source": [
    "# Make a DELETE request to the https://api.github.com/repos/VikParuchuri/learning-about-apis \n",
    "# endpoint\n",
    "response = requests.delete('https://api.github.com/repos/VikParuchuri/learning-about-apis', headers=headers)\n",
    "\n",
    "status = response.status_code"
   ]
  }
 ],
 "metadata": {
  "kernelspec": {
   "display_name": "Python 3",
   "language": "python",
   "name": "python3"
  },
  "language_info": {
   "codemirror_mode": {
    "name": "ipython",
    "version": 3
   },
   "file_extension": ".py",
   "mimetype": "text/x-python",
   "name": "python",
   "nbconvert_exporter": "python",
   "pygments_lexer": "ipython3",
   "version": "3.6.8"
  }
 },
 "nbformat": 4,
 "nbformat_minor": 2
}
