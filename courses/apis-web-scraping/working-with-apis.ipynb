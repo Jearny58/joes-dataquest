{
 "cells": [
  {
   "cell_type": "markdown",
   "metadata": {},
   "source": [
    "# What's an API?\n",
    "\n",
    "- Application program interface (API)\n",
    "- a set of methods and tools that allows different applications to interact with each other\n",
    "- Used to query and retrieve data dynamically (which they can then integrate with their own apps)\n",
    "    - a client can retrive information quickly and effectively through an API\n",
    "    \n",
    "In this mission we'll query a basic API to retrive data about the [International Space Station ](https://en.wikipedia.org/wiki/International_Space_Station)(ISS)."
   ]
  },
  {
   "cell_type": "markdown",
   "metadata": {},
   "source": [
    "# Introduction to API Requests\n",
    "\n",
    "- APIs are hosted on __Web servers__\n",
    "- Usually return data in [JavaScript Object Notation](http://json.org/) \n",
    "- In summary, we make an API request to the Web server we want to get data from --> server then replies and sends it to us\n",
    "- In Python, we use the [requests library](https://2.python-requests.org/en/master/) "
   ]
  },
  {
   "cell_type": "markdown",
   "metadata": {},
   "source": [
    "# Types of Requests\n",
    "\n",
    "- most common type of request is a GET, which we use to retrieve data\n",
    "- OpenNotify API has several API endpoints\n",
    "    - an endpoint = server route for retrieving specific data from an API\n",
    "    - Example: reddit API\n",
    "        - `/comments` endpoint might retrieve info about comments\n",
    "        - `/users` endpoint might retrieve data about users\n",
    "- first OpenNotify endpoint we'll look at is the `iss.now.json` endpoint\n",
    "    - gets current latitude and longitude of the ISS"
   ]
  },
  {
   "cell_type": "code",
   "execution_count": 2,
   "metadata": {},
   "outputs": [
    {
     "data": {
      "text/plain": [
       "200"
      ]
     },
     "execution_count": 2,
     "metadata": {},
     "output_type": "execute_result"
    }
   ],
   "source": [
    "import requests\n",
    "\n",
    "# Make a get request to get the latest position of the ISS from the OpenNotify API.\n",
    "response = requests.get(\"http://api.open-notify.org/iss-now.json\")\n",
    "\n",
    "# store status code, which indicates the success/failure of the request\n",
    "status_code = response.status_code\n",
    "\n",
    "status_code"
   ]
  },
  {
   "cell_type": "markdown",
   "metadata": {},
   "source": [
    "# Understanding Status Codes\n",
    "\n",
    "- `200` - Everything went okay, and the server returned a result (if any).\n",
    "- `301` - The server is redirecting you to a different endpoint. This can happen when a company switches domain names, or an endpoint's name has changed.\n",
    "- `401` - The server thinks you're not authenticated. This happens when you don't send the right credentials to access an API (we'll talk about this in a later mission).\n",
    "- `400` - The server thinks you made a bad request. This can happen when you don't send the information the API requires to process your request, among other things.\n",
    "- `403` - The resource you're trying to access is forbidden; you don't have the right permissions to see it.\n",
    "- `404` - The server didn't find the resource you tried to access."
   ]
  },
  {
   "cell_type": "code",
   "execution_count": 3,
   "metadata": {},
   "outputs": [
    {
     "data": {
      "text/plain": [
       "404"
      ]
     },
     "execution_count": 3,
     "metadata": {},
     "output_type": "execute_result"
    }
   ],
   "source": [
    "# Enter your answer below.\n",
    "# Make a get request to get the latest position of the ISS from the OpenNotify API.\n",
    "response = requests.get(\"http://api.open-notify.org/iss-pass\")\n",
    "\n",
    "# store status code, which indicates the success/failure of the request\n",
    "status_code = response.status_code\n",
    "\n",
    "status_code"
   ]
  },
  {
   "cell_type": "markdown",
   "metadata": {},
   "source": [
    "# Hitting the Right Endpoint\n",
    "\n",
    "- `iss-pass` wasn't a valid endpoint, so the API's server sent us a `404` status code in response\n",
    "- we forgot to add `.json` at the end, like the [API Documentation](http://open-notify.org/Open-Notify-API/) tells us to do"
   ]
  },
  {
   "cell_type": "code",
   "execution_count": 4,
   "metadata": {},
   "outputs": [
    {
     "data": {
      "text/plain": [
       "400"
      ]
     },
     "execution_count": 4,
     "metadata": {},
     "output_type": "execute_result"
    }
   ],
   "source": [
    "# make a GET request\n",
    "response = requests.get('http://api.open-notify.org/iss-pass.json')\n",
    "\n",
    "# store status code, which indicates the success/failure of the request\n",
    "status_code = response.status_code\n",
    "\n",
    "status_code"
   ]
  },
  {
   "cell_type": "markdown",
   "metadata": {},
   "source": [
    "# Adding Query Parameters\n",
    "\n",
    "- Got a `400` status code, indicating a bad request\n",
    "- Take a look at the OpenNotify API, [ISS Pass](http://open-notify.org/Open-Notify-API/ISS-Pass-Times/) requires two parameters\n",
    "- This endpoint returns the next time the ISS will pass over a given location on the Earth\n",
    "    - need to pass coordinates for a specific location, latitude and longitude\n",
    "    - add option keyword argument `params` to request\n",
    "        - `lat` - latitude of the location\n",
    "        - `lon` - longitude of the location\n",
    "        - can make a dictionary that contains these parameters and then pass them into the function\n",
    "    - can also do the same thing by adding query parameters to the url, like this:\n",
    "`http://api.open-notify.org/iss-pass.json?lat=40.71&lon=-74`\n",
    "- Preferable to set up parameters as a dictionary\n",
    "    - `requests` library takes care of certain issues, like properly formatting the query parameters"
   ]
  },
  {
   "cell_type": "code",
   "execution_count": 5,
   "metadata": {},
   "outputs": [
    {
     "name": "stdout",
     "output_type": "stream",
     "text": [
      "b'{\\n  \"message\": \"success\", \\n  \"request\": {\\n    \"altitude\": 100, \\n    \"datetime\": 1559592957, \\n    \"latitude\": 40.71, \\n    \"longitude\": -74.0, \\n    \"passes\": 5\\n  }, \\n  \"response\": [\\n    {\\n      \"duration\": 574, \\n      \"risetime\": 1559604396\\n    }, \\n    {\\n      \"duration\": 644, \\n      \"risetime\": 1559610200\\n    }, \\n    {\\n      \"duration\": 598, \\n      \"risetime\": 1559616011\\n    }, \\n    {\\n      \"duration\": 565, \\n      \"risetime\": 1559670340\\n    }\\n  ]\\n}\\n'\n",
      "b'{\\n  \"message\": \"success\", \\n  \"request\": {\\n    \"altitude\": 100, \\n    \"datetime\": 1559592957, \\n    \"latitude\": 40.71, \\n    \"longitude\": -74.0, \\n    \"passes\": 5\\n  }, \\n  \"response\": [\\n    {\\n      \"duration\": 574, \\n      \"risetime\": 1559604396\\n    }, \\n    {\\n      \"duration\": 644, \\n      \"risetime\": 1559610200\\n    }, \\n    {\\n      \"duration\": 598, \\n      \"risetime\": 1559616011\\n    }, \\n    {\\n      \"duration\": 565, \\n      \"risetime\": 1559670340\\n    }\\n  ]\\n}\\n'\n"
     ]
    }
   ],
   "source": [
    "# Set up the parameters we want to pass to the API.\n",
    "# This is the latitude and longitude of New York City.\n",
    "parameters = {\"lat\": 40.71, \"lon\": -74}\n",
    "\n",
    "# Make a get request with the parameters.\n",
    "response = requests.get(\"http://api.open-notify.org/iss-pass.json\", params=parameters)\n",
    "\n",
    "# Print the content of the response (the data the server returned)\n",
    "print(response.content)\n",
    "\n",
    "# This gets the same data as the command above\n",
    "response = requests.get(\"http://api.open-notify.org/iss-pass.json?lat=40.71&lon=-74\")\n",
    "print(response.content)"
   ]
  },
  {
   "cell_type": "code",
   "execution_count": 6,
   "metadata": {},
   "outputs": [
    {
     "name": "stdout",
     "output_type": "stream",
     "text": [
      "b'{\\n  \"message\": \"success\", \\n  \"request\": {\\n    \"altitude\": 100, \\n    \"datetime\": 1559593136, \\n    \"latitude\": 37.78, \\n    \"longitude\": -122.41, \\n    \"passes\": 5\\n  }, \\n  \"response\": [\\n    {\\n      \"duration\": 625, \\n      \"risetime\": 1559597956\\n    }, \\n    {\\n      \"duration\": 614, \\n      \"risetime\": 1559603764\\n    }, \\n    {\\n      \"duration\": 502, \\n      \"risetime\": 1559609677\\n    }, \\n    {\\n      \"duration\": 507, \\n      \"risetime\": 1559615556\\n    }, \\n    {\\n      \"duration\": 621, \\n      \"risetime\": 1559621354\\n    }\\n  ]\\n}\\n'\n"
     ]
    }
   ],
   "source": [
    "# Set up the parameters we want to pass to the API.\n",
    "# This is the latitude and longitude of San Francisco\n",
    "parameters = {\"lat\": 37.78, \"lon\": -122.41}\n",
    "\n",
    "# Make a get request with the parameters.\n",
    "response = requests.get(\"http://api.open-notify.org/iss-pass.json\", params=parameters)\n",
    "\n",
    "# Print the content of the response (the data the server returned)\n",
    "#print(response.content)\n",
    "\n",
    "# This gets the same data as the command above\n",
    "#response = requests.get(\"http://api.open-notify.org/iss-pass.json?lat=37.78&lon=-122.41\")\n",
    "#print(response.content)\n",
    "\n",
    "# assigning the content to the variable content\n",
    "content = response.content\n",
    "\n",
    "print(content)"
   ]
  },
  {
   "cell_type": "markdown",
   "metadata": {},
   "source": [
    "# JSON Format\n",
    "\n",
    "- Strings are how we pass info back and forth through APIs, but it is hard to get the information we want out of them\n",
    "- Luckily, there's a format called JSON\n",
    "    - encodes data structures like lists and dictionaries as strings to ensure that machines can read them easily\n",
    "    - primary format for sending and receiving data through APIs\n",
    "- Our ISS Pass data is a dictionary encoded as a string in JSON format\n",
    "- JSON library has two main methods\n",
    "    - `dumps` -- takes a Python object, and converts it to a string\n",
    "    - `loads` -- takes a JSON string, and converts it to a Python object"
   ]
  },
  {
   "cell_type": "code",
   "execution_count": 7,
   "metadata": {},
   "outputs": [
    {
     "name": "stdout",
     "output_type": "stream",
     "text": [
      "<class 'list'>\n",
      "<class 'str'>\n",
      "<class 'list'>\n",
      "<class 'str'>\n"
     ]
    }
   ],
   "source": [
    "# Make a list of fast food chains.\n",
    "best_food_chains = [\"Taco Bell\", \"Shake Shack\", \"Chipotle\"]\n",
    "print(type(best_food_chains))\n",
    "\n",
    "# Import the JSON library.\n",
    "import json\n",
    "\n",
    "# Use json.dumps to convert best_food_chains to a string.\n",
    "best_food_chains_string = json.dumps(best_food_chains)\n",
    "print(type(best_food_chains_string))\n",
    "\n",
    "# Convert best_food_chains_string back to a list.\n",
    "print(type(json.loads(best_food_chains_string)))\n",
    "\n",
    "# Make a dictionary\n",
    "fast_food_franchise = {\n",
    "    \"Subway\": 24722,\n",
    "    \"McDonalds\": 14098,\n",
    "    \"Starbucks\": 10821,\n",
    "    \"Pizza Hut\": 7600\n",
    "}\n",
    "\n",
    "# We can also dump a dictionary to a string and load it.\n",
    "fast_food_franchise_string = json.dumps(fast_food_franchise)\n",
    "print(type(fast_food_franchise_string))"
   ]
  },
  {
   "cell_type": "code",
   "execution_count": 11,
   "metadata": {},
   "outputs": [
    {
     "name": "stdout",
     "output_type": "stream",
     "text": [
      "<class 'dict'>\n"
     ]
    }
   ],
   "source": [
    "# Use the JSON function loads to convert fast_food_franchise_string to a Python object.\n",
    "fast_food_franchise_2 = json.loads(fast_food_franchise_string)\n",
    "\n",
    "print(type(fast_food_franchise_2))"
   ]
  },
  {
   "cell_type": "markdown",
   "metadata": {},
   "source": [
    "# Getting JSON From a Request"
   ]
  },
  {
   "cell_type": "code",
   "execution_count": 12,
   "metadata": {},
   "outputs": [
    {
     "name": "stdout",
     "output_type": "stream",
     "text": [
      "<class 'dict'>\n",
      "{'message': 'success', 'request': {'altitude': 100, 'datetime': 1559598201, 'latitude': 37.78, 'longitude': -122.41, 'passes': 5}, 'response': [{'duration': 502, 'risetime': 1559609677}, {'duration': 507, 'risetime': 1559615556}, {'duration': 621, 'risetime': 1559621354}, {'duration': 628, 'risetime': 1559627152}]}\n"
     ]
    }
   ],
   "source": [
    "# Make the same request we did two screens ago.\n",
    "parameters = {\"lat\": 37.78, \"lon\": -122.41}\n",
    "response = requests.get(\"http://api.open-notify.org/iss-pass.json\", params=parameters)\n",
    "\n",
    "# Get the response data as a Python object.  Verify that it's a dictionary.\n",
    "json_data = response.json()\n",
    "print(type(json_data))\n",
    "print(json_data)"
   ]
  },
  {
   "cell_type": "code",
   "execution_count": 17,
   "metadata": {},
   "outputs": [
    {
     "data": {
      "text/plain": [
       "502"
      ]
     },
     "execution_count": 17,
     "metadata": {},
     "output_type": "execute_result"
    }
   ],
   "source": [
    "# get the duration value of ISS' first pass over San Francisco\n",
    "first_pass_duration = json_data['response'][0]['duration']\n",
    "\n",
    "first_pass_duration"
   ]
  },
  {
   "cell_type": "markdown",
   "metadata": {},
   "source": [
    "# Content Type\n",
    "\n",
    "- server sends more than a status code and the data when it generates a response\n",
    "    - also sends metadata containing information on how it generated the data and how to decode it\n",
    "    - this info appears in _response headers_\n",
    "        - can access using `.headers` property that responses have\n",
    "- Headers will appear as a dictionary, with `content-type` being the most important key\n",
    "    - tells us the format of the response and how to decode it"
   ]
  },
  {
   "cell_type": "code",
   "execution_count": 18,
   "metadata": {},
   "outputs": [
    {
     "name": "stdout",
     "output_type": "stream",
     "text": [
      "{'Connection': 'keep-alive', 'Content-Length': '454', 'Content-Type': 'application/json', 'Date': 'Mon, 03 Jun 2019 21:43:21 GMT', 'Server': 'nginx/1.10.3', 'Via': '1.1 vegur'}\n"
     ]
    }
   ],
   "source": [
    "# Headers is a dictionary\n",
    "print(response.headers)"
   ]
  },
  {
   "cell_type": "code",
   "execution_count": 22,
   "metadata": {},
   "outputs": [
    {
     "data": {
      "text/plain": [
       "'application/json'"
      ]
     },
     "execution_count": 22,
     "metadata": {},
     "output_type": "execute_result"
    }
   ],
   "source": [
    "# get content-type from response.headers\n",
    "content_type = response.headers['content-type']\n",
    "\n",
    "content_type"
   ]
  },
  {
   "cell_type": "markdown",
   "metadata": {},
   "source": [
    "# Finding the Number of People in Space\n",
    "\n",
    "- OpenNotify has one more API endpoint, `astros.json`\n",
    "    - tells us how many people are currently in space!"
   ]
  },
  {
   "cell_type": "code",
   "execution_count": 23,
   "metadata": {},
   "outputs": [],
   "source": [
    "# call the API here\n",
    "astro_response = requests.get('http://api.open-notify.org/astros.json')"
   ]
  },
  {
   "cell_type": "code",
   "execution_count": 24,
   "metadata": {},
   "outputs": [
    {
     "name": "stdout",
     "output_type": "stream",
     "text": [
      "<class 'dict'>\n",
      "{'message': 'success', 'number': 6, 'people': [{'craft': 'ISS', 'name': 'Oleg Kononenko'}, {'craft': 'ISS', 'name': 'David Saint-Jacques'}, {'craft': 'ISS', 'name': 'Anne McClain'}, {'craft': 'ISS', 'name': 'Alexey Ovchinin'}, {'craft': 'ISS', 'name': 'Nick Hague'}, {'craft': 'ISS', 'name': 'Christina Koch'}]}\n"
     ]
    }
   ],
   "source": [
    "# Get the response data as a Python object.  Verify that it's a dictionary.\n",
    "json_astro = astro_response.json()\n",
    "print(type(json_astro))\n",
    "print(json_astro)"
   ]
  },
  {
   "cell_type": "code",
   "execution_count": 25,
   "metadata": {},
   "outputs": [
    {
     "data": {
      "text/plain": [
       "6"
      ]
     },
     "execution_count": 25,
     "metadata": {},
     "output_type": "execute_result"
    }
   ],
   "source": [
    "json_astro['number']"
   ]
  }
 ],
 "metadata": {
  "kernelspec": {
   "display_name": "Python 3",
   "language": "python",
   "name": "python3"
  },
  "language_info": {
   "codemirror_mode": {
    "name": "ipython",
    "version": 3
   },
   "file_extension": ".py",
   "mimetype": "text/x-python",
   "name": "python",
   "nbconvert_exporter": "python",
   "pygments_lexer": "ipython3",
   "version": "3.6.8"
  }
 },
 "nbformat": 4,
 "nbformat_minor": 2
}
