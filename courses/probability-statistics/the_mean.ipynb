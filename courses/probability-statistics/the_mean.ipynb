{
 "cells": [
  {
   "cell_type": "markdown",
   "metadata": {},
   "source": [
    "# _Dataquest: The Mean_\n",
    "\n",
    "This notebook was adapted from Dataquest's lesson _The Mean_ within their probability and statistics chapter. "
   ]
  },
  {
   "cell_type": "markdown",
   "metadata": {},
   "source": [
    "# _Notes_\n",
    "\n",
    "- depending on the particular characteristics of a distribution, we can summarize using:\n",
    "    - mean\n",
    "    - weighted mean\n",
    "    - median\n",
    "    - mode\n",
    "- also learn to measure the variability in a distribution, using measures like:\n",
    "    - variance\n",
    "    - standard deviation\n",
    "- once we understand these measures of variability, we can learn how to locate a value in a distribution\n",
    "    - to determine how it compares to other values\n",
    "    - can answer with precision using a z-score"
   ]
  },
  {
   "cell_type": "markdown",
   "metadata": {},
   "source": [
    "## _The Mean_"
   ]
  },
  {
   "cell_type": "code",
   "execution_count": 15,
   "metadata": {},
   "outputs": [],
   "source": [
    "# generate a list of integers\n",
    "distribution = [0,2,3,3,3,4,13]\n",
    "\n",
    "# calculate the mean of the above\n",
    "mean = sum(distribution) / len(distribution)\n",
    "\n",
    "# is the value of the mean at the center of the distribution's range?\n",
    "center = False"
   ]
  },
  {
   "cell_type": "code",
   "execution_count": 19,
   "metadata": {},
   "outputs": [],
   "source": [
    "# sum the values below the mean\n",
    "below = sum([abs(val - mean) for val in distribution if val < mean])\n",
    "\n",
    "# sum the values above the mean\n",
    "above = sum([abs(val - mean) for val in distribution if val > mean])"
   ]
  },
  {
   "cell_type": "code",
   "execution_count": 22,
   "metadata": {},
   "outputs": [
    {
     "name": "stdout",
     "output_type": "stream",
     "text": [
      "True\n"
     ]
    }
   ],
   "source": [
    "# are above and below equal to each other\n",
    "equal_distances = (below == above)\n",
    "\n",
    "# print out answer\n",
    "print(equal_distances)"
   ]
  },
  {
   "cell_type": "markdown",
   "metadata": {},
   "source": [
    "## _The Mean as a Balance Point_\n",
    "\n",
    "- should avoid thinking of mean necessarily as being center of the distribution's range\n",
    "    - will be cases where it isn't, and cases where it isn't\n",
    "    - instead think of it as point where total distance _below_ & _above_ mean is the same\n",
    "- think of a seesaw, it would be perfectly balanced if the children on either side were the same weight"
   ]
  },
  {
   "cell_type": "code",
   "execution_count": 24,
   "metadata": {},
   "outputs": [
    {
     "name": "stdout",
     "output_type": "stream",
     "text": [
      "5000\n"
     ]
    }
   ],
   "source": [
    "import numpy as np\n",
    "\n",
    "equal_distances = 0\n",
    "# generate 5000 different distributions\n",
    "for n in range(5000):\n",
    "    # set seed\n",
    "    np.random.seed(n)\n",
    "    # generate random distribution\n",
    "    distribution = np.random.randint(low=0, high=1000, size=10)\n",
    "    # calculate mean of the distribution\n",
    "    mean = np.mean(distribution)\n",
    "    # measure the distance above/below mean\n",
    "    below = round(sum([abs(val - mean) for val in distribution if val < mean]), 1)\n",
    "    above = round(sum([abs(val - mean) for val in distribution if val > mean]), 1)\n",
    "    # are above and below equal to each other?\n",
    "    equal = (below == above)\n",
    "    if equal == True:\n",
    "        equal_distances += 1\n",
    "        \n",
    "print(equal_distances)"
   ]
  },
  {
   "cell_type": "markdown",
   "metadata": {},
   "source": [
    "## _Defining the Mean Algebraically_\n",
    "\n",
    "- by convention, mean of a population is denoted with Greek letter _μ_ (\"mew)\n",
    "- to denote sample mean, we use x̄ (\"x-bar\") and we use lowercase n (as opposed to uppercase)\n",
    "    - could also be represented by _M_, X̄, or x̄ to the n"
   ]
  },
  {
   "cell_type": "code",
   "execution_count": 26,
   "metadata": {},
   "outputs": [],
   "source": [
    "# do we use the mew symbol to denote both the population and sample mean?\n",
    "one = False\n",
    "\n",
    "# if a population has 8 values, the lowercase n = 8?\n",
    "two = False\n",
    "\n",
    "# x-bar is symbol used as an alternative to M, uppercase X-bar, or x-bar to the n?\n",
    "three = True"
   ]
  },
  {
   "cell_type": "markdown",
   "metadata": {},
   "source": [
    "## _An Alternative Definition_\n",
    "\n",
    "- $\\sum$ symbol indicates addition of a series of numbers\n",
    "    - $\\sum D$ indicates _sum of the distribution D_\n",
    "- $\\sum_{n=1}^{\\infty} x_{i}$ --> customary sum of values\n",
    "    - think of this in terms of `for` loop\n",
    "        - iteration variable is _i_, meaning it takes a different value for each iteration\n",
    "        - previous value is incremented by 1\n",
    "        - iteration stops when _i_ = N"
   ]
  },
  {
   "cell_type": "code",
   "execution_count": 27,
   "metadata": {},
   "outputs": [],
   "source": [
    "# coding the logic\n",
    "distribution = [1, 2, 3]\n",
    "\n",
    "i = 1\n",
    "N = 3\n",
    "sum_of_distribution = 0\n",
    "\n",
    "for _ in range(N):\n",
    "    sum_of_distribution += distribution[i - 1] # subtract 1 because Python lists use zero-based indexing\n",
    "    i += 1"
   ]
  },
  {
   "cell_type": "code",
   "execution_count": 30,
   "metadata": {},
   "outputs": [],
   "source": [
    "# write a function that gathers the population mean\n",
    "def population_mean(num_array):\n",
    "    i = 1\n",
    "    N = len(num_array)\n",
    "    dist_sum = 0\n",
    "    \n",
    "    for _ in range(N):\n",
    "        dist_sum += num_array[i - 1]\n",
    "        i += 1\n",
    "        \n",
    "    return dist_sum / N"
   ]
  },
  {
   "cell_type": "code",
   "execution_count": 31,
   "metadata": {},
   "outputs": [
    {
     "data": {
      "text/plain": [
       "27.25"
      ]
     },
     "execution_count": 31,
     "metadata": {},
     "output_type": "execute_result"
    }
   ],
   "source": [
    "# three distributions of numbers\n",
    "distribution_1 = [42, 24, 32, 11]\n",
    "distribution_2 = [102, 32, 74, 15, 38, 45, 22]\n",
    "distribution_3 = [3, 12, 7, 2, 15, 1, 21]\n",
    "\n",
    "# gather the means of three distributions above with our defined function\n",
    "mean_1 = population_mean(distribution_1)\n",
    "mean_2 = population_mean(distribution_2)\n",
    "mean_3 = population_mean(distribution_3)"
   ]
  },
  {
   "cell_type": "markdown",
   "metadata": {},
   "source": [
    "## _Introducing the Data_\n",
    "\n",
    "- will be working with data set describing characteristics of houses sold beteen 2006-2010 in Ames, IA\n",
    "    - 2930 rows in the data set\n",
    "    - 82 chracteristics described (i.e., means there are 82 columns)\n",
    "- data set was collected by professor [Dean DeCock](https://www.truman.edu/faculty-staff/decock/)\n",
    "    - describes data collection process [here](https://www.tandfonline.com/doi/abs/10.1080/10691898.2011.11889627) \n",
    "    - the Dataquest version is slightly modified for teaching purposes\n",
    "- Reminder:\n",
    "    - Nominal: Categorical data and numbers that are simply used as identifiers or names represent a nominal scale of measurement\n",
    "    - Ordinal: An ordinal scale of measurement represents an ordered series of relationships or rank order (i.e., runners finished in 1st, 2nd, and 3rd place is ordinal)\n",
    "    - Interval: A scale which represents quantity and has equal units but for which zero represents simply an additional point of measurement is an interval scale\n",
    "    - Ratio: The ratio scale of measurement is similar to the interval scale in that it also represents quantity and has equality of units, but this scale does have an absolute zero"
   ]
  },
  {
   "cell_type": "code",
   "execution_count": 33,
   "metadata": {},
   "outputs": [
    {
     "data": {
      "text/html": [
       "<div>\n",
       "<style scoped>\n",
       "    .dataframe tbody tr th:only-of-type {\n",
       "        vertical-align: middle;\n",
       "    }\n",
       "\n",
       "    .dataframe tbody tr th {\n",
       "        vertical-align: top;\n",
       "    }\n",
       "\n",
       "    .dataframe thead th {\n",
       "        text-align: right;\n",
       "    }\n",
       "</style>\n",
       "<table border=\"1\" class=\"dataframe\">\n",
       "  <thead>\n",
       "    <tr style=\"text-align: right;\">\n",
       "      <th></th>\n",
       "      <th>Order</th>\n",
       "      <th>PID</th>\n",
       "      <th>MS SubClass</th>\n",
       "      <th>MS Zoning</th>\n",
       "      <th>Lot Frontage</th>\n",
       "      <th>Lot Area</th>\n",
       "      <th>Street</th>\n",
       "      <th>Alley</th>\n",
       "      <th>Lot Shape</th>\n",
       "      <th>Land Contour</th>\n",
       "      <th>...</th>\n",
       "      <th>Pool Area</th>\n",
       "      <th>Pool QC</th>\n",
       "      <th>Fence</th>\n",
       "      <th>Misc Feature</th>\n",
       "      <th>Misc Val</th>\n",
       "      <th>Mo Sold</th>\n",
       "      <th>Yr Sold</th>\n",
       "      <th>Sale Type</th>\n",
       "      <th>Sale Condition</th>\n",
       "      <th>SalePrice</th>\n",
       "    </tr>\n",
       "  </thead>\n",
       "  <tbody>\n",
       "    <tr>\n",
       "      <th>0</th>\n",
       "      <td>1</td>\n",
       "      <td>526301100</td>\n",
       "      <td>20</td>\n",
       "      <td>RL</td>\n",
       "      <td>141.0</td>\n",
       "      <td>131770</td>\n",
       "      <td>Pave</td>\n",
       "      <td>NaN</td>\n",
       "      <td>IR1</td>\n",
       "      <td>Lvl</td>\n",
       "      <td>...</td>\n",
       "      <td>0</td>\n",
       "      <td>NaN</td>\n",
       "      <td>NaN</td>\n",
       "      <td>NaN</td>\n",
       "      <td>0</td>\n",
       "      <td>5</td>\n",
       "      <td>2010</td>\n",
       "      <td>WD</td>\n",
       "      <td>Normal</td>\n",
       "      <td>215000</td>\n",
       "    </tr>\n",
       "    <tr>\n",
       "      <th>1</th>\n",
       "      <td>2</td>\n",
       "      <td>526350040</td>\n",
       "      <td>20</td>\n",
       "      <td>RH</td>\n",
       "      <td>80.0</td>\n",
       "      <td>11622</td>\n",
       "      <td>Pave</td>\n",
       "      <td>NaN</td>\n",
       "      <td>Reg</td>\n",
       "      <td>Lvl</td>\n",
       "      <td>...</td>\n",
       "      <td>0</td>\n",
       "      <td>NaN</td>\n",
       "      <td>MnPrv</td>\n",
       "      <td>NaN</td>\n",
       "      <td>0</td>\n",
       "      <td>6</td>\n",
       "      <td>2010</td>\n",
       "      <td>WD</td>\n",
       "      <td>Normal</td>\n",
       "      <td>105000</td>\n",
       "    </tr>\n",
       "    <tr>\n",
       "      <th>2</th>\n",
       "      <td>3</td>\n",
       "      <td>526351010</td>\n",
       "      <td>20</td>\n",
       "      <td>RL</td>\n",
       "      <td>81.0</td>\n",
       "      <td>14267</td>\n",
       "      <td>Pave</td>\n",
       "      <td>NaN</td>\n",
       "      <td>IR1</td>\n",
       "      <td>Lvl</td>\n",
       "      <td>...</td>\n",
       "      <td>0</td>\n",
       "      <td>NaN</td>\n",
       "      <td>NaN</td>\n",
       "      <td>Gar2</td>\n",
       "      <td>12500</td>\n",
       "      <td>6</td>\n",
       "      <td>2010</td>\n",
       "      <td>WD</td>\n",
       "      <td>Normal</td>\n",
       "      <td>172000</td>\n",
       "    </tr>\n",
       "    <tr>\n",
       "      <th>3</th>\n",
       "      <td>4</td>\n",
       "      <td>526353030</td>\n",
       "      <td>20</td>\n",
       "      <td>RL</td>\n",
       "      <td>93.0</td>\n",
       "      <td>11160</td>\n",
       "      <td>Pave</td>\n",
       "      <td>NaN</td>\n",
       "      <td>Reg</td>\n",
       "      <td>Lvl</td>\n",
       "      <td>...</td>\n",
       "      <td>0</td>\n",
       "      <td>NaN</td>\n",
       "      <td>NaN</td>\n",
       "      <td>NaN</td>\n",
       "      <td>0</td>\n",
       "      <td>4</td>\n",
       "      <td>2010</td>\n",
       "      <td>WD</td>\n",
       "      <td>Normal</td>\n",
       "      <td>244000</td>\n",
       "    </tr>\n",
       "    <tr>\n",
       "      <th>4</th>\n",
       "      <td>5</td>\n",
       "      <td>527105010</td>\n",
       "      <td>60</td>\n",
       "      <td>RL</td>\n",
       "      <td>74.0</td>\n",
       "      <td>13830</td>\n",
       "      <td>Pave</td>\n",
       "      <td>NaN</td>\n",
       "      <td>IR1</td>\n",
       "      <td>Lvl</td>\n",
       "      <td>...</td>\n",
       "      <td>0</td>\n",
       "      <td>NaN</td>\n",
       "      <td>MnPrv</td>\n",
       "      <td>NaN</td>\n",
       "      <td>0</td>\n",
       "      <td>3</td>\n",
       "      <td>2010</td>\n",
       "      <td>WD</td>\n",
       "      <td>Normal</td>\n",
       "      <td>189900</td>\n",
       "    </tr>\n",
       "  </tbody>\n",
       "</table>\n",
       "<p>5 rows × 82 columns</p>\n",
       "</div>"
      ],
      "text/plain": [
       "   Order        PID  MS SubClass MS Zoning  Lot Frontage  Lot Area Street  \\\n",
       "0      1  526301100           20        RL         141.0    131770   Pave   \n",
       "1      2  526350040           20        RH          80.0     11622   Pave   \n",
       "2      3  526351010           20        RL          81.0     14267   Pave   \n",
       "3      4  526353030           20        RL          93.0     11160   Pave   \n",
       "4      5  527105010           60        RL          74.0     13830   Pave   \n",
       "\n",
       "  Alley Lot Shape Land Contour  ... Pool Area Pool QC  Fence Misc Feature  \\\n",
       "0   NaN       IR1          Lvl  ...         0     NaN    NaN          NaN   \n",
       "1   NaN       Reg          Lvl  ...         0     NaN  MnPrv          NaN   \n",
       "2   NaN       IR1          Lvl  ...         0     NaN    NaN         Gar2   \n",
       "3   NaN       Reg          Lvl  ...         0     NaN    NaN          NaN   \n",
       "4   NaN       IR1          Lvl  ...         0     NaN  MnPrv          NaN   \n",
       "\n",
       "  Misc Val Mo Sold Yr Sold Sale Type  Sale Condition  SalePrice  \n",
       "0        0       5    2010       WD           Normal     215000  \n",
       "1        0       6    2010       WD           Normal     105000  \n",
       "2    12500       6    2010       WD           Normal     172000  \n",
       "3        0       4    2010       WD           Normal     244000  \n",
       "4        0       3    2010       WD           Normal     189900  \n",
       "\n",
       "[5 rows x 82 columns]"
      ]
     },
     "execution_count": 33,
     "metadata": {},
     "output_type": "execute_result"
    }
   ],
   "source": [
    "import pandas as pd\n",
    "\n",
    "# read in Ames housing txt file\n",
    "df = pd.read_csv('data/AmesHousing_1.txt', sep = '\\t')\n",
    "\n",
    "df.head()"
   ]
  },
  {
   "cell_type": "code",
   "execution_count": 39,
   "metadata": {},
   "outputs": [],
   "source": [
    "# this data set has variables measured on every scale of measurement?\n",
    "one = True\n",
    "\n",
    "# SalePrice column is continuous and measured on an interval scale?\n",
    "two = False\n",
    "\n",
    "# original file contained 113 variables and 3970 properties, so our current file is a sample?\n",
    "three = True"
   ]
  },
  {
   "cell_type": "markdown",
   "metadata": {},
   "source": [
    "## _Mean House Prices_\n",
    "\n",
    "- if interested in analyzing distribution of sales prices we could use `describe()` method\n",
    "- alternatively, if we only wanted the mean we could use the `mean()` method"
   ]
  },
  {
   "cell_type": "code",
   "execution_count": 40,
   "metadata": {},
   "outputs": [],
   "source": [
    "# custom function to generate mean of a distribution\n",
    "def mean(distribution):\n",
    "    sum_distribution = 0\n",
    "    for value in distribution:\n",
    "        sum_distribution += value\n",
    "        \n",
    "    return sum_distribution / len(distribution)"
   ]
  },
  {
   "cell_type": "code",
   "execution_count": 42,
   "metadata": {},
   "outputs": [],
   "source": [
    "# use above function to compute mean of SalePrice distribution\n",
    "function_mean = mean(df['SalePrice'])\n",
    "\n",
    "# use pandas to calculate mean of SalePrice distribution\n",
    "pandas_mean = df['SalePrice'].mean()\n",
    "\n",
    "# compare the two variables above to see if they are equal\n",
    "means_are_equal = (function_mean == pandas_mean)"
   ]
  },
  {
   "cell_type": "code",
   "execution_count": 43,
   "metadata": {},
   "outputs": [
    {
     "data": {
      "text/plain": [
       "True"
      ]
     },
     "execution_count": 43,
     "metadata": {},
     "output_type": "execute_result"
    }
   ],
   "source": [
    "means_are_equal"
   ]
  },
  {
   "cell_type": "markdown",
   "metadata": {},
   "source": [
    "## _Estimating the Population Mean_\n",
    "\n",
    "- almost always work with samples\n",
    "    - yet we want to answer questions about populations\n",
    "- best we can do is compute the sample mean and hope it's a good estimate for the population mean\n",
    "    - when estimating population mean with sample mean, three possible scenarios:\n",
    "        - sample mean overestimates population mean\n",
    "        - sample mean underestimates population mean\n",
    "        - sample mean is equal to population mean\n",
    "    - when overestimation, underestimation happens, sampling error has occurred\n",
    "        - so sampling error is equal to the difference between the population mean and the sample mean\n",
    "    - aim is to reduce the sampling error, two important factors that influence it:\n",
    "        - sample representatvitity --> more representative sample is, closer it'll be to population mean\n",
    "        - sample size --> larger the sample, more chances we have to get representative sample"
   ]
  },
  {
   "cell_type": "code",
   "execution_count": 55,
   "metadata": {},
   "outputs": [],
   "source": [
    "# compute mean of the SalePrice variable\n",
    "parameter = df['SalePrice'].mean()\n",
    "# initial sample size\n",
    "sample_size = 5\n",
    "\n",
    "# lists of sample size and sampling error\n",
    "sample_size_list = []\n",
    "sampling_error_list = []\n",
    "# generate sample of SalePrice distribution to see sampling error\n",
    "for i in range(101):\n",
    "    # take sample\n",
    "    sample = df['SalePrice'].sample(n=sample_size, random_state=i)\n",
    "    # increase sample size for next iteration\n",
    "    sample_mean = sample.mean()\n",
    "    # generate sampling error\n",
    "    sampling_error = parameter - sample_mean\n",
    "    # append above value to list of sampling errors\n",
    "    sampling_error_list.append(sampling_error)\n",
    "    # append value of sample size\n",
    "    sample_size_list.append(sample_size)\n",
    "    # increment sample size by 29\n",
    "    sample_size += 29"
   ]
  },
  {
   "cell_type": "code",
   "execution_count": 63,
   "metadata": {},
   "outputs": [
    {
     "data": {
      "image/png": "[encoded data removed]",
      "text/plain": [
       "<Figure size 576x576 with 1 Axes>"
      ]
     },
     "metadata": {
      "image/png": {
       "height": 479,
       "width": 521
      },
      "needs_background": "light"
     },
     "output_type": "display_data"
    }
   ],
   "source": [
    "import matplotlib.pyplot as plt\n",
    "%matplotlib inline\n",
    "%config InlineBackend.figure_format='retina'\n",
    "\n",
    "plt.figure(figsize=(8,8))\n",
    "plt.scatter(x=sample_size_list, y=sampling_error_list)\n",
    "plt.axhline(0, color='red') # indicates where sampling error is 0\n",
    "plt.axvline(2930, color='red') # illustrates population size\n",
    "plt.xlabel('Sample size')\n",
    "plt.ylabel('Sampling error');"
   ]
  },
  {
   "cell_type": "markdown",
   "metadata": {},
   "source": [
    "## _Estimates from Low-Sized Samples_\n",
    "\n",
    "- general tendency for sampling error to decrease as sample size increases\n",
    "    - does have exceptions though\n",
    "    - however, most small samples will give a good estimate of the population mean (see example below)"
   ]
  },
  {
   "cell_type": "code",
   "execution_count": 68,
   "metadata": {},
   "outputs": [
    {
     "data": {
      "image/png": "[encoded data removed]",
      "text/plain": [
       "<Figure size 576x432 with 1 Axes>"
      ]
     },
     "metadata": {
      "image/png": {
       "height": 357,
       "width": 508
      },
      "needs_background": "light"
     },
     "output_type": "display_data"
    }
   ],
   "source": [
    "means = []\n",
    "\n",
    "for i in range(10000):\n",
    "    sample = df['SalePrice'].sample(n=3, random_state=i)\n",
    "    means.append(sample.mean())\n",
    "\n",
    "plt.figure(figsize=(8,6))\n",
    "plt.hist(means, edgecolor='black')\n",
    "plt.axvline(df['SalePrice'].mean(), color='red');"
   ]
  },
  {
   "cell_type": "markdown",
   "metadata": {},
   "source": [
    "- can see most sample means cluster around population mean (i.e., the red line)"
   ]
  },
  {
   "cell_type": "code",
   "execution_count": 73,
   "metadata": {},
   "outputs": [
    {
     "data": {
      "image/png": "[encoded data removed]",
      "text/plain": [
       "<Figure size 576x432 with 1 Axes>"
      ]
     },
     "metadata": {
      "image/png": {
       "height": 372,
       "width": 526
      },
      "needs_background": "light"
     },
     "output_type": "display_data"
    }
   ],
   "source": [
    "# take 10000 samples of sample size = 100\n",
    "means = []\n",
    "\n",
    "for i in range(10000):\n",
    "    sample = df['SalePrice'].sample(n=100, random_state=i)\n",
    "    means.append(sample.mean())\n",
    "\n",
    "# generate histogram to visualize distribution of sample means\n",
    "plt.figure(figsize=(8,6))\n",
    "plt.hist(means, edgecolor='black')\n",
    "plt.axvline(df['SalePrice'].mean(), color='red')\n",
    "plt.xlabel('Sample Mean')\n",
    "plt.ylabel('Frequency')\n",
    "# set x-axis as same range as the one above\n",
    "plt.xlim(right=500000)\n",
    "plt.xlim(left=0);"
   ]
  },
  {
   "cell_type": "markdown",
   "metadata": {},
   "source": [
    "- In general, as we increase sample size, there will be less variability around population mean\n",
    "    - less variability = less chances to get poor estimate for population mean"
   ]
  },
  {
   "cell_type": "markdown",
   "metadata": {},
   "source": [
    "## _The Sample Mean as an Unbiased Estimator_\n",
    "\n",
    "- if we took all possible samples for a given sample size, we'd observe that the mean of the sample means would equal the population mean\n",
    "    - when a statistic is on average equal to the parameter it estimates, we call the statistic an *unbiased estimator*\n",
    "- this also holds true if we sample with replacement\n",
    "    - sample one value and then put it back in population"
   ]
  },
  {
   "cell_type": "code",
   "execution_count": 98,
   "metadata": {},
   "outputs": [
    {
     "name": "stdout",
     "output_type": "stream",
     "text": [
      "True\n"
     ]
    }
   ],
   "source": [
    "from itertools import permutations\n",
    "\n",
    "population = [3, 7, 2]\n",
    "\n",
    "# generate list of all possible combinations of population above\n",
    "combinations = list(permutations(population, 2))\n",
    "\n",
    "# list of the sample means\n",
    "sample_means = [np.mean(combo) for combo in combinations]\n",
    "\n",
    "# generate population mean \n",
    "population_mean = np.mean(population)\n",
    "\n",
    "# generate the mean of the sample means\n",
    "mean_of_sample_means = np.mean(sample_means)\n",
    "\n",
    "# is the mean of the sample means equal to the population mean?\n",
    "unbiased = bool(population_mean == mean_of_sample_means)\n",
    "\n",
    "print(unbiased)"
   ]
  }
 ],
 "metadata": {
  "kernelspec": {
   "display_name": "Python 3",
   "language": "python",
   "name": "python3"
  },
  "language_info": {
   "codemirror_mode": {
    "name": "ipython",
    "version": 3
   },
   "file_extension": ".py",
   "mimetype": "text/x-python",
   "name": "python",
   "nbconvert_exporter": "python",
   "pygments_lexer": "ipython3",
   "version": "3.7.3"
  }
 },
 "nbformat": 4,
 "nbformat_minor": 4
}
