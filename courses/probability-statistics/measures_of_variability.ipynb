{
 "cells": [
  {
   "cell_type": "markdown",
   "metadata": {},
   "source": [
    "# _Dataquest: Measures of Variability_\n",
    "\n",
    "This notebook was adapted from Dataquest's lesson _Measures of Variability_ within their probability and statistics chapter. "
   ]
  },
  {
   "cell_type": "markdown",
   "metadata": {
    "colab_type": "text",
    "id": "LgUoPXc7Yz_R"
   },
   "source": [
    "# _The Range_\n",
    "\n",
    "- one intuitive way to measure variability of distribution: find difference between maximum and minimum value\n",
    "    - this measure is called *the range*\n",
    "    - range = max - min"
   ]
  },
  {
   "cell_type": "code",
   "execution_count": 18,
   "metadata": {
    "colab": {},
    "colab_type": "code",
    "id": "uOtez54ZYIc3"
   },
   "outputs": [],
   "source": [
    "import pandas as pd\n",
    "import matplotlib.pyplot as plt\n",
    "\n",
    "# read in data\n",
    "houses = pd.read_csv('data/AmesHousing_1.txt', sep='\\t')"
   ]
  },
  {
   "cell_type": "code",
   "execution_count": 6,
   "metadata": {
    "colab": {},
    "colab_type": "code",
    "id": "N_B5rfyzZBk4"
   },
   "outputs": [],
   "source": [
    "import numpy as np\n",
    "# function that takes array of numerical values and returns range of array\n",
    "def return_range(array):\n",
    "    '''\n",
    "    Function that takes array of numerical values and returns range\n",
    "    '''\n",
    "    min_val = np.min(array)\n",
    "    max_val = np.max(array)\n",
    "    the_range = abs(min_val - max_val)\n",
    "    return the_range"
   ]
  },
  {
   "cell_type": "code",
   "execution_count": 7,
   "metadata": {
    "colab": {
     "base_uri": "https://localhost:8080/",
     "height": 33
    },
    "colab_type": "code",
    "id": "DxPZUMTIbSTG",
    "outputId": "8ef427f7-b8a2-493c-b7ff-74787a8f1f89"
   },
   "outputs": [
    {
     "data": {
      "text/plain": [
       "742211"
      ]
     },
     "execution_count": 7,
     "metadata": {},
     "output_type": "execute_result"
    }
   ],
   "source": [
    "# using function above, measure range of SalePrice variable\n",
    "return_range(houses['SalePrice'])"
   ]
  },
  {
   "cell_type": "code",
   "execution_count": 8,
   "metadata": {
    "colab": {},
    "colab_type": "code",
    "id": "kofBr-1PcVmH"
   },
   "outputs": [],
   "source": [
    "# gather the range for each year and store in a dictionary\n",
    "range_by_year = {}\n",
    "\n",
    "for year in list(houses['Yr Sold'].unique()):\n",
    "    range_by_year[year] = return_range(houses[houses['Yr Sold'] == year]['SalePrice'])"
   ]
  },
  {
   "cell_type": "code",
   "execution_count": 9,
   "metadata": {
    "colab": {},
    "colab_type": "code",
    "id": "JYt-Uvsoce73"
   },
   "outputs": [],
   "source": [
    "# did prices have the greatest variability in 2008?\n",
    "one = False\n",
    "\n",
    "# prices variability peaked in 2007, decreased until 2010?\n",
    "two = True"
   ]
  },
  {
   "cell_type": "markdown",
   "metadata": {
    "colab_type": "text",
    "id": "ereQWm90lhXd"
   },
   "source": [
    "## _The Average Distance_\n",
    "\n",
    "- problem with range is it considers only two values in distribution\n",
    "    - considers only the *extreme* values (min & max)"
   ]
  },
  {
   "cell_type": "code",
   "execution_count": 10,
   "metadata": {
    "colab": {},
    "colab_type": "code",
    "id": "Jv591K4cdcHX"
   },
   "outputs": [],
   "source": [
    "# function that takes in numerical array and returns average distance\n",
    "def average_distance(array):\n",
    "    '''\n",
    "    takes in numerical array and returns average distance\n",
    "    '''\n",
    "    # compute the mean of the array\n",
    "    array_mean = np.mean(array)\n",
    "    # initialize an empty list\n",
    "    lst = []\n",
    "    # loop through values of the array\n",
    "    for value in array:\n",
    "        distance = value - array_mean\n",
    "        lst.append(distance)\n",
    "\n",
    "    # gather mean of the list\n",
    "    lst_mean = np.mean(lst)\n",
    "    return lst_mean"
   ]
  },
  {
   "cell_type": "code",
   "execution_count": 11,
   "metadata": {
    "colab": {
     "base_uri": "https://localhost:8080/",
     "height": 33
    },
    "colab_type": "code",
    "id": "YOnkhitWm_WV",
    "outputId": "a4705920-dee5-46c5-90e8-27039c1e108a"
   },
   "outputs": [
    {
     "name": "stdout",
     "output_type": "stream",
     "text": [
      "0.0\n"
     ]
    }
   ],
   "source": [
    "# distribution c\n",
    "C = [1,1,1,1,1,1,1,1,1,21]\n",
    "\n",
    "# compute the average distance for the above distribution\n",
    "avg_distance = average_distance(C)\n",
    "\n",
    "# print the result\n",
    "print(avg_distance)"
   ]
  },
  {
   "cell_type": "markdown",
   "metadata": {
    "colab_type": "text",
    "id": "GfBFOpZ9neOr"
   },
   "source": [
    "## _Mean Absolute Deviation_\n",
    "\n",
    "- mean is the balance point of distribution\n",
    "    - total distance of values above/below mean is the same\n",
    "- *absolute value* (also called modulus) of number is the positive version\n",
    "- distance of a value from the mean is called *deviation*"
   ]
  },
  {
   "cell_type": "code",
   "execution_count": 12,
   "metadata": {
    "colab": {},
    "colab_type": "code",
    "id": "4yMHbd__nQ3C"
   },
   "outputs": [],
   "source": [
    "# function that takes numerical array and returns mean absolute deviation\n",
    "def absolute_deviation(array):\n",
    "    '''\n",
    "    takes in numerical array and returns absolute deviation\n",
    "    '''\n",
    "    # compute the mean of the array\n",
    "    array_mean = np.mean(array)\n",
    "    # initialize an empty list\n",
    "    lst = []\n",
    "    # loop through values of the array\n",
    "    for value in array:\n",
    "        distance = abs(value - array_mean)\n",
    "        lst.append(distance)\n",
    "\n",
    "    # gather mean of the list\n",
    "    lst_mean = np.mean(lst)\n",
    "    return lst_mean"
   ]
  },
  {
   "cell_type": "code",
   "execution_count": 13,
   "metadata": {
    "colab": {
     "base_uri": "https://localhost:8080/",
     "height": 33
    },
    "colab_type": "code",
    "id": "cx32o__Kojfp",
    "outputId": "3b02e5c4-ab16-4244-8775-b4a9b850b14f"
   },
   "outputs": [
    {
     "name": "stdout",
     "output_type": "stream",
     "text": [
      "3.6\n"
     ]
    }
   ],
   "source": [
    "# distribution c\n",
    "C = [1,1,1,1,1,1,1,1,1,21]\n",
    "\n",
    "# compute the mean absolute deviation of distribution C\n",
    "mad = absolute_deviation(C)\n",
    "\n",
    "print(mad)"
   ]
  },
  {
   "cell_type": "markdown",
   "metadata": {
    "colab_type": "text",
    "id": "wqpZkjlhpONi"
   },
   "source": [
    "## _Variance_\n",
    "\n",
    "- *variance* --> square each distance and then find the mean of all squared sitances\n",
    "    - sometimes called mean squared distance or mean squared deviation"
   ]
  },
  {
   "cell_type": "code",
   "execution_count": 14,
   "metadata": {
    "colab": {},
    "colab_type": "code",
    "id": "sW04A8Utot1x"
   },
   "outputs": [],
   "source": [
    "# function that takes numerical array and returns variance\n",
    "def variance(array):\n",
    "    '''\n",
    "    Function that takes numerical array and returns variance\n",
    "    '''\n",
    "    # compute mean\n",
    "    array_mean = np.mean(array)\n",
    "    # initialize empty list\n",
    "    lst = []\n",
    "    # loop through values in array\n",
    "    for value in array:\n",
    "        squared_dist = (value - array_mean) ** 2\n",
    "        lst.append(squared_dist)\n",
    "    # gather mean of lst\n",
    "    lst_mean = np.mean(lst)\n",
    "    return lst_mean"
   ]
  },
  {
   "cell_type": "code",
   "execution_count": 15,
   "metadata": {
    "colab": {
     "base_uri": "https://localhost:8080/",
     "height": 33
    },
    "colab_type": "code",
    "id": "hlPCRzRtrFl0",
    "outputId": "581da5db-d183-49a8-b8c8-bf8552e4f813"
   },
   "outputs": [
    {
     "name": "stdout",
     "output_type": "stream",
     "text": [
      "36.0\n"
     ]
    }
   ],
   "source": [
    "# distribution C\n",
    "C = [1,1,1,1,1,1,1,1,1,21]\n",
    "\n",
    "# compute the variance of above distribution \n",
    "variance_c = variance(C)\n",
    "\n",
    "print(variance_c)"
   ]
  },
  {
   "cell_type": "markdown",
   "metadata": {
    "colab": {},
    "colab_type": "code",
    "id": "JqwcBcESrykS"
   },
   "source": [
    "## _Standard Deviation_\n",
    "\n",
    "- squaring the distances has drawback of squaring the units of measurement\n",
    "    - to solve this and reduce the variability value, we take the square root of the variance\n",
    "- *standard deviation* --> square root of variance"
   ]
  },
  {
   "cell_type": "code",
   "execution_count": 16,
   "metadata": {},
   "outputs": [],
   "source": [
    "from math import sqrt\n",
    "# function that takes in a numerical array and returns standard deviation of the array\n",
    "def standard_deviation(array):\n",
    "    '''\n",
    "    Function that takes numerical array and calculates the standard deviation\n",
    "    '''\n",
    "    # compute the mean of the array\n",
    "    array_mean = np.mean(array)\n",
    "    # create empty list\n",
    "    lst = []\n",
    "    # loop through the values of the array\n",
    "    for value in array:\n",
    "        squared_dist = (value - array_mean) ** 2\n",
    "        lst.append(squared_dist)\n",
    "    # gather mean of the list (i.e. the variance)\n",
    "    lst_mean = np.mean(lst)\n",
    "    # get square root of the variance\n",
    "    std_dev = sqrt(lst_mean)\n",
    "    return std_dev"
   ]
  },
  {
   "cell_type": "code",
   "execution_count": 17,
   "metadata": {},
   "outputs": [
    {
     "name": "stdout",
     "output_type": "stream",
     "text": [
      "6.0\n"
     ]
    }
   ],
   "source": [
    "# distribution C\n",
    "C = [1,1,1,1,1,1,1,1,1,21]\n",
    "\n",
    "# compute the standard deviation of distribution C\n",
    "standard_deviation_C = standard_deviation(C)\n",
    "\n",
    "print(standard_deviation_C)"
   ]
  },
  {
   "cell_type": "markdown",
   "metadata": {},
   "source": [
    "## _Average Variability Around the Mean_\n",
    "\n",
    "- in practice, standard deviation --> most used measure of variability\n",
    "    - tells us how much the values in a distribution vary (on average) around mean of distribution\n",
    "- below is a visualization of the variability around the mean of the `SalePrice` column"
   ]
  },
  {
   "cell_type": "code",
   "execution_count": 23,
   "metadata": {},
   "outputs": [
    {
     "data": {
      "image/png": "[encoded data removed]",
      "text/plain": [
       "<Figure size 576x576 with 1 Axes>"
      ]
     },
     "metadata": {
      "image/png": {
       "height": 465,
       "width": 506
      },
      "needs_background": "light"
     },
     "output_type": "display_data"
    }
   ],
   "source": [
    "# generate a histogram of SalePrice variable\n",
    "mean = houses['SalePrice'].mean()\n",
    "st_dev = standard_deviation(houses['SalePrice'])\n",
    "houses['SalePrice'].plot.hist(figsize=(8,8))\n",
    "plt.axvline(mean, color = 'black', label = 'Mean')\n",
    "plt.axvline(mean - st_dev, color = 'red', label = 'Below')\n",
    "plt.axvline(mean + st_dev, color = 'violet', label = 'Above')\n",
    "plt.legend();"
   ]
  },
  {
   "cell_type": "code",
   "execution_count": 84,
   "metadata": {},
   "outputs": [
    {
     "data": {
      "text/plain": [
       "{2010: 74631.4313083648,\n",
       " 2009: 80856.80430109256,\n",
       " 2008: 75592.73653419659,\n",
       " 2007: 82542.77462863794,\n",
       " 2006: 82619.69785337095}"
      ]
     },
     "execution_count": 84,
     "metadata": {},
     "output_type": "execute_result"
    }
   ],
   "source": [
    "# gather the standard deviation for each year and store in a dictionary\n",
    "std_by_year = {}\n",
    "\n",
    "for year in list(houses['Yr Sold'].unique()):\n",
    "    std_by_year[year] = standard_deviation(houses[houses['Yr Sold'] == year]['SalePrice'])\n",
    "    \n",
    "# print out the standard deviation for each year\n",
    "std_by_year"
   ]
  },
  {
   "cell_type": "code",
   "execution_count": 80,
   "metadata": {},
   "outputs": [],
   "source": [
    "# which year had the greatest variability of prices?\n",
    "greatest_variability = 2006\n",
    "\n",
    "# which year had the lowest variability of prices?\n",
    "lowest_variability = 2010"
   ]
  },
  {
   "cell_type": "markdown",
   "metadata": {},
   "source": [
    "## _A Measure of Spread_\n",
    "\n",
    "- values in a distribution can be more or less spread\n",
    "- below is four random samples of 50 sample points from `SalePrice`"
   ]
  },
  {
   "cell_type": "code",
   "execution_count": 75,
   "metadata": {},
   "outputs": [
    {
     "name": "stdout",
     "output_type": "stream",
     "text": [
      "Sample 1: 82615.40783167434\n",
      "Sample 2: 101389.64727355911\n",
      "Sample 3: 61292.05469999304\n",
      "Sample 4: 65090.5935879575\n"
     ]
    }
   ],
   "source": [
    "for i in range(1,5):\n",
    "    sample = houses['SalePrice'].sample(50, random_state = i)\n",
    "    # we used the same random states for the samples in the graph above\n",
    "    st_dev = standard_deviation(sample)\n",
    "    print('Sample ' + str(i) + ': ' + str(st_dev))\n",
    "    \n",
    "# take two samples from houses\n",
    "sample1 = houses['Year Built'].sample(50, random_state = 1)\n",
    "sample2 = houses['Year Built'].sample(50, random_state = 2)"
   ]
  },
  {
   "cell_type": "code",
   "execution_count": 76,
   "metadata": {},
   "outputs": [
    {
     "data": {
      "image/png": "[encoded data removed]",
      "text/plain": [
       "<Figure size 432x288 with 1 Axes>"
      ]
     },
     "metadata": {
      "image/png": {
       "height": 248,
       "width": 382
      },
      "needs_background": "light"
     },
     "output_type": "display_data"
    }
   ],
   "source": [
    "# plot sample 1\n",
    "sample1.plot.hist();"
   ]
  },
  {
   "cell_type": "code",
   "execution_count": 77,
   "metadata": {},
   "outputs": [
    {
     "data": {
      "image/png": "[encoded data removed]",
      "text/plain": [
       "<Figure size 432x288 with 1 Axes>"
      ]
     },
     "metadata": {
      "image/png": {
       "height": 248,
       "width": 382
      },
      "needs_background": "light"
     },
     "output_type": "display_data"
    }
   ],
   "source": [
    "# plot sample 2\n",
    "sample2.plot.hist();"
   ]
  },
  {
   "cell_type": "code",
   "execution_count": 41,
   "metadata": {},
   "outputs": [],
   "source": [
    "# which sample has a bigger spread?\n",
    "bigger_spread = 'sample 2'\n",
    "\n",
    "# assign standard deviation of sample 1 to variable\n",
    "st_dev1 = standard_deviation(sample1)\n",
    "\n",
    "# calculate standard deviation of sample 2 to a variable\n",
    "st_dev2 = standard_deviation(sample2)"
   ]
  },
  {
   "cell_type": "markdown",
   "metadata": {},
   "source": [
    "## _The Sample Standard Deviation_\n",
    "\n",
    "- in practice, we generally work with samples\n",
    "    - want to use samples to make inferences about their corresponding populations\n",
    "- can use the sample mean as an estimate of the population mean\n",
    "- lowercase n describes the number of data points in a sample\n",
    "- to check the reliability, we repeatedly sample a known population and see how the *sample* standard deviatiations compare on average to the *population* standard deviation"
   ]
  },
  {
   "cell_type": "code",
   "execution_count": 48,
   "metadata": {},
   "outputs": [
    {
     "data": {
      "image/png": "[encoded data removed]",
      "text/plain": [
       "<Figure size 432x288 with 1 Axes>"
      ]
     },
     "metadata": {
      "image/png": {
       "height": 248,
       "width": 381
      },
      "needs_background": "light"
     },
     "output_type": "display_data"
    }
   ],
   "source": [
    "# sample SalePrice (i.e. population) 5000 times with 10 sample data points\n",
    "sample_std_list = []\n",
    "\n",
    "for n in range(5000):\n",
    "    sample = houses['SalePrice'].sample(n=10, random_state=n)\n",
    "    sample_std_list.append(standard_deviation(sample))\n",
    "    \n",
    "# generate a histogram to visualize the above distribution\n",
    "plt.hist(sample_std_list, edgecolor='black')\n",
    "plt.axvline(np.std(houses['SalePrice']), color='red');"
   ]
  },
  {
   "cell_type": "markdown",
   "metadata": {},
   "source": [
    "## _Bessel's Correction_\n",
    "\n",
    "- the above example suggests that the sample standard deviation tends to *underestimate* the population standard deviation\n",
    "    - on average, we'll encounter situations where sample standard deviation < population standard deviation\n",
    "- when we sample, more likely to get a spread that is lower than the population's\n",
    "    - generally translates to lower standard deviation\n",
    "- to correct underestimation, we can slightly modify sample standard deviation formula to return higher values\n",
    "    - one way --> decrease the value of the denominator (*n - 1*)\n",
    "    - the above is called **Bessel's correction**"
   ]
  },
  {
   "cell_type": "code",
   "execution_count": 53,
   "metadata": {},
   "outputs": [],
   "source": [
    "# implement Bessel's correction in original standard deviation function\n",
    "def standard_deviation(array):\n",
    "    '''\n",
    "    Function that takes numerical array and calculates the standard deviation\n",
    "    '''\n",
    "    # compute the mean of the array\n",
    "    array_mean = np.mean(array)\n",
    "    # create empty list\n",
    "    lst = []\n",
    "    # loop through the values of the array\n",
    "    for value in array:\n",
    "        squared_dist = (value - array_mean) ** 2\n",
    "        lst.append(squared_dist)\n",
    "    # gather mean of the list (i.e. the variance)\n",
    "    lst_mean = np.sum(lst) / (len(lst) - 1)\n",
    "    # get square root of the variance\n",
    "    std_dev = sqrt(lst_mean)\n",
    "    return std_dev"
   ]
  },
  {
   "cell_type": "code",
   "execution_count": 54,
   "metadata": {},
   "outputs": [
    {
     "data": {
      "image/png": "[encoded data removed]",
      "text/plain": [
       "<Figure size 432x288 with 1 Axes>"
      ]
     },
     "metadata": {
      "image/png": {
       "height": 248,
       "width": 397
      },
      "needs_background": "light"
     },
     "output_type": "display_data"
    }
   ],
   "source": [
    "# rerun sample SalePrice (i.e. population) 5000 times with 10 sample data points\n",
    "sample_std_list = []\n",
    "\n",
    "for n in range(5000):\n",
    "    sample = houses['SalePrice'].sample(n=10, random_state=n)\n",
    "    sample_std_list.append(standard_deviation(sample))\n",
    "    \n",
    "# generate a histogram to visualize the above distribution\n",
    "plt.hist(sample_std_list, edgecolor='black')\n",
    "plt.axvline(np.std(houses['SalePrice']), color='red');"
   ]
  },
  {
   "cell_type": "markdown",
   "metadata": {},
   "source": [
    "## _Standard Notation_\n",
    "\n",
    "- statisticians agree that *n - 1* is best choice for sample standard deviation formula\n",
    "- population standard deviaiton is denoted with the Greek letter σ ('sigma')\n",
    "    - population variance is written as σ squared\n",
    "- sample standard deviation is simply denoted with _s_ (and variance is _s squared_)"
   ]
  },
  {
   "cell_type": "code",
   "execution_count": 65,
   "metadata": {},
   "outputs": [],
   "source": [
    "# sample generated by Dataquest\n",
    "sample = houses.sample(100, random_state = 1)\n",
    "\n",
    "from numpy import std, var\n",
    "\n",
    "# use the std() method to compute the sample standard deviation\n",
    "pandas_stdev = sample['SalePrice'].std(ddof=1)\n",
    "\n",
    "# use numpy.std() function to compute sample standard deviation\n",
    "numpy_stdev = std(sample['SalePrice'], ddof=1)\n",
    "\n",
    "# compare the standard deviations from pandas and numpy\n",
    "equal_stdevs = pandas_stdev == numpy_stdev\n",
    "\n",
    "# use Series.var() method to compute sample variance\n",
    "pandas_var = sample['SalePrice'].var(ddof=1)\n",
    "\n",
    "# use numpy to compute sample variance\n",
    "numpy_var = var(sample['SalePrice'], ddof=1)\n",
    "\n",
    "# compare pandas and numpy calculations of the variance\n",
    "equal_vars = pandas_var == numpy_var"
   ]
  },
  {
   "cell_type": "markdown",
   "metadata": {},
   "source": [
    "## _Sample Variance -- Unbiased Estimator_\n",
    "\n",
    "- sample variance is unbiased estimator for population variance\n",
    "    - statistic is unbiased estimator when that statistic is equal on average to the parameter it estimates\n",
    "    - caveat --> sample variance is unbiased only when we sample with replacement\n",
    "- unbiasedness doesn't carry over to standard deviation"
   ]
  },
  {
   "cell_type": "code",
   "execution_count": 78,
   "metadata": {},
   "outputs": [],
   "source": [
    "# population\n",
    "population = [0, 3, 6]\n",
    "\n",
    "# all possible combinations of the above population\n",
    "samples = [[0,3], [0,6],\n",
    "           [3,0], [3,6],\n",
    "           [6,0], [6,3]]\n",
    "\n",
    "sample_variance = []\n",
    "sample_std = []\n",
    "\n",
    "# compute sample variance/std for each sample\n",
    "for sample in samples:\n",
    "    sample_variance.append(np.var(sample, ddof=1))\n",
    "    sample_std.append(np.std(sample, ddof=1))\n",
    "\n",
    "# take the mean of all the sample variances\n",
    "mean_sample_variance = np.mean(sample_variance)\n",
    "\n",
    "# compare the mean variance with population variance\n",
    "equal_var = mean_sample_variance == (np.var(population))\n",
    "    \n",
    "# take the mean of all the sample std's\n",
    "mean_sample_std = np.mean(sample_std)\n",
    "\n",
    "# compare the mean std with population std\n",
    "equal_stdev = mean_sample_std == (np.std(population))"
   ]
  },
  {
   "cell_type": "markdown",
   "metadata": {},
   "source": [
    "**_The End :)_**"
   ]
  }
 ],
 "metadata": {
  "colab": {
   "name": "measures-of-variability.ipynb",
   "provenance": []
  },
  "kernelspec": {
   "display_name": "Python 3",
   "language": "python",
   "name": "python3"
  },
  "language_info": {
   "codemirror_mode": {
    "name": "ipython",
    "version": 3
   },
   "file_extension": ".py",
   "mimetype": "text/x-python",
   "name": "python",
   "nbconvert_exporter": "python",
   "pygments_lexer": "ipython3",
   "version": "3.7.3"
  }
 },
 "nbformat": 4,
 "nbformat_minor": 4
}
