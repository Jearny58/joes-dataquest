{
 "cells": [
  {
   "cell_type": "markdown",
   "metadata": {},
   "source": [
    "# _Dataquest: The Weighted Mean and The Median_\n",
    "\n",
    "This notebook was adapted from Dataquest's lesson _The Weighted Mean And The Median_ within their probability and statistics chapter. "
   ]
  },
  {
   "cell_type": "code",
   "execution_count": 2,
   "metadata": {},
   "outputs": [
    {
     "data": {
      "text/html": [
       "<div>\n",
       "<style scoped>\n",
       "    .dataframe tbody tr th:only-of-type {\n",
       "        vertical-align: middle;\n",
       "    }\n",
       "\n",
       "    .dataframe tbody tr th {\n",
       "        vertical-align: top;\n",
       "    }\n",
       "\n",
       "    .dataframe thead th {\n",
       "        text-align: right;\n",
       "    }\n",
       "</style>\n",
       "<table border=\"1\" class=\"dataframe\">\n",
       "  <thead>\n",
       "    <tr style=\"text-align: right;\">\n",
       "      <th></th>\n",
       "      <th>Order</th>\n",
       "      <th>PID</th>\n",
       "      <th>MS SubClass</th>\n",
       "      <th>MS Zoning</th>\n",
       "      <th>Lot Frontage</th>\n",
       "      <th>Lot Area</th>\n",
       "      <th>Street</th>\n",
       "      <th>Alley</th>\n",
       "      <th>Lot Shape</th>\n",
       "      <th>Land Contour</th>\n",
       "      <th>...</th>\n",
       "      <th>Pool Area</th>\n",
       "      <th>Pool QC</th>\n",
       "      <th>Fence</th>\n",
       "      <th>Misc Feature</th>\n",
       "      <th>Misc Val</th>\n",
       "      <th>Mo Sold</th>\n",
       "      <th>Yr Sold</th>\n",
       "      <th>Sale Type</th>\n",
       "      <th>Sale Condition</th>\n",
       "      <th>SalePrice</th>\n",
       "    </tr>\n",
       "  </thead>\n",
       "  <tbody>\n",
       "    <tr>\n",
       "      <th>0</th>\n",
       "      <td>1</td>\n",
       "      <td>526301100</td>\n",
       "      <td>20</td>\n",
       "      <td>RL</td>\n",
       "      <td>141.0</td>\n",
       "      <td>131770</td>\n",
       "      <td>Pave</td>\n",
       "      <td>NaN</td>\n",
       "      <td>IR1</td>\n",
       "      <td>Lvl</td>\n",
       "      <td>...</td>\n",
       "      <td>0</td>\n",
       "      <td>NaN</td>\n",
       "      <td>NaN</td>\n",
       "      <td>NaN</td>\n",
       "      <td>0</td>\n",
       "      <td>5</td>\n",
       "      <td>2010</td>\n",
       "      <td>WD</td>\n",
       "      <td>Normal</td>\n",
       "      <td>215000</td>\n",
       "    </tr>\n",
       "    <tr>\n",
       "      <th>1</th>\n",
       "      <td>2</td>\n",
       "      <td>526350040</td>\n",
       "      <td>20</td>\n",
       "      <td>RH</td>\n",
       "      <td>80.0</td>\n",
       "      <td>11622</td>\n",
       "      <td>Pave</td>\n",
       "      <td>NaN</td>\n",
       "      <td>Reg</td>\n",
       "      <td>Lvl</td>\n",
       "      <td>...</td>\n",
       "      <td>0</td>\n",
       "      <td>NaN</td>\n",
       "      <td>MnPrv</td>\n",
       "      <td>NaN</td>\n",
       "      <td>0</td>\n",
       "      <td>6</td>\n",
       "      <td>2010</td>\n",
       "      <td>WD</td>\n",
       "      <td>Normal</td>\n",
       "      <td>105000</td>\n",
       "    </tr>\n",
       "    <tr>\n",
       "      <th>2</th>\n",
       "      <td>3</td>\n",
       "      <td>526351010</td>\n",
       "      <td>20</td>\n",
       "      <td>RL</td>\n",
       "      <td>81.0</td>\n",
       "      <td>14267</td>\n",
       "      <td>Pave</td>\n",
       "      <td>NaN</td>\n",
       "      <td>IR1</td>\n",
       "      <td>Lvl</td>\n",
       "      <td>...</td>\n",
       "      <td>0</td>\n",
       "      <td>NaN</td>\n",
       "      <td>NaN</td>\n",
       "      <td>Gar2</td>\n",
       "      <td>12500</td>\n",
       "      <td>6</td>\n",
       "      <td>2010</td>\n",
       "      <td>WD</td>\n",
       "      <td>Normal</td>\n",
       "      <td>172000</td>\n",
       "    </tr>\n",
       "    <tr>\n",
       "      <th>3</th>\n",
       "      <td>4</td>\n",
       "      <td>526353030</td>\n",
       "      <td>20</td>\n",
       "      <td>RL</td>\n",
       "      <td>93.0</td>\n",
       "      <td>11160</td>\n",
       "      <td>Pave</td>\n",
       "      <td>NaN</td>\n",
       "      <td>Reg</td>\n",
       "      <td>Lvl</td>\n",
       "      <td>...</td>\n",
       "      <td>0</td>\n",
       "      <td>NaN</td>\n",
       "      <td>NaN</td>\n",
       "      <td>NaN</td>\n",
       "      <td>0</td>\n",
       "      <td>4</td>\n",
       "      <td>2010</td>\n",
       "      <td>WD</td>\n",
       "      <td>Normal</td>\n",
       "      <td>244000</td>\n",
       "    </tr>\n",
       "    <tr>\n",
       "      <th>4</th>\n",
       "      <td>5</td>\n",
       "      <td>527105010</td>\n",
       "      <td>60</td>\n",
       "      <td>RL</td>\n",
       "      <td>74.0</td>\n",
       "      <td>13830</td>\n",
       "      <td>Pave</td>\n",
       "      <td>NaN</td>\n",
       "      <td>IR1</td>\n",
       "      <td>Lvl</td>\n",
       "      <td>...</td>\n",
       "      <td>0</td>\n",
       "      <td>NaN</td>\n",
       "      <td>MnPrv</td>\n",
       "      <td>NaN</td>\n",
       "      <td>0</td>\n",
       "      <td>3</td>\n",
       "      <td>2010</td>\n",
       "      <td>WD</td>\n",
       "      <td>Normal</td>\n",
       "      <td>189900</td>\n",
       "    </tr>\n",
       "  </tbody>\n",
       "</table>\n",
       "<p>5 rows × 82 columns</p>\n",
       "</div>"
      ],
      "text/plain": [
       "   Order        PID  MS SubClass MS Zoning  Lot Frontage  Lot Area Street  \\\n",
       "0      1  526301100           20        RL         141.0    131770   Pave   \n",
       "1      2  526350040           20        RH          80.0     11622   Pave   \n",
       "2      3  526351010           20        RL          81.0     14267   Pave   \n",
       "3      4  526353030           20        RL          93.0     11160   Pave   \n",
       "4      5  527105010           60        RL          74.0     13830   Pave   \n",
       "\n",
       "  Alley Lot Shape Land Contour  ... Pool Area Pool QC  Fence Misc Feature  \\\n",
       "0   NaN       IR1          Lvl  ...         0     NaN    NaN          NaN   \n",
       "1   NaN       Reg          Lvl  ...         0     NaN  MnPrv          NaN   \n",
       "2   NaN       IR1          Lvl  ...         0     NaN    NaN         Gar2   \n",
       "3   NaN       Reg          Lvl  ...         0     NaN    NaN          NaN   \n",
       "4   NaN       IR1          Lvl  ...         0     NaN  MnPrv          NaN   \n",
       "\n",
       "  Misc Val Mo Sold Yr Sold Sale Type  Sale Condition  SalePrice  \n",
       "0        0       5    2010       WD           Normal     215000  \n",
       "1        0       6    2010       WD           Normal     105000  \n",
       "2    12500       6    2010       WD           Normal     172000  \n",
       "3        0       4    2010       WD           Normal     244000  \n",
       "4        0       3    2010       WD           Normal     189900  \n",
       "\n",
       "[5 rows x 82 columns]"
      ]
     },
     "execution_count": 2,
     "metadata": {},
     "output_type": "execute_result"
    }
   ],
   "source": [
    "# load in data\n",
    "import pandas as pd\n",
    "\n",
    "# read in Ames housing txt file\n",
    "houses = pd.read_csv('data/AmesHousing_1.txt', sep = '\\t')\n",
    "\n",
    "houses.head()"
   ]
  },
  {
   "cell_type": "code",
   "execution_count": 15,
   "metadata": {},
   "outputs": [],
   "source": [
    "# code below generates the summary table used by Dataquest for the first excercise\n",
    "houses_per_year = houses.groupby('Yr Sold', as_index=False).agg({'SalePrice': 'mean',\n",
    "                                                               'Sale Condition': 'count'})\n",
    "houses_per_year.columns = ['Year', 'Mean Price', 'Houses Sold']\n",
    "houses_per_year['Year'] = summary_table['Year'].astype('category')"
   ]
  },
  {
   "cell_type": "code",
   "execution_count": 17,
   "metadata": {},
   "outputs": [
    {
     "name": "stdout",
     "output_type": "stream",
     "text": [
      "847.3055805878539\n"
     ]
    }
   ],
   "source": [
    "# compute the mean price in houses_per_year\n",
    "mean_new = houses_per_year['Mean Price'].mean()\n",
    "\n",
    "# compute the mean of the SalePrice column in houses data set\n",
    "mean_original = houses['SalePrice'].mean()\n",
    "\n",
    "# get difference between two means\n",
    "difference = mean_original - mean_new\n",
    "\n",
    "print(difference)"
   ]
  },
  {
   "cell_type": "markdown",
   "metadata": {},
   "source": [
    "## _Different Weights_\n",
    "\n",
    "- counterintuitively, in previous exercise the two means were not equal to each other\n",
    "    - root issue: different number of houses sold each year\n",
    "    - means that prices for each individual year weights differently in the overal mean\n",
    "- to compute the correct overall mean, we need to:\n",
    "    - find sum of prices for each year individually\n",
    "    - add all the sums together\n",
    "    - Divide the funal sum by the number of houses sold (not the number of years) to find the mean sale price"
   ]
  },
  {
   "cell_type": "code",
   "execution_count": 21,
   "metadata": {},
   "outputs": [
    {
     "data": {
      "text/html": [
       "<div>\n",
       "<style scoped>\n",
       "    .dataframe tbody tr th:only-of-type {\n",
       "        vertical-align: middle;\n",
       "    }\n",
       "\n",
       "    .dataframe tbody tr th {\n",
       "        vertical-align: top;\n",
       "    }\n",
       "\n",
       "    .dataframe thead th {\n",
       "        text-align: right;\n",
       "    }\n",
       "</style>\n",
       "<table border=\"1\" class=\"dataframe\">\n",
       "  <thead>\n",
       "    <tr style=\"text-align: right;\">\n",
       "      <th></th>\n",
       "      <th>Year</th>\n",
       "      <th>Mean Price</th>\n",
       "      <th>Houses Sold</th>\n",
       "      <th>sum</th>\n",
       "    </tr>\n",
       "  </thead>\n",
       "  <tbody>\n",
       "    <tr>\n",
       "      <th>0</th>\n",
       "      <td>2006</td>\n",
       "      <td>181761.648000</td>\n",
       "      <td>625</td>\n",
       "      <td>113601030.0</td>\n",
       "    </tr>\n",
       "    <tr>\n",
       "      <th>1</th>\n",
       "      <td>2007</td>\n",
       "      <td>185138.207493</td>\n",
       "      <td>694</td>\n",
       "      <td>128485916.0</td>\n",
       "    </tr>\n",
       "    <tr>\n",
       "      <th>2</th>\n",
       "      <td>2008</td>\n",
       "      <td>178841.750804</td>\n",
       "      <td>622</td>\n",
       "      <td>111239569.0</td>\n",
       "    </tr>\n",
       "    <tr>\n",
       "      <th>3</th>\n",
       "      <td>2009</td>\n",
       "      <td>181404.567901</td>\n",
       "      <td>648</td>\n",
       "      <td>117550160.0</td>\n",
       "    </tr>\n",
       "    <tr>\n",
       "      <th>4</th>\n",
       "      <td>2010</td>\n",
       "      <td>172597.598240</td>\n",
       "      <td>341</td>\n",
       "      <td>58855781.0</td>\n",
       "    </tr>\n",
       "  </tbody>\n",
       "</table>\n",
       "</div>"
      ],
      "text/plain": [
       "   Year     Mean Price  Houses Sold          sum\n",
       "0  2006  181761.648000          625  113601030.0\n",
       "1  2007  185138.207493          694  128485916.0\n",
       "2  2008  178841.750804          622  111239569.0\n",
       "3  2009  181404.567901          648  117550160.0\n",
       "4  2010  172597.598240          341   58855781.0"
      ]
     },
     "execution_count": 21,
     "metadata": {},
     "output_type": "execute_result"
    }
   ],
   "source": [
    "# compute sum of prices for each year\n",
    "houses_per_year['sum'] = houses_per_year['Mean Price'] * houses_per_year['Houses Sold']\n",
    "\n",
    "# check out the new columns\n",
    "houses_per_year"
   ]
  },
  {
   "cell_type": "code",
   "execution_count": 27,
   "metadata": {},
   "outputs": [
    {
     "name": "stdout",
     "output_type": "stream",
     "text": [
      "0.0\n"
     ]
    }
   ],
   "source": [
    "# add all the sums together\n",
    "sums_together = houses_per_year['sum'].sum()\n",
    "\n",
    "# gather the sum of the Houses Sold column\n",
    "houses_sold = houses_per_year['Houses Sold'].sum()\n",
    "\n",
    "# compute the weighted mean\n",
    "weighted_mean = round(sums_together / houses_sold, 10)\n",
    "\n",
    "# compute the mean of the SalePrice column in houses\n",
    "mean_original = round(houses['SalePrice'].mean(), 10)\n",
    "\n",
    "# get the difference between the original mean and the weighted mean\n",
    "difference = weighted_mean - mean_original\n",
    "\n",
    "print(difference)"
   ]
  },
  {
   "cell_type": "markdown",
   "metadata": {},
   "source": [
    "## _The Weighted Mean_\n",
    "\n",
    "- what we did above was compute the weighted mean\n",
    "- weighted mean = sum of (value multiplied by its corresponding weight) divivded by the summations of all the weights"
   ]
  },
  {
   "cell_type": "code",
   "execution_count": 28,
   "metadata": {},
   "outputs": [],
   "source": [
    "import numpy as np\n",
    "\n",
    "# define a function that computes the weighted mean for any array of numbers\n",
    "def weighted_mean(mean_values, weights):\n",
    "    '''\n",
    "    Function that takes two arrays - one containing the mean values and the other the corresponding weights \n",
    "    and then computes/returns the weighted mean \n",
    "    '''\n",
    "    # calculate the total for each value by multiplying it by its weight\n",
    "    values_sum = mean_values * weights\n",
    "    \n",
    "    # add all the sums together\n",
    "    sums_together = np.sum(values_sum)\n",
    "    \n",
    "    # gather the sum of all the weights\n",
    "    weights_together = np.sum(weights)\n",
    "    \n",
    "    # calculate weighted mean\n",
    "    weighted_mean = round(sums_together / weights_together, 10)\n",
    "    \n",
    "    return weighted_mean"
   ]
  },
  {
   "cell_type": "code",
   "execution_count": 31,
   "metadata": {},
   "outputs": [],
   "source": [
    "# use the function from above to compute the weighted mean for the Mean Price column in houses_per year\n",
    "weighted_mean_function = weighted_mean(houses_per_year['Mean Price'], houses_per_year['Houses Sold'])"
   ]
  },
  {
   "cell_type": "code",
   "execution_count": 33,
   "metadata": {},
   "outputs": [],
   "source": [
    "# use the np.average function to compute the weighted mean for the Mean Price column\n",
    "weighted_mean_numpy = round(np.average(houses_per_year['Mean Price'], weights=houses_per_year['Houses Sold']), 10)"
   ]
  },
  {
   "cell_type": "code",
   "execution_count": 35,
   "metadata": {},
   "outputs": [
    {
     "data": {
      "text/plain": [
       "True"
      ]
     },
     "execution_count": 35,
     "metadata": {},
     "output_type": "execute_result"
    }
   ],
   "source": [
    "# check to see if the two weighted means are the same\n",
    "equal = weighted_mean_function == weighted_mean_numpy"
   ]
  },
  {
   "cell_type": "markdown",
   "metadata": {},
   "source": [
    "## _The Median for Open-ended Distributions_\n",
    "\n",
    "- there are distributions where it's impossible to comute the mean (see example below)"
   ]
  },
  {
   "cell_type": "code",
   "execution_count": 36,
   "metadata": {},
   "outputs": [
    {
     "name": "stdout",
     "output_type": "stream",
     "text": [
      "6             844\n",
      "7             649\n",
      "5             586\n",
      "8             347\n",
      "4             203\n",
      "9             143\n",
      "10 or more    131\n",
      "3              26\n",
      "2               1\n",
      "Name: TotRms AbvGrd, dtype: int64\n"
     ]
    }
   ],
   "source": [
    "print(houses['TotRms AbvGrd'].value_counts())"
   ]
  },
  {
   "cell_type": "markdown",
   "metadata": {},
   "source": [
    "- lowest boundary of distribution is well-defined (i.e. _2_)\n",
    "- highest values is not clearly defined (i.e. _10 or more_)\n",
    "    - we say this variable has an open-ended distribution\n",
    "- common workaround to calculating mean in situation like this:\n",
    "    - sort all values in distribution in ascending order\n",
    "    - then select middle value as the most representative value of the distribution"
   ]
  },
  {
   "cell_type": "code",
   "execution_count": 49,
   "metadata": {},
   "outputs": [],
   "source": [
    "# generate different distributions for exercise\n",
    "distribution1 = [23, 24, 22, '20 years or lower,', 23, 42, 35]\n",
    "distribution2 = [55, 38, 123, 40, 71]\n",
    "distribution3 = [45, 22, 7, '5 books or lower', 32, 65, '100 books or more']\n",
    "\n",
    "# get medians of the above distributions\n",
    "median1 = sorted(distribution1, key=lambda x: str(x))[3]\n",
    "median2 = np.median(distribution2)\n",
    "median3 = 32"
   ]
  },
  {
   "cell_type": "markdown",
   "metadata": {},
   "source": [
    "## _Distributions with Even Number of Values_\n",
    "\n",
    "- sorted distribution with 6 values, impossible to choose value that divides in two halves\n",
    "- workaround: take two middle values amd compute their mean"
   ]
  },
  {
   "cell_type": "code",
   "execution_count": 54,
   "metadata": {},
   "outputs": [],
   "source": [
    "# find the median value of the TotRms AbvGrd column\n",
    "totrms = houses['TotRms AbvGrd'].copy()\n",
    "\n",
    "# first, replace the '10 or more' value with the integer 10\n",
    "totrms = totrms.replace('10 or more', 10)\n",
    "\n",
    "# convert the column to the int type\n",
    "totrms = totrms.astype(int)\n",
    "\n",
    "# get the median of totrms\n",
    "median = np.median(totrms)"
   ]
  },
  {
   "cell_type": "markdown",
   "metadata": {},
   "source": [
    "## _The Median as a Resistant Statistic_\n",
    "\n",
    "- when we compute the median, we don't consider equally each value in distribution\n",
    "    - only consider the middle value (or middle two in case even number of values)\n",
    "- the mean can change, but the median can stay the same\n",
    "    - median is resistant to changes in data (i.e. a robust statistic)\n",
    "    - property makes median ideal for distributions containing outliers"
   ]
  },
  {
   "cell_type": "code",
   "execution_count": 58,
   "metadata": {},
   "outputs": [
    {
     "data": {
      "image/png": "[encoded data removed]",
      "text/plain": [
       "<Figure size 432x288 with 1 Axes>"
      ]
     },
     "metadata": {
      "image/png": {
       "height": 248,
       "width": 394
      },
      "needs_background": "light"
     },
     "output_type": "display_data"
    }
   ],
   "source": [
    "import matplotlib.pyplot as plt\n",
    "%matplotlib inline\n",
    "%config InlineBackend.figure_format='retina'\n",
    "\n",
    "# visualize the distributions of Lot Area and SalePrice with a box plot\n",
    "houses['Lot Area'].plot.box();"
   ]
  },
  {
   "cell_type": "code",
   "execution_count": 59,
   "metadata": {},
   "outputs": [
    {
     "data": {
      "image/png": "[encoded data removed]",
      "text/plain": [
       "<Figure size 432x288 with 1 Axes>"
      ]
     },
     "metadata": {
      "image/png": {
       "height": 248,
       "width": 394
      },
      "needs_background": "light"
     },
     "output_type": "display_data"
    }
   ],
   "source": [
    "houses['SalePrice'].plot.box();"
   ]
  },
  {
   "cell_type": "code",
   "execution_count": 62,
   "metadata": {},
   "outputs": [
    {
     "name": "stdout",
     "output_type": "stream",
     "text": [
      "3680.7051194539254 20796.060068259394\n"
     ]
    }
   ],
   "source": [
    "# compute the median and mean for the Lot Area variable\n",
    "lot_median, lot_mean = np.median(houses['Lot Area']), np.mean(houses['Lot Area'])\n",
    "\n",
    "# compute the median and mean for the SalePrice\n",
    "price_median, price_mean = np.median(houses['SalePrice']), np.mean(houses['SalePrice'])\n",
    "\n",
    "# what is the difference between median and mean of Lot Area?\n",
    "lotarea_difference = lot_mean - lot_median\n",
    "\n",
    "# what is the difference between median and mean of SalePrice?\n",
    "saleprice_difference = price_mean - price_median\n",
    "\n",
    "print(lotarea_difference, saleprice_difference)"
   ]
  },
  {
   "cell_type": "markdown",
   "metadata": {},
   "source": [
    "## _The Median for Ordinal Scales_\n",
    "\n",
    "- consider the frequency distribution of the `Overall Cond` variable, which rates the overall condition of a house"
   ]
  },
  {
   "cell_type": "code",
   "execution_count": 63,
   "metadata": {},
   "outputs": [
    {
     "name": "stdout",
     "output_type": "stream",
     "text": [
      "1       7\n",
      "2      10\n",
      "3      50\n",
      "4     101\n",
      "5    1654\n",
      "6     533\n",
      "7     390\n",
      "8     144\n",
      "9      41\n",
      "Name: Overall Cond, dtype: int64\n"
     ]
    }
   ],
   "source": [
    "print(houses['Overall Cond'].value_counts().sort_index())"
   ]
  },
  {
   "cell_type": "markdown",
   "metadata": {},
   "source": [
    "- each of these numerical values corresponds to a specific quality level\n",
    "    - 1 = 'very poor' while 10 = 'very excellent'\n",
    "- remember: difference between two points on an ordinal scale can only tell us the directions of the difference, but not the size of the difference"
   ]
  },
  {
   "cell_type": "code",
   "execution_count": 66,
   "metadata": {},
   "outputs": [],
   "source": [
    "# find the mean of the Overall Cond variable\n",
    "mean = houses['Overall Cond'].mean()\n",
    "\n",
    "# find the median of the Overall Cond variable\n",
    "median = houses['Overall Cond'].median()"
   ]
  },
  {
   "cell_type": "code",
   "execution_count": 71,
   "metadata": {},
   "outputs": [
    {
     "data": {
      "image/png": "[encoded data removed]",
      "text/plain": [
       "<Figure size 432x288 with 1 Axes>"
      ]
     },
     "metadata": {
      "image/png": {
       "height": 248,
       "width": 395
      },
      "needs_background": "light"
     },
     "output_type": "display_data"
    }
   ],
   "source": [
    "# plot histogram to visualize distribution\n",
    "houses['Overall Cond'].plot.hist(edgecolor='black', bins=9)\n",
    "plt.axvline(x=mean, color='red')\n",
    "plt.axvline(x=median, color='purple');"
   ]
  },
  {
   "cell_type": "code",
   "execution_count": 73,
   "metadata": {},
   "outputs": [],
   "source": [
    "# do you think the mean or median best describes the shape of the histogram?\n",
    "more_representative = 'mean'"
   ]
  },
  {
   "cell_type": "markdown",
   "metadata": {},
   "source": [
    "## _Sensitivity to Changes_\n",
    "\n",
    "- can be argued that it's theoretically unsound to compute mean for ordinal variables\n",
    "- truth is that in practice many people use the mean nonetheless\n",
    "    - because in many cases it's much richer in information than median\n",
    "- unlike the median, the mean is sensitive to small changes in data\n",
    "    - this property is what makes it more useful in certain cases"
   ]
  },
  {
   "cell_type": "code",
   "execution_count": null,
   "metadata": {},
   "outputs": [],
   "source": []
  }
 ],
 "metadata": {
  "kernelspec": {
   "display_name": "Python 3",
   "language": "python",
   "name": "python3"
  },
  "language_info": {
   "codemirror_mode": {
    "name": "ipython",
    "version": 3
   },
   "file_extension": ".py",
   "mimetype": "text/x-python",
   "name": "python",
   "nbconvert_exporter": "python",
   "pygments_lexer": "ipython3",
   "version": "3.7.3"
  }
 },
 "nbformat": 4,
 "nbformat_minor": 4
}
