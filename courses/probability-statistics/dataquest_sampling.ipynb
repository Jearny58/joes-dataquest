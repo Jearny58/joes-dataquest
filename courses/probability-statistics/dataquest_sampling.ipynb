{
 "cells": [
  {
   "cell_type": "markdown",
   "metadata": {
    "colab_type": "text",
    "id": "W0UPY00nZfUo"
   },
   "source": [
    "# _Sampling_\n",
    "\n",
    "This notebook was adapted from Dataquest's first lesson on statistics, _Sampling_. In this lesson/notebook, we'll dive deeper into the various sampling methods in statistics. "
   ]
  },
  {
   "cell_type": "markdown",
   "metadata": {
    "colab_type": "text",
    "id": "4XvntGEXaAtb"
   },
   "source": [
    "## _Introduction_\n",
    "\n",
    "**Notes**\n",
    "- going to go deeper into statistical theory\n",
    "- learn new and more powerful statistical techniques & metrics, like:\n",
    "    - standard deviation\n",
    "    - z-scores\n",
    "    - confidence intervals\n",
    "    - probability estimation\n",
    "    - hypothesis testing (including A/B testing)\n",
    "- in this first part, focus we'll be around getting data for analysis\n",
    "- we'll begin to understand the sort of problems that statistics can solve"
   ]
  },
  {
   "cell_type": "markdown",
   "metadata": {
    "colab_type": "text",
    "id": "gS3PUnf3awid"
   },
   "source": [
    "## _Solving Problems with Statistics_\n",
    "\n",
    "**Notes**\n",
    "- Scenario: managing a small tech company with 7 original employees\n",
    "    - years have gone by, now there are 231 employees\n",
    "    - as company scales, analyzing employee data becomes next to impossible\n",
    "- this is where statistics comes into play\n",
    "    - we can organize, summarize, and visualize large amounts of data\n",
    "    - find hidden patterns\n",
    "- imagine that company is now 5000+ strong\n",
    "    - ask data analyst to conduct a survey on work satisfaction\n",
    "        - aren't going to survey all employees, only portion\n",
    "    - analyst reports a _significant_ decrease in work satisfaction\n",
    "        - means it's very unlikely to have by chance\n",
    "- through statistics we can learn to use a smaller set of data to answer questions about larger sets of data"
   ]
  },
  {
   "cell_type": "code",
   "execution_count": 1,
   "metadata": {
    "colab": {
     "base_uri": "https://localhost:8080/",
     "height": 34
    },
    "colab_type": "code",
    "id": "7UyHz19Zkjq6",
    "outputId": "994553f7-e90e-4961-d23c-f414d0547745"
   },
   "outputs": [
    {
     "data": {
      "text/plain": [
       "'/Users/jai/Documents/joes-dataquest/courses/probability-statistics'"
      ]
     },
     "execution_count": 1,
     "metadata": {},
     "output_type": "execute_result"
    }
   ],
   "source": [
    "import os\n",
    "\n",
    "# get current working directory\n",
    "os.getcwd()"
   ]
  },
  {
   "cell_type": "code",
   "execution_count": 2,
   "metadata": {
    "colab": {
     "base_uri": "https://localhost:8080/",
     "height": 34
    },
    "colab_type": "code",
    "id": "qdMNVV0ElGjo",
    "outputId": "3fd7e164-1a3a-499d-9821-b4cd613f6b9d"
   },
   "outputs": [
    {
     "data": {
      "text/plain": [
       "PosixPath('/Users/jai/Documents/joes-dataquest/courses/probability-statistics')"
      ]
     },
     "execution_count": 2,
     "metadata": {},
     "output_type": "execute_result"
    }
   ],
   "source": [
    "from pathlib import Path\n",
    "\n",
    "#create path variable to primary directory\n",
    "path = Path(os.getcwd())\n",
    "path"
   ]
  },
  {
   "cell_type": "markdown",
   "metadata": {
    "colab_type": "text",
    "id": "QY2w2mOgleqZ"
   },
   "source": [
    "## _Populations and Sample_\n",
    "\n",
    "**Notes**\n",
    "- previous question was about _all_ people in company, which is the population\n",
    "    - only selected a small group to answer though, which is called a sample\n",
    "    - selecting a smaller group from a population = sampling\n",
    "- populations do not necessarily consist of people\n",
    "    - can be populations of monkeys, countries, soils, etc.\n",
    "- now it's our turn to play data analyst\n",
    "    - we collected data about the salary of all the individuals in the company working in IT roles\n",
    "    - based on this data, we want to answer a series of questions\n",
    "    - depending on question, our data is either a sample or a population\n",
    "\n",
    "**Questions**\n",
    "1. What's the average salary of individuals in our company working in IT roles? \n",
    "    - Data = population\n",
    "\n",
    "2. What's the proportion of individuals in the IT department having salaries under $60000?\n",
    "    - Data = population\n",
    "\n",
    "3. What's the minimum salary in the entire company?\n",
    "    - Data = sample\n",
    "\n",
    "4. What's the minimum salary in the IT department of our company?\n",
    "    - Data = population\n",
    "\n",
    "5. What's the proportion of salaries under $20000 in the entire company?\n",
    "    - Data = sample"
   ]
  },
  {
   "cell_type": "markdown",
   "metadata": {
    "colab_type": "text",
    "id": "gCMtYHwNqTlx"
   },
   "source": [
    "## _Sampling Error_\n",
    "\n",
    "**Notes**\n",
    "- we should try to use the population\n",
    "    - often in practice, not possible\n",
    "    - getting data is not easy either\n",
    "- sample, by definition, is incomplete set of data for question we're trying to answer\n",
    "    - can be seen as error, which is called _sampling error_\n",
    "- _parameter_: metric specific to a population\n",
    "    - ex: average salary of all employees\n",
    "- _statistic_: metric specific to a sample\n",
    "- difference between the two\n",
    "    - _sampling error_ = parameter - statistic\n",
    "- The data set we'll be working with going forward on players in the WNBA\n",
    "    - contains general information about players\n",
    "    - along with metrics for the 16-17 season"
   ]
  },
  {
   "cell_type": "code",
   "execution_count": 33,
   "metadata": {
    "colab": {},
    "colab_type": "code",
    "id": "sWf5qYEElR74"
   },
   "outputs": [],
   "source": [
    "# import data set\n",
    "import pandas as pd\n",
    "pd.set_option('display.max_columns', None)\n",
    "\n",
    "wnba = pd.read_csv(path/'data/wnba.csv')"
   ]
  },
  {
   "cell_type": "code",
   "execution_count": 5,
   "metadata": {
    "colab": {
     "base_uri": "https://localhost:8080/",
     "height": 326
    },
    "colab_type": "code",
    "id": "0w1OrYwsvhFl",
    "outputId": "742216c1-08f4-40d1-d11f-13105f96c9f1"
   },
   "outputs": [
    {
     "data": {
      "text/html": [
       "<div>\n",
       "<style scoped>\n",
       "    .dataframe tbody tr th:only-of-type {\n",
       "        vertical-align: middle;\n",
       "    }\n",
       "\n",
       "    .dataframe tbody tr th {\n",
       "        vertical-align: top;\n",
       "    }\n",
       "\n",
       "    .dataframe thead th {\n",
       "        text-align: right;\n",
       "    }\n",
       "</style>\n",
       "<table border=\"1\" class=\"dataframe\">\n",
       "  <thead>\n",
       "    <tr style=\"text-align: right;\">\n",
       "      <th></th>\n",
       "      <th>Name</th>\n",
       "      <th>Team</th>\n",
       "      <th>Pos</th>\n",
       "      <th>Height</th>\n",
       "      <th>Weight</th>\n",
       "      <th>BMI</th>\n",
       "      <th>Birth_Place</th>\n",
       "      <th>Birthdate</th>\n",
       "      <th>Age</th>\n",
       "      <th>College</th>\n",
       "      <th>...</th>\n",
       "      <th>OREB</th>\n",
       "      <th>DREB</th>\n",
       "      <th>REB</th>\n",
       "      <th>AST</th>\n",
       "      <th>STL</th>\n",
       "      <th>BLK</th>\n",
       "      <th>TO</th>\n",
       "      <th>PTS</th>\n",
       "      <th>DD2</th>\n",
       "      <th>TD3</th>\n",
       "    </tr>\n",
       "  </thead>\n",
       "  <tbody>\n",
       "    <tr>\n",
       "      <th>0</th>\n",
       "      <td>Aerial Powers</td>\n",
       "      <td>DAL</td>\n",
       "      <td>F</td>\n",
       "      <td>183</td>\n",
       "      <td>71.0</td>\n",
       "      <td>21.200991</td>\n",
       "      <td>US</td>\n",
       "      <td>January 17, 1994</td>\n",
       "      <td>23</td>\n",
       "      <td>Michigan State</td>\n",
       "      <td>...</td>\n",
       "      <td>6</td>\n",
       "      <td>22</td>\n",
       "      <td>28</td>\n",
       "      <td>12</td>\n",
       "      <td>3</td>\n",
       "      <td>6</td>\n",
       "      <td>12</td>\n",
       "      <td>93</td>\n",
       "      <td>0</td>\n",
       "      <td>0</td>\n",
       "    </tr>\n",
       "    <tr>\n",
       "      <th>1</th>\n",
       "      <td>Alana Beard</td>\n",
       "      <td>LA</td>\n",
       "      <td>G/F</td>\n",
       "      <td>185</td>\n",
       "      <td>73.0</td>\n",
       "      <td>21.329438</td>\n",
       "      <td>US</td>\n",
       "      <td>May 14, 1982</td>\n",
       "      <td>35</td>\n",
       "      <td>Duke</td>\n",
       "      <td>...</td>\n",
       "      <td>19</td>\n",
       "      <td>82</td>\n",
       "      <td>101</td>\n",
       "      <td>72</td>\n",
       "      <td>63</td>\n",
       "      <td>13</td>\n",
       "      <td>40</td>\n",
       "      <td>217</td>\n",
       "      <td>0</td>\n",
       "      <td>0</td>\n",
       "    </tr>\n",
       "    <tr>\n",
       "      <th>2</th>\n",
       "      <td>Alex Bentley</td>\n",
       "      <td>CON</td>\n",
       "      <td>G</td>\n",
       "      <td>170</td>\n",
       "      <td>69.0</td>\n",
       "      <td>23.875433</td>\n",
       "      <td>US</td>\n",
       "      <td>October 27, 1990</td>\n",
       "      <td>26</td>\n",
       "      <td>Penn State</td>\n",
       "      <td>...</td>\n",
       "      <td>4</td>\n",
       "      <td>36</td>\n",
       "      <td>40</td>\n",
       "      <td>78</td>\n",
       "      <td>22</td>\n",
       "      <td>3</td>\n",
       "      <td>24</td>\n",
       "      <td>218</td>\n",
       "      <td>0</td>\n",
       "      <td>0</td>\n",
       "    </tr>\n",
       "    <tr>\n",
       "      <th>3</th>\n",
       "      <td>Alex Montgomery</td>\n",
       "      <td>SAN</td>\n",
       "      <td>G/F</td>\n",
       "      <td>185</td>\n",
       "      <td>84.0</td>\n",
       "      <td>24.543462</td>\n",
       "      <td>US</td>\n",
       "      <td>December 11, 1988</td>\n",
       "      <td>28</td>\n",
       "      <td>Georgia Tech</td>\n",
       "      <td>...</td>\n",
       "      <td>35</td>\n",
       "      <td>134</td>\n",
       "      <td>169</td>\n",
       "      <td>65</td>\n",
       "      <td>20</td>\n",
       "      <td>10</td>\n",
       "      <td>38</td>\n",
       "      <td>188</td>\n",
       "      <td>2</td>\n",
       "      <td>0</td>\n",
       "    </tr>\n",
       "    <tr>\n",
       "      <th>4</th>\n",
       "      <td>Alexis Jones</td>\n",
       "      <td>MIN</td>\n",
       "      <td>G</td>\n",
       "      <td>175</td>\n",
       "      <td>78.0</td>\n",
       "      <td>25.469388</td>\n",
       "      <td>US</td>\n",
       "      <td>August 5, 1994</td>\n",
       "      <td>23</td>\n",
       "      <td>Baylor</td>\n",
       "      <td>...</td>\n",
       "      <td>3</td>\n",
       "      <td>9</td>\n",
       "      <td>12</td>\n",
       "      <td>12</td>\n",
       "      <td>7</td>\n",
       "      <td>0</td>\n",
       "      <td>14</td>\n",
       "      <td>50</td>\n",
       "      <td>0</td>\n",
       "      <td>0</td>\n",
       "    </tr>\n",
       "  </tbody>\n",
       "</table>\n",
       "<p>5 rows × 32 columns</p>\n",
       "</div>"
      ],
      "text/plain": [
       "              Name Team  Pos  Height  Weight        BMI Birth_Place  \\\n",
       "0    Aerial Powers  DAL    F     183    71.0  21.200991          US   \n",
       "1      Alana Beard   LA  G/F     185    73.0  21.329438          US   \n",
       "2     Alex Bentley  CON    G     170    69.0  23.875433          US   \n",
       "3  Alex Montgomery  SAN  G/F     185    84.0  24.543462          US   \n",
       "4     Alexis Jones  MIN    G     175    78.0  25.469388          US   \n",
       "\n",
       "           Birthdate  Age         College  ... OREB  DREB  REB  AST  STL  BLK  \\\n",
       "0   January 17, 1994   23  Michigan State  ...    6    22   28   12    3    6   \n",
       "1       May 14, 1982   35            Duke  ...   19    82  101   72   63   13   \n",
       "2   October 27, 1990   26      Penn State  ...    4    36   40   78   22    3   \n",
       "3  December 11, 1988   28    Georgia Tech  ...   35   134  169   65   20   10   \n",
       "4     August 5, 1994   23          Baylor  ...    3     9   12   12    7    0   \n",
       "\n",
       "   TO  PTS  DD2  TD3  \n",
       "0  12   93    0    0  \n",
       "1  40  217    0    0  \n",
       "2  24  218    0    0  \n",
       "3  38  188    2    0  \n",
       "4  14   50    0    0  \n",
       "\n",
       "[5 rows x 32 columns]"
      ]
     },
     "execution_count": 5,
     "metadata": {},
     "output_type": "execute_result"
    }
   ],
   "source": [
    "# check out first few rows\n",
    "wnba.head()"
   ]
  },
  {
   "cell_type": "code",
   "execution_count": 6,
   "metadata": {
    "colab": {
     "base_uri": "https://localhost:8080/",
     "height": 326
    },
    "colab_type": "code",
    "id": "zo1VOPFKv02f",
    "outputId": "fe1849e1-1c18-47cc-e76f-dfb48294f9f3"
   },
   "outputs": [
    {
     "data": {
      "text/html": [
       "<div>\n",
       "<style scoped>\n",
       "    .dataframe tbody tr th:only-of-type {\n",
       "        vertical-align: middle;\n",
       "    }\n",
       "\n",
       "    .dataframe tbody tr th {\n",
       "        vertical-align: top;\n",
       "    }\n",
       "\n",
       "    .dataframe thead th {\n",
       "        text-align: right;\n",
       "    }\n",
       "</style>\n",
       "<table border=\"1\" class=\"dataframe\">\n",
       "  <thead>\n",
       "    <tr style=\"text-align: right;\">\n",
       "      <th></th>\n",
       "      <th>Name</th>\n",
       "      <th>Team</th>\n",
       "      <th>Pos</th>\n",
       "      <th>Height</th>\n",
       "      <th>Weight</th>\n",
       "      <th>BMI</th>\n",
       "      <th>Birth_Place</th>\n",
       "      <th>Birthdate</th>\n",
       "      <th>Age</th>\n",
       "      <th>College</th>\n",
       "      <th>...</th>\n",
       "      <th>OREB</th>\n",
       "      <th>DREB</th>\n",
       "      <th>REB</th>\n",
       "      <th>AST</th>\n",
       "      <th>STL</th>\n",
       "      <th>BLK</th>\n",
       "      <th>TO</th>\n",
       "      <th>PTS</th>\n",
       "      <th>DD2</th>\n",
       "      <th>TD3</th>\n",
       "    </tr>\n",
       "  </thead>\n",
       "  <tbody>\n",
       "    <tr>\n",
       "      <th>138</th>\n",
       "      <td>Tiffany Hayes</td>\n",
       "      <td>ATL</td>\n",
       "      <td>G</td>\n",
       "      <td>178</td>\n",
       "      <td>70.0</td>\n",
       "      <td>22.093170</td>\n",
       "      <td>US</td>\n",
       "      <td>September 20, 1989</td>\n",
       "      <td>27</td>\n",
       "      <td>Connecticut</td>\n",
       "      <td>...</td>\n",
       "      <td>28</td>\n",
       "      <td>89</td>\n",
       "      <td>117</td>\n",
       "      <td>69</td>\n",
       "      <td>37</td>\n",
       "      <td>8</td>\n",
       "      <td>50</td>\n",
       "      <td>467</td>\n",
       "      <td>0</td>\n",
       "      <td>0</td>\n",
       "    </tr>\n",
       "    <tr>\n",
       "      <th>139</th>\n",
       "      <td>Tiffany Jackson</td>\n",
       "      <td>LA</td>\n",
       "      <td>F</td>\n",
       "      <td>191</td>\n",
       "      <td>84.0</td>\n",
       "      <td>23.025685</td>\n",
       "      <td>US</td>\n",
       "      <td>April 26, 1985</td>\n",
       "      <td>32</td>\n",
       "      <td>Texas</td>\n",
       "      <td>...</td>\n",
       "      <td>5</td>\n",
       "      <td>18</td>\n",
       "      <td>23</td>\n",
       "      <td>3</td>\n",
       "      <td>1</td>\n",
       "      <td>3</td>\n",
       "      <td>8</td>\n",
       "      <td>28</td>\n",
       "      <td>0</td>\n",
       "      <td>0</td>\n",
       "    </tr>\n",
       "    <tr>\n",
       "      <th>140</th>\n",
       "      <td>Tiffany Mitchell</td>\n",
       "      <td>IND</td>\n",
       "      <td>G</td>\n",
       "      <td>175</td>\n",
       "      <td>69.0</td>\n",
       "      <td>22.530612</td>\n",
       "      <td>US</td>\n",
       "      <td>September 23, 1984</td>\n",
       "      <td>32</td>\n",
       "      <td>South Carolina</td>\n",
       "      <td>...</td>\n",
       "      <td>16</td>\n",
       "      <td>70</td>\n",
       "      <td>86</td>\n",
       "      <td>39</td>\n",
       "      <td>31</td>\n",
       "      <td>5</td>\n",
       "      <td>40</td>\n",
       "      <td>277</td>\n",
       "      <td>0</td>\n",
       "      <td>0</td>\n",
       "    </tr>\n",
       "    <tr>\n",
       "      <th>141</th>\n",
       "      <td>Tina Charles</td>\n",
       "      <td>NY</td>\n",
       "      <td>F/C</td>\n",
       "      <td>193</td>\n",
       "      <td>84.0</td>\n",
       "      <td>22.550941</td>\n",
       "      <td>US</td>\n",
       "      <td>May 12, 1988</td>\n",
       "      <td>29</td>\n",
       "      <td>Connecticut</td>\n",
       "      <td>...</td>\n",
       "      <td>56</td>\n",
       "      <td>212</td>\n",
       "      <td>268</td>\n",
       "      <td>75</td>\n",
       "      <td>21</td>\n",
       "      <td>22</td>\n",
       "      <td>71</td>\n",
       "      <td>582</td>\n",
       "      <td>11</td>\n",
       "      <td>0</td>\n",
       "    </tr>\n",
       "    <tr>\n",
       "      <th>142</th>\n",
       "      <td>Yvonne Turner</td>\n",
       "      <td>PHO</td>\n",
       "      <td>G</td>\n",
       "      <td>175</td>\n",
       "      <td>59.0</td>\n",
       "      <td>19.265306</td>\n",
       "      <td>US</td>\n",
       "      <td>October 13, 1987</td>\n",
       "      <td>29</td>\n",
       "      <td>Nebraska</td>\n",
       "      <td>...</td>\n",
       "      <td>11</td>\n",
       "      <td>13</td>\n",
       "      <td>24</td>\n",
       "      <td>30</td>\n",
       "      <td>18</td>\n",
       "      <td>1</td>\n",
       "      <td>32</td>\n",
       "      <td>151</td>\n",
       "      <td>0</td>\n",
       "      <td>0</td>\n",
       "    </tr>\n",
       "  </tbody>\n",
       "</table>\n",
       "<p>5 rows × 32 columns</p>\n",
       "</div>"
      ],
      "text/plain": [
       "                 Name Team  Pos  Height  Weight        BMI Birth_Place  \\\n",
       "138     Tiffany Hayes  ATL    G     178    70.0  22.093170          US   \n",
       "139   Tiffany Jackson   LA    F     191    84.0  23.025685          US   \n",
       "140  Tiffany Mitchell  IND    G     175    69.0  22.530612          US   \n",
       "141      Tina Charles   NY  F/C     193    84.0  22.550941          US   \n",
       "142     Yvonne Turner  PHO    G     175    59.0  19.265306          US   \n",
       "\n",
       "              Birthdate  Age         College  ... OREB  DREB  REB  AST  STL  \\\n",
       "138  September 20, 1989   27     Connecticut  ...   28    89  117   69   37   \n",
       "139      April 26, 1985   32           Texas  ...    5    18   23    3    1   \n",
       "140  September 23, 1984   32  South Carolina  ...   16    70   86   39   31   \n",
       "141        May 12, 1988   29     Connecticut  ...   56   212  268   75   21   \n",
       "142    October 13, 1987   29        Nebraska  ...   11    13   24   30   18   \n",
       "\n",
       "     BLK  TO  PTS  DD2  TD3  \n",
       "138    8  50  467    0    0  \n",
       "139    3   8   28    0    0  \n",
       "140    5  40  277    0    0  \n",
       "141   22  71  582   11    0  \n",
       "142    1  32  151    0    0  \n",
       "\n",
       "[5 rows x 32 columns]"
      ]
     },
     "execution_count": 6,
     "metadata": {},
     "output_type": "execute_result"
    }
   ],
   "source": [
    "# check out last few rows\n",
    "wnba.tail()"
   ]
  },
  {
   "cell_type": "code",
   "execution_count": 7,
   "metadata": {
    "colab": {
     "base_uri": "https://localhost:8080/",
     "height": 34
    },
    "colab_type": "code",
    "id": "EzOpNLz9v2rv",
    "outputId": "ca67217f-a251-4852-cf80-acc016d76111"
   },
   "outputs": [
    {
     "data": {
      "text/plain": [
       "(143, 32)"
      ]
     },
     "execution_count": 7,
     "metadata": {},
     "output_type": "execute_result"
    }
   ],
   "source": [
    "# find the number of rows and columns\n",
    "wnba.shape"
   ]
  },
  {
   "cell_type": "markdown",
   "metadata": {
    "colab_type": "text",
    "id": "3pxnc6kWwnp0"
   },
   "source": [
    "## _Checking the Documentation_\n",
    "\n",
    "**Notes**\n",
    "\n",
    "- G = Games Played\n",
    "- MIN = Minutes Played\n",
    "- FGM = Field Goals Made\n",
    "- FGA = Field Goals Attempts\n",
    "- FG% = Field Goals %\n",
    "- 3PM = 3Points Made\n",
    "- 3PA = 3Points Attempts\n",
    "- 3P% = 3Points %\n",
    "- FTM = Free Throws made\n",
    "- FTA = Free Throws Attempts\n",
    "- FT% = Free Throws %\n",
    "- OREB = Offensive Rebounds\n",
    "- DREB = Defensive Rebounds\n",
    "- REB = Total Rebounds\n",
    "- AST = Assists\n",
    "- STL = Steals\n",
    "- BLK = Blocks\n",
    "- TO = Turnovers\n",
    "- PTS = Total points\n",
    "- DD2 = Double doubles\n",
    "- TD3 = Triple doubles"
   ]
  },
  {
   "cell_type": "code",
   "execution_count": 8,
   "metadata": {
    "colab": {
     "base_uri": "https://localhost:8080/",
     "height": 34
    },
    "colab_type": "code",
    "id": "kw9-4Sp7wD6U",
    "outputId": "1e488c59-7dde-4189-a8bb-3abddd84d92b"
   },
   "outputs": [
    {
     "data": {
      "text/plain": [
       "32"
      ]
     },
     "execution_count": 8,
     "metadata": {},
     "output_type": "execute_result"
    }
   ],
   "source": [
    "# find the max number of games played by a player in 16-17\n",
    "parameter = max(wnba['Games Played']); parameter"
   ]
  },
  {
   "cell_type": "code",
   "execution_count": 25,
   "metadata": {
    "colab": {},
    "colab_type": "code",
    "id": "1iiMu56Gy6q_"
   },
   "outputs": [
    {
     "data": {
      "text/html": [
       "<div>\n",
       "<style scoped>\n",
       "    .dataframe tbody tr th:only-of-type {\n",
       "        vertical-align: middle;\n",
       "    }\n",
       "\n",
       "    .dataframe tbody tr th {\n",
       "        vertical-align: top;\n",
       "    }\n",
       "\n",
       "    .dataframe thead th {\n",
       "        text-align: right;\n",
       "    }\n",
       "</style>\n",
       "<table border=\"1\" class=\"dataframe\">\n",
       "  <thead>\n",
       "    <tr style=\"text-align: right;\">\n",
       "      <th></th>\n",
       "      <th>Name</th>\n",
       "      <th>Team</th>\n",
       "      <th>Pos</th>\n",
       "      <th>Height</th>\n",
       "      <th>Weight</th>\n",
       "      <th>BMI</th>\n",
       "      <th>Birth_Place</th>\n",
       "      <th>Birthdate</th>\n",
       "      <th>Age</th>\n",
       "      <th>College</th>\n",
       "      <th>...</th>\n",
       "      <th>OREB</th>\n",
       "      <th>DREB</th>\n",
       "      <th>REB</th>\n",
       "      <th>AST</th>\n",
       "      <th>STL</th>\n",
       "      <th>BLK</th>\n",
       "      <th>TO</th>\n",
       "      <th>PTS</th>\n",
       "      <th>DD2</th>\n",
       "      <th>TD3</th>\n",
       "    </tr>\n",
       "  </thead>\n",
       "  <tbody>\n",
       "    <tr>\n",
       "      <th>78</th>\n",
       "      <td>Keisha Hampton</td>\n",
       "      <td>CHI</td>\n",
       "      <td>F</td>\n",
       "      <td>185</td>\n",
       "      <td>78.0</td>\n",
       "      <td>22.790358</td>\n",
       "      <td>US</td>\n",
       "      <td>February 22, 1990</td>\n",
       "      <td>27</td>\n",
       "      <td>DePaul</td>\n",
       "      <td>...</td>\n",
       "      <td>36</td>\n",
       "      <td>59</td>\n",
       "      <td>95</td>\n",
       "      <td>24</td>\n",
       "      <td>20</td>\n",
       "      <td>7</td>\n",
       "      <td>21</td>\n",
       "      <td>207</td>\n",
       "      <td>0</td>\n",
       "      <td>0</td>\n",
       "    </tr>\n",
       "    <tr>\n",
       "      <th>116</th>\n",
       "      <td>Saniya Chong</td>\n",
       "      <td>DAL</td>\n",
       "      <td>G</td>\n",
       "      <td>173</td>\n",
       "      <td>64.0</td>\n",
       "      <td>21.383942</td>\n",
       "      <td>US</td>\n",
       "      <td>June 27, 1994</td>\n",
       "      <td>23</td>\n",
       "      <td>Connecticut</td>\n",
       "      <td>...</td>\n",
       "      <td>9</td>\n",
       "      <td>19</td>\n",
       "      <td>28</td>\n",
       "      <td>33</td>\n",
       "      <td>21</td>\n",
       "      <td>3</td>\n",
       "      <td>23</td>\n",
       "      <td>87</td>\n",
       "      <td>0</td>\n",
       "      <td>0</td>\n",
       "    </tr>\n",
       "    <tr>\n",
       "      <th>31</th>\n",
       "      <td>Carolyn Swords</td>\n",
       "      <td>SEA</td>\n",
       "      <td>C</td>\n",
       "      <td>198</td>\n",
       "      <td>95.0</td>\n",
       "      <td>24.232221</td>\n",
       "      <td>US</td>\n",
       "      <td>July 19, 1989</td>\n",
       "      <td>28</td>\n",
       "      <td>Boston College</td>\n",
       "      <td>...</td>\n",
       "      <td>10</td>\n",
       "      <td>29</td>\n",
       "      <td>39</td>\n",
       "      <td>9</td>\n",
       "      <td>5</td>\n",
       "      <td>4</td>\n",
       "      <td>22</td>\n",
       "      <td>54</td>\n",
       "      <td>0</td>\n",
       "      <td>0</td>\n",
       "    </tr>\n",
       "    <tr>\n",
       "      <th>5</th>\n",
       "      <td>Alexis Peterson</td>\n",
       "      <td>SEA</td>\n",
       "      <td>G</td>\n",
       "      <td>170</td>\n",
       "      <td>63.0</td>\n",
       "      <td>21.799308</td>\n",
       "      <td>US</td>\n",
       "      <td>June 20, 1995</td>\n",
       "      <td>22</td>\n",
       "      <td>Syracuse</td>\n",
       "      <td>...</td>\n",
       "      <td>3</td>\n",
       "      <td>13</td>\n",
       "      <td>16</td>\n",
       "      <td>11</td>\n",
       "      <td>5</td>\n",
       "      <td>0</td>\n",
       "      <td>11</td>\n",
       "      <td>26</td>\n",
       "      <td>0</td>\n",
       "      <td>0</td>\n",
       "    </tr>\n",
       "    <tr>\n",
       "      <th>125</th>\n",
       "      <td>Stefanie Dolson</td>\n",
       "      <td>CHI</td>\n",
       "      <td>C</td>\n",
       "      <td>196</td>\n",
       "      <td>97.0</td>\n",
       "      <td>25.249896</td>\n",
       "      <td>US</td>\n",
       "      <td>August 1, 1992</td>\n",
       "      <td>25</td>\n",
       "      <td>Connecticut</td>\n",
       "      <td>...</td>\n",
       "      <td>35</td>\n",
       "      <td>121</td>\n",
       "      <td>156</td>\n",
       "      <td>65</td>\n",
       "      <td>14</td>\n",
       "      <td>37</td>\n",
       "      <td>65</td>\n",
       "      <td>398</td>\n",
       "      <td>3</td>\n",
       "      <td>0</td>\n",
       "    </tr>\n",
       "  </tbody>\n",
       "</table>\n",
       "<p>5 rows × 32 columns</p>\n",
       "</div>"
      ],
      "text/plain": [
       "                Name Team Pos  Height  Weight        BMI Birth_Place  \\\n",
       "78    Keisha Hampton  CHI   F     185    78.0  22.790358          US   \n",
       "116     Saniya Chong  DAL   G     173    64.0  21.383942          US   \n",
       "31    Carolyn Swords  SEA   C     198    95.0  24.232221          US   \n",
       "5    Alexis Peterson  SEA   G     170    63.0  21.799308          US   \n",
       "125  Stefanie Dolson  CHI   C     196    97.0  25.249896          US   \n",
       "\n",
       "             Birthdate  Age         College  ... OREB  DREB  REB  AST  STL  \\\n",
       "78   February 22, 1990   27          DePaul  ...   36    59   95   24   20   \n",
       "116      June 27, 1994   23     Connecticut  ...    9    19   28   33   21   \n",
       "31       July 19, 1989   28  Boston College  ...   10    29   39    9    5   \n",
       "5        June 20, 1995   22        Syracuse  ...    3    13   16   11    5   \n",
       "125     August 1, 1992   25     Connecticut  ...   35   121  156   65   14   \n",
       "\n",
       "     BLK  TO  PTS  DD2  TD3  \n",
       "78     7  21  207    0    0  \n",
       "116    3  23   87    0    0  \n",
       "31     4  22   54    0    0  \n",
       "5      0  11   26    0    0  \n",
       "125   37  65  398    3    0  \n",
       "\n",
       "[5 rows x 32 columns]"
      ]
     },
     "execution_count": 25,
     "metadata": {},
     "output_type": "execute_result"
    }
   ],
   "source": [
    "# randomly sample 30 players from population\n",
    "sample = wnba.sample(n=30, random_state=1); sample.head()"
   ]
  },
  {
   "cell_type": "code",
   "execution_count": 13,
   "metadata": {
    "colab": {},
    "colab_type": "code",
    "id": "KYrHuRe0zV5R"
   },
   "outputs": [
    {
     "data": {
      "text/plain": [
       "30"
      ]
     },
     "execution_count": 13,
     "metadata": {},
     "output_type": "execute_result"
    }
   ],
   "source": [
    "# find max number of games using the sample\n",
    "statistic = max(sample['Games Played']); statistic"
   ]
  },
  {
   "cell_type": "code",
   "execution_count": 14,
   "metadata": {
    "colab": {},
    "colab_type": "code",
    "id": "RrXTaBQ_0nx0"
   },
   "outputs": [
    {
     "data": {
      "text/plain": [
       "2"
      ]
     },
     "execution_count": 14,
     "metadata": {},
     "output_type": "execute_result"
    }
   ],
   "source": [
    "# measure the sampling error\n",
    "sampling_error = parameter - statistic; sampling_error"
   ]
  },
  {
   "cell_type": "markdown",
   "metadata": {
    "colab_type": "text",
    "id": "O_4LB9h731gP"
   },
   "source": [
    "## _Simple Random Sampling_\n",
    "\n",
    "- when we sample, we want to minimize the sampling error as much as possible\n",
    "    - ex: measuring mean height of US population\n",
    "        - want our sample mean height to be as close as possible to population's parameter (i.e. mean height)\n",
    "        - sample so that it is similar in structure with group forming population\n",
    "- in other words, we want our samples to be representative\n",
    "    - if sample is representative, sampling error is low\n",
    "    - less representative, greater the sampling error\n",
    "- simple random sampling (SRS): generate random numbers and use them to select sample units from population\n",
    "    - `Series.sample()` methods performs SRS\n",
    "    - when we use `random_state`, make generation of random numbers predictable\n",
    "        - specifies initial value used by psuedorandom number generator\n",
    "- In the cells below, we're going to visualize the discrepency between a parameter and its corresponding statistic in SRS"
   ]
  },
  {
   "cell_type": "code",
   "execution_count": 17,
   "metadata": {
    "colab": {},
    "colab_type": "code",
    "id": "rxG_xwZh3qMq"
   },
   "outputs": [],
   "source": [
    "import matplotlib.pyplot as plt\n",
    "%config InlineBackend.figure_format = 'retina'\n",
    "import numpy as np\n",
    "\n",
    "mean_list = []\n",
    "for n in range(100):\n",
    "    # take sample of 10 values from PTS column, with random_state = n\n",
    "    sample = wnba['PTS'].sample(n=10, random_state=n)\n",
    "    # get mean from sample\n",
    "    mean = np.mean(sample)\n",
    "    # append mean to list\n",
    "    mean_list.append(mean)"
   ]
  },
  {
   "cell_type": "code",
   "execution_count": 21,
   "metadata": {
    "colab": {
     "base_uri": "https://localhost:8080/",
     "height": 286
    },
    "colab_type": "code",
    "id": "YZg3WfTi50uk",
    "outputId": "f50d0323-09f0-4d56-d9bb-ec39c6c67c96"
   },
   "outputs": [
    {
     "data": {
      "image/png": "[encoded data removed]",
      "text/plain": [
       "<Figure size 576x432 with 1 Axes>"
      ]
     },
     "metadata": {
      "image/png": {
       "height": 357,
       "width": 487
      },
      "needs_background": "light"
     },
     "output_type": "display_data"
    }
   ],
   "source": [
    "# plot discrepency between the parameter an statistics\n",
    "plt.figure(figsize=(8,6))\n",
    "plt.scatter(x=np.arange(1,101), y = mean_list)\n",
    "plt.axhline(np.mean(wnba['PTS']), color='red');"
   ]
  },
  {
   "cell_type": "markdown",
   "metadata": {
    "colab": {},
    "colab_type": "code",
    "id": "PaDT5NZc8tLr"
   },
   "source": [
    "## _Stratified Sampling_\n",
    "\n",
    "**Notes**\n",
    "- entirely random nature of SRS could potentially leave out certain individuals of interest\n",
    "    - in our example, different positions in basketball\n",
    "        - metrics of players depend on position\n",
    "        - not guaranteed that we'll have a representative sample that has observations for every position we want to analyze"
   ]
  },
  {
   "cell_type": "code",
   "execution_count": 22,
   "metadata": {},
   "outputs": [
    {
     "name": "stdout",
     "output_type": "stream",
     "text": [
      "['F' 'G/F' 'G' 'C' 'F/C']\n"
     ]
    }
   ],
   "source": [
    "# there are five unique positions in data set\n",
    "print(wnba['Pos'].unique())"
   ]
  },
  {
   "cell_type": "markdown",
   "metadata": {},
   "source": [
    "- **F** = Forward\n",
    "- **G** = Guard\n",
    "- **C** = Center\n",
    "- **G/F** = Guard/Forward\n",
    "- **F/C** = Forward/Center\n",
    "\n",
    "Let's take a quick look at our `sample` and see the breakdown by position."
   ]
  },
  {
   "cell_type": "code",
   "execution_count": 31,
   "metadata": {},
   "outputs": [
    {
     "data": {
      "text/plain": [
       "Pos\n",
       "G      11\n",
       "C       8\n",
       "F       6\n",
       "G/F     3\n",
       "F/C     2\n",
       "Name: Pos, dtype: int64"
      ]
     },
     "execution_count": 31,
     "metadata": {},
     "output_type": "execute_result"
    }
   ],
   "source": [
    "# group players by position then return counts by position\n",
    "(sample.groupby('Pos')['Pos'].count()).sort_values(ascending=False)"
   ]
  },
  {
   "cell_type": "markdown",
   "metadata": {},
   "source": [
    "As we can see above there is an uneven distribution amongest the five positions. To address this we can change the sampling method to one where we organize our data into different groups then do SRS from each group.\n",
    "\n",
    "In our specific example that would mean grouping players by position than sampling from that group. "
   ]
  },
  {
   "cell_type": "markdown",
   "metadata": {},
   "source": [
    "## _Stratified Sampling (cont.)_\n",
    "\n",
    "**Notes/Instructions**\n",
    "1. Create new column describing number of points player scored per game during the season.\n",
    "2."
   ]
  },
  {
   "cell_type": "code",
   "execution_count": 34,
   "metadata": {},
   "outputs": [
    {
     "data": {
      "text/html": [
       "<div>\n",
       "<style scoped>\n",
       "    .dataframe tbody tr th:only-of-type {\n",
       "        vertical-align: middle;\n",
       "    }\n",
       "\n",
       "    .dataframe tbody tr th {\n",
       "        vertical-align: top;\n",
       "    }\n",
       "\n",
       "    .dataframe thead th {\n",
       "        text-align: right;\n",
       "    }\n",
       "</style>\n",
       "<table border=\"1\" class=\"dataframe\">\n",
       "  <thead>\n",
       "    <tr style=\"text-align: right;\">\n",
       "      <th></th>\n",
       "      <th>Name</th>\n",
       "      <th>Team</th>\n",
       "      <th>Pos</th>\n",
       "      <th>Height</th>\n",
       "      <th>Weight</th>\n",
       "      <th>BMI</th>\n",
       "      <th>Birth_Place</th>\n",
       "      <th>Birthdate</th>\n",
       "      <th>Age</th>\n",
       "      <th>College</th>\n",
       "      <th>Experience</th>\n",
       "      <th>Games Played</th>\n",
       "      <th>MIN</th>\n",
       "      <th>FGM</th>\n",
       "      <th>FGA</th>\n",
       "      <th>FG%</th>\n",
       "      <th>15:00</th>\n",
       "      <th>3PA</th>\n",
       "      <th>3P%</th>\n",
       "      <th>FTM</th>\n",
       "      <th>FTA</th>\n",
       "      <th>FT%</th>\n",
       "      <th>OREB</th>\n",
       "      <th>DREB</th>\n",
       "      <th>REB</th>\n",
       "      <th>AST</th>\n",
       "      <th>STL</th>\n",
       "      <th>BLK</th>\n",
       "      <th>TO</th>\n",
       "      <th>PTS</th>\n",
       "      <th>DD2</th>\n",
       "      <th>TD3</th>\n",
       "    </tr>\n",
       "  </thead>\n",
       "  <tbody>\n",
       "    <tr>\n",
       "      <th>0</th>\n",
       "      <td>Aerial Powers</td>\n",
       "      <td>DAL</td>\n",
       "      <td>F</td>\n",
       "      <td>183</td>\n",
       "      <td>71.0</td>\n",
       "      <td>21.200991</td>\n",
       "      <td>US</td>\n",
       "      <td>January 17, 1994</td>\n",
       "      <td>23</td>\n",
       "      <td>Michigan State</td>\n",
       "      <td>2</td>\n",
       "      <td>8</td>\n",
       "      <td>173</td>\n",
       "      <td>30</td>\n",
       "      <td>85</td>\n",
       "      <td>35.3</td>\n",
       "      <td>12</td>\n",
       "      <td>32</td>\n",
       "      <td>37.5</td>\n",
       "      <td>21</td>\n",
       "      <td>26</td>\n",
       "      <td>80.8</td>\n",
       "      <td>6</td>\n",
       "      <td>22</td>\n",
       "      <td>28</td>\n",
       "      <td>12</td>\n",
       "      <td>3</td>\n",
       "      <td>6</td>\n",
       "      <td>12</td>\n",
       "      <td>93</td>\n",
       "      <td>0</td>\n",
       "      <td>0</td>\n",
       "    </tr>\n",
       "    <tr>\n",
       "      <th>1</th>\n",
       "      <td>Alana Beard</td>\n",
       "      <td>LA</td>\n",
       "      <td>G/F</td>\n",
       "      <td>185</td>\n",
       "      <td>73.0</td>\n",
       "      <td>21.329438</td>\n",
       "      <td>US</td>\n",
       "      <td>May 14, 1982</td>\n",
       "      <td>35</td>\n",
       "      <td>Duke</td>\n",
       "      <td>12</td>\n",
       "      <td>30</td>\n",
       "      <td>947</td>\n",
       "      <td>90</td>\n",
       "      <td>177</td>\n",
       "      <td>50.8</td>\n",
       "      <td>5</td>\n",
       "      <td>18</td>\n",
       "      <td>27.8</td>\n",
       "      <td>32</td>\n",
       "      <td>41</td>\n",
       "      <td>78.0</td>\n",
       "      <td>19</td>\n",
       "      <td>82</td>\n",
       "      <td>101</td>\n",
       "      <td>72</td>\n",
       "      <td>63</td>\n",
       "      <td>13</td>\n",
       "      <td>40</td>\n",
       "      <td>217</td>\n",
       "      <td>0</td>\n",
       "      <td>0</td>\n",
       "    </tr>\n",
       "    <tr>\n",
       "      <th>2</th>\n",
       "      <td>Alex Bentley</td>\n",
       "      <td>CON</td>\n",
       "      <td>G</td>\n",
       "      <td>170</td>\n",
       "      <td>69.0</td>\n",
       "      <td>23.875433</td>\n",
       "      <td>US</td>\n",
       "      <td>October 27, 1990</td>\n",
       "      <td>26</td>\n",
       "      <td>Penn State</td>\n",
       "      <td>4</td>\n",
       "      <td>26</td>\n",
       "      <td>617</td>\n",
       "      <td>82</td>\n",
       "      <td>218</td>\n",
       "      <td>37.6</td>\n",
       "      <td>19</td>\n",
       "      <td>64</td>\n",
       "      <td>29.7</td>\n",
       "      <td>35</td>\n",
       "      <td>42</td>\n",
       "      <td>83.3</td>\n",
       "      <td>4</td>\n",
       "      <td>36</td>\n",
       "      <td>40</td>\n",
       "      <td>78</td>\n",
       "      <td>22</td>\n",
       "      <td>3</td>\n",
       "      <td>24</td>\n",
       "      <td>218</td>\n",
       "      <td>0</td>\n",
       "      <td>0</td>\n",
       "    </tr>\n",
       "    <tr>\n",
       "      <th>3</th>\n",
       "      <td>Alex Montgomery</td>\n",
       "      <td>SAN</td>\n",
       "      <td>G/F</td>\n",
       "      <td>185</td>\n",
       "      <td>84.0</td>\n",
       "      <td>24.543462</td>\n",
       "      <td>US</td>\n",
       "      <td>December 11, 1988</td>\n",
       "      <td>28</td>\n",
       "      <td>Georgia Tech</td>\n",
       "      <td>6</td>\n",
       "      <td>31</td>\n",
       "      <td>721</td>\n",
       "      <td>75</td>\n",
       "      <td>195</td>\n",
       "      <td>38.5</td>\n",
       "      <td>21</td>\n",
       "      <td>68</td>\n",
       "      <td>30.9</td>\n",
       "      <td>17</td>\n",
       "      <td>21</td>\n",
       "      <td>81.0</td>\n",
       "      <td>35</td>\n",
       "      <td>134</td>\n",
       "      <td>169</td>\n",
       "      <td>65</td>\n",
       "      <td>20</td>\n",
       "      <td>10</td>\n",
       "      <td>38</td>\n",
       "      <td>188</td>\n",
       "      <td>2</td>\n",
       "      <td>0</td>\n",
       "    </tr>\n",
       "    <tr>\n",
       "      <th>4</th>\n",
       "      <td>Alexis Jones</td>\n",
       "      <td>MIN</td>\n",
       "      <td>G</td>\n",
       "      <td>175</td>\n",
       "      <td>78.0</td>\n",
       "      <td>25.469388</td>\n",
       "      <td>US</td>\n",
       "      <td>August 5, 1994</td>\n",
       "      <td>23</td>\n",
       "      <td>Baylor</td>\n",
       "      <td>R</td>\n",
       "      <td>24</td>\n",
       "      <td>137</td>\n",
       "      <td>16</td>\n",
       "      <td>50</td>\n",
       "      <td>32.0</td>\n",
       "      <td>7</td>\n",
       "      <td>20</td>\n",
       "      <td>35.0</td>\n",
       "      <td>11</td>\n",
       "      <td>12</td>\n",
       "      <td>91.7</td>\n",
       "      <td>3</td>\n",
       "      <td>9</td>\n",
       "      <td>12</td>\n",
       "      <td>12</td>\n",
       "      <td>7</td>\n",
       "      <td>0</td>\n",
       "      <td>14</td>\n",
       "      <td>50</td>\n",
       "      <td>0</td>\n",
       "      <td>0</td>\n",
       "    </tr>\n",
       "  </tbody>\n",
       "</table>\n",
       "</div>"
      ],
      "text/plain": [
       "              Name Team  Pos  Height  Weight        BMI Birth_Place  \\\n",
       "0    Aerial Powers  DAL    F     183    71.0  21.200991          US   \n",
       "1      Alana Beard   LA  G/F     185    73.0  21.329438          US   \n",
       "2     Alex Bentley  CON    G     170    69.0  23.875433          US   \n",
       "3  Alex Montgomery  SAN  G/F     185    84.0  24.543462          US   \n",
       "4     Alexis Jones  MIN    G     175    78.0  25.469388          US   \n",
       "\n",
       "           Birthdate  Age         College Experience  Games Played  MIN  FGM  \\\n",
       "0   January 17, 1994   23  Michigan State          2             8  173   30   \n",
       "1       May 14, 1982   35            Duke         12            30  947   90   \n",
       "2   October 27, 1990   26      Penn State          4            26  617   82   \n",
       "3  December 11, 1988   28    Georgia Tech          6            31  721   75   \n",
       "4     August 5, 1994   23          Baylor          R            24  137   16   \n",
       "\n",
       "   FGA   FG%  15:00  3PA   3P%  FTM  FTA   FT%  OREB  DREB  REB  AST  STL  \\\n",
       "0   85  35.3     12   32  37.5   21   26  80.8     6    22   28   12    3   \n",
       "1  177  50.8      5   18  27.8   32   41  78.0    19    82  101   72   63   \n",
       "2  218  37.6     19   64  29.7   35   42  83.3     4    36   40   78   22   \n",
       "3  195  38.5     21   68  30.9   17   21  81.0    35   134  169   65   20   \n",
       "4   50  32.0      7   20  35.0   11   12  91.7     3     9   12   12    7   \n",
       "\n",
       "   BLK  TO  PTS  DD2  TD3  \n",
       "0    6  12   93    0    0  \n",
       "1   13  40  217    0    0  \n",
       "2    3  24  218    0    0  \n",
       "3   10  38  188    2    0  \n",
       "4    0  14   50    0    0  "
      ]
     },
     "execution_count": 34,
     "metadata": {},
     "output_type": "execute_result"
    }
   ],
   "source": [
    "wnba.head()"
   ]
  },
  {
   "cell_type": "code",
   "execution_count": 44,
   "metadata": {},
   "outputs": [
    {
     "data": {
      "text/plain": [
       "['F', 'G/F', 'G', 'C', 'F/C']"
      ]
     },
     "execution_count": 44,
     "metadata": {},
     "output_type": "execute_result"
    }
   ],
   "source": [
    "list(wnba['Pos'].unique())"
   ]
  },
  {
   "cell_type": "code",
   "execution_count": 66,
   "metadata": {},
   "outputs": [],
   "source": [
    "# create a new column PPG, that combines PTS and Games Played columns\n",
    "wnba['PPG'] = wnba['PTS'] / wnba['Games Played']"
   ]
  },
  {
   "cell_type": "code",
   "execution_count": 67,
   "metadata": {},
   "outputs": [],
   "source": [
    "# stratify position F\n",
    "forward = wnba[wnba['Pos'] == 'F']\n",
    "# stratify position G/F\n",
    "guard_forward = wnba[wnba['Pos'] == 'G/F']\n",
    "# stratify position G\n",
    "guard = wnba[wnba['Pos'] == 'G']\n",
    "# stratify position F\n",
    "center = wnba[wnba['Pos'] == 'C']\n",
    "# stratify position F\n",
    "forward_center = wnba[wnba['Pos'] == 'F/C']\n",
    "\n",
    "# loop through the strata and sample 10 observations from each\n",
    "mean_points = {}\n",
    "\n",
    "for strata, position in [(forward, 'F'), (guard_forward, 'G/F'), \n",
    "                         (guard, 'G'), (center, 'C'), (forward_center, 'F/C')]:\n",
    "    # sample 10 observations using simple random sampling\n",
    "    sample = strata.sample(n=10, random_state=0)\n",
    "    # get mean PPG\n",
    "    mean_ppg = np.mean(sample['PPG'])\n",
    "    # store mean in mean_points dictionary with associated dataframe\n",
    "    mean_points[position] = mean_ppg"
   ]
  },
  {
   "cell_type": "code",
   "execution_count": 68,
   "metadata": {},
   "outputs": [
    {
     "data": {
      "text/plain": [
       "[(6.817264935760487, 'G/F'),\n",
       " (7.092926195632343, 'G'),\n",
       " (8.702175158545568, 'F'),\n",
       " (9.059118773946361, 'F/C'),\n",
       " (9.833761394334251, 'C')]"
      ]
     },
     "execution_count": 68,
     "metadata": {},
     "output_type": "execute_result"
    }
   ],
   "source": [
    "# sort dictionary according to values\n",
    "sorted_points = sorted((value, key) for (key, value) in mean_points.items()); sorted_points"
   ]
  },
  {
   "cell_type": "code",
   "execution_count": 69,
   "metadata": {},
   "outputs": [
    {
     "data": {
      "text/plain": [
       "'C'"
      ]
     },
     "execution_count": 69,
     "metadata": {},
     "output_type": "execute_result"
    }
   ],
   "source": [
    "# return position of the max value in mean_points dictionary\n",
    "max(mean_points, key=mean_points.get)"
   ]
  },
  {
   "cell_type": "code",
   "execution_count": 70,
   "metadata": {},
   "outputs": [],
   "source": [
    "# store value\n",
    "position_most_points = max(mean_points, key=mean_points.get)"
   ]
  },
  {
   "cell_type": "markdown",
   "metadata": {},
   "source": [
    "## _Proportional Stratified Sampling_\n",
    "\n",
    "This is a good start however we have overlooked one variable that is a signficant influence in regards to point scored: number of games played in. "
   ]
  },
  {
   "cell_type": "code",
   "execution_count": 73,
   "metadata": {},
   "outputs": [
    {
     "name": "stdout",
     "output_type": "stream",
     "text": [
      "Min: 2 \n",
      "Max: 32\n"
     ]
    }
   ],
   "source": [
    "print('Min:', wnba['Games Played'].min(), '\\nMax:', wnba['Games Played'].max())"
   ]
  },
  {
   "cell_type": "markdown",
   "metadata": {},
   "source": [
    "Now let's dive deeper into this and gain a better understanding of the distribution of the games played."
   ]
  },
  {
   "cell_type": "code",
   "execution_count": 76,
   "metadata": {},
   "outputs": [
    {
     "data": {
      "text/plain": [
       "(22.0, 32.0]     72.727273\n",
       "(12.0, 22.0]     18.181818\n",
       "(1.969, 12.0]     9.090909\n",
       "Name: Games Played, dtype: float64"
      ]
     },
     "execution_count": 76,
     "metadata": {},
     "output_type": "execute_result"
    }
   ],
   "source": [
    "wnba['Games Played'].value_counts(bins = 3, normalize = True) * 100"
   ]
  },
  {
   "cell_type": "markdown",
   "metadata": {},
   "source": [
    "As we can see above, `72.72%` of players had more than 23 games played. This particular group of players is probably exerting some influence on the means of the points scored that we previously got. \n",
    "\n",
    "Additionally, we have to think of this number when it comes to sampling. We could either get a sample that has a lower, higher, or similar rate of players from this group, which will have an effect on the variance of the mean (see scatter plot above). \n",
    "\n",
    "Knowing this, we can stratify our data set by number of games played and then randomly sample from each a _proportional_ number of observations. "
   ]
  },
  {
   "cell_type": "code",
   "execution_count": 80,
   "metadata": {},
   "outputs": [],
   "source": [
    "# stratify according to games played\n",
    "low_games = wnba[wnba['Games Played'] <= 12]\n",
    "mid_games = wnba[(wnba['Games Played'] > 12) & (wnba['Games Played'] <= 22)]\n",
    "high_games = wnba[wnba['Games Played'] > 22]"
   ]
  },
  {
   "cell_type": "code",
   "execution_count": 82,
   "metadata": {},
   "outputs": [],
   "source": [
    "games_played_mean = []\n",
    "\n",
    "# perform stratified proportional sampling 100 times\n",
    "for n in range(100):\n",
    "    # gather samples from each data set\n",
    "    s1 = low_games.sample(n = 1, random_state = n)\n",
    "    s2 = mid_games.sample(n = 2, random_state = n)\n",
    "    s3 = high_games.sample(n = 7, random_state = n)\n",
    "    # concatenate all together\n",
    "    data = pd.concat([s1, s2, s3])\n",
    "    # compute the mean\n",
    "    mean = np.mean(data['PTS'])\n",
    "    # append mean to list\n",
    "    games_played_mean.append(mean)"
   ]
  },
  {
   "cell_type": "code",
   "execution_count": 84,
   "metadata": {},
   "outputs": [
    {
     "data": {
      "image/png": "[encoded data removed]",
      "text/plain": [
       "<Figure size 576x432 with 1 Axes>"
      ]
     },
     "metadata": {
      "image/png": {
       "height": 357,
       "width": 487
      },
      "needs_background": "light"
     },
     "output_type": "display_data"
    }
   ],
   "source": [
    "# plot discrepency between the parameter an statistics\n",
    "plt.figure(figsize=(8,6))\n",
    "plt.scatter(x=np.arange(1,101), y = games_played_mean)\n",
    "plt.axhline(np.mean(wnba['PTS']), color='red');"
   ]
  },
  {
   "cell_type": "markdown",
   "metadata": {},
   "source": [
    "## _Choosing the Right Strate_\n",
    "\n",
    "Our results don't look any better than the previous one that utilized SRS. Why is this? Well, when it comes to games played, a player is considered to have played one game even if it was only for 1-2 minutes! Based off of this fact, we can see that `Games Played` may not be the best metric to stratify by. Instead we can stratify according to minutes played, which gives a better picture of exactly how much a player played. \n",
    "\n",
    "**Guidelines for choosing good strata:**\n",
    "1. _Minimize the variability within each stratum_\n",
    "    - if the variability is high, it might be a sign that you either need a more granular stratification or change the criterion of stratification\n",
    "2. _Maximize the variability between strata_\n",
    "    - good strata are different from one another\n",
    "3. _Stratification criterion should be strongly correlated with the property you're trying to measure_\n",
    "    - In our example, the column describing minutes played (the criterion) should be strongly correlated with the number of total points (property we want to measure)"
   ]
  },
  {
   "cell_type": "code",
   "execution_count": 87,
   "metadata": {},
   "outputs": [
    {
     "data": {
      "text/plain": [
       "(347.333, 682.667]    34.965035\n",
       "(10.993, 347.333]     33.566434\n",
       "(682.667, 1018.0]     31.468531\n",
       "Name: MIN, dtype: float64"
      ]
     },
     "execution_count": 87,
     "metadata": {},
     "output_type": "execute_result"
    }
   ],
   "source": [
    "# get breakdown of Minutes Played\n",
    "wnba['MIN'].value_counts(bins = 3, normalize = True) * 100"
   ]
  },
  {
   "cell_type": "code",
   "execution_count": 88,
   "metadata": {},
   "outputs": [],
   "source": [
    "# stratify according to minutes\n",
    "min_low = wnba[wnba['MIN'] <= 347.333]\n",
    "min_mid = wnba[(wnba['MIN'] > 347.333) & (wnba['MIN'] <= 682.667)]\n",
    "min_high = wnba[wnba['MIN'] > 682.667]"
   ]
  },
  {
   "cell_type": "code",
   "execution_count": 89,
   "metadata": {},
   "outputs": [],
   "source": [
    "minutes_played_mean = []\n",
    "\n",
    "# perform stratified sampling according to minutes played\n",
    "for n in range(100):\n",
    "    # gather samples from each data set\n",
    "    s1 = min_low.sample(n = 3, random_state = n)\n",
    "    s2 = min_mid.sample(n = 4, random_state = n)\n",
    "    s3 = min_high.sample(n = 3, random_state = n)\n",
    "    # concatenate all together\n",
    "    data = pd.concat([s1, s2, s3])\n",
    "    # compute the mean\n",
    "    mean = np.mean(data['PTS'])\n",
    "    # append mean to list\n",
    "    minutes_played_mean.append(mean)"
   ]
  },
  {
   "cell_type": "code",
   "execution_count": 91,
   "metadata": {},
   "outputs": [
    {
     "data": {
      "image/png": "[encoded data removed]",
      "text/plain": [
       "<Figure size 576x432 with 1 Axes>"
      ]
     },
     "metadata": {
      "image/png": {
       "height": 357,
       "width": 487
      },
      "needs_background": "light"
     },
     "output_type": "display_data"
    }
   ],
   "source": [
    "# plot discrepency between the parameter an statistics\n",
    "plt.figure(figsize=(8,6))\n",
    "plt.scatter(x=np.arange(1,101), y = minutes_played_mean)\n",
    "plt.axhline(np.mean(wnba['PTS']), color='red');"
   ]
  },
  {
   "cell_type": "markdown",
   "metadata": {},
   "source": [
    "## _Cluster Sampling_\n",
    "\n",
    "**Notes**\n",
    "- Common in data science that data is scattered in such a way that it comes from disparate sources\n",
    "    - what you could do in this case is list all the data sources and then randomly pick a few of them to collect data from\n",
    "- Theoretical situation: had to collect data from each team's website\n",
    "    - each team's website is considered a cluster"
   ]
  },
  {
   "cell_type": "code",
   "execution_count": 92,
   "metadata": {},
   "outputs": [
    {
     "data": {
      "text/plain": [
       "array(['DAL', 'LA', 'CON', 'SAN', 'MIN', 'SEA', 'PHO', 'CHI', 'WAS', 'NY',\n",
       "       'ATL', 'IND'], dtype=object)"
      ]
     },
     "execution_count": 92,
     "metadata": {},
     "output_type": "execute_result"
    }
   ],
   "source": [
    "# lets see each team\n",
    "wnba['Team'].unique()"
   ]
  },
  {
   "cell_type": "markdown",
   "metadata": {},
   "source": [
    "For cluster sampling in our theoretical situation, we'd find a way to randomly pick a few clusters from our listing, and we need to be sure that we avoid picking a cluster twice."
   ]
  },
  {
   "cell_type": "code",
   "execution_count": 100,
   "metadata": {},
   "outputs": [
    {
     "data": {
      "text/plain": [
       "6     PHO\n",
       "11    IND\n",
       "4     MIN\n",
       "10    ATL\n",
       "dtype: object"
      ]
     },
     "execution_count": 100,
     "metadata": {},
     "output_type": "execute_result"
    }
   ],
   "source": [
    "# on way to sample four clusers randomly\n",
    "teams = pd.Series(wnba['Team'].unique()).sample(4, random_state = 0); teams"
   ]
  },
  {
   "cell_type": "code",
   "execution_count": 103,
   "metadata": {},
   "outputs": [
    {
     "data": {
      "text/plain": [
       "'PHO'"
      ]
     },
     "execution_count": 103,
     "metadata": {},
     "output_type": "execute_result"
    }
   ],
   "source": [
    "list(teams)[0]"
   ]
  },
  {
   "cell_type": "markdown",
   "metadata": {},
   "source": [
    "With this knowledge, we have a lot of options at our disposal. We can either collect all the data from each cluster, or just sample; additionally we can use different sampling methods for different clusters. As an example, we could use stratified sampling on the first two clusters and SRS on the other two. "
   ]
  },
  {
   "cell_type": "code",
   "execution_count": 109,
   "metadata": {},
   "outputs": [
    {
     "data": {
      "text/html": [
       "<div>\n",
       "<style scoped>\n",
       "    .dataframe tbody tr th:only-of-type {\n",
       "        vertical-align: middle;\n",
       "    }\n",
       "\n",
       "    .dataframe tbody tr th {\n",
       "        vertical-align: top;\n",
       "    }\n",
       "\n",
       "    .dataframe thead th {\n",
       "        text-align: right;\n",
       "    }\n",
       "</style>\n",
       "<table border=\"1\" class=\"dataframe\">\n",
       "  <thead>\n",
       "    <tr style=\"text-align: right;\">\n",
       "      <th></th>\n",
       "      <th>Name</th>\n",
       "      <th>Team</th>\n",
       "      <th>Pos</th>\n",
       "      <th>Height</th>\n",
       "      <th>Weight</th>\n",
       "      <th>BMI</th>\n",
       "      <th>Birth_Place</th>\n",
       "      <th>Birthdate</th>\n",
       "      <th>Age</th>\n",
       "      <th>College</th>\n",
       "      <th>Experience</th>\n",
       "      <th>Games Played</th>\n",
       "      <th>MIN</th>\n",
       "      <th>FGM</th>\n",
       "      <th>FGA</th>\n",
       "      <th>FG%</th>\n",
       "      <th>15:00</th>\n",
       "      <th>3PA</th>\n",
       "      <th>3P%</th>\n",
       "      <th>FTM</th>\n",
       "      <th>FTA</th>\n",
       "      <th>FT%</th>\n",
       "      <th>OREB</th>\n",
       "      <th>DREB</th>\n",
       "      <th>REB</th>\n",
       "      <th>AST</th>\n",
       "      <th>STL</th>\n",
       "      <th>BLK</th>\n",
       "      <th>TO</th>\n",
       "      <th>PTS</th>\n",
       "      <th>DD2</th>\n",
       "      <th>TD3</th>\n",
       "      <th>PPG</th>\n",
       "    </tr>\n",
       "  </thead>\n",
       "  <tbody>\n",
       "    <tr>\n",
       "      <th>6</th>\n",
       "      <td>Alexis Prince</td>\n",
       "      <td>PHO</td>\n",
       "      <td>G</td>\n",
       "      <td>188</td>\n",
       "      <td>81.0</td>\n",
       "      <td>22.917610</td>\n",
       "      <td>US</td>\n",
       "      <td>February 5, 1994</td>\n",
       "      <td>23</td>\n",
       "      <td>Baylor</td>\n",
       "      <td>R</td>\n",
       "      <td>16</td>\n",
       "      <td>112</td>\n",
       "      <td>9</td>\n",
       "      <td>34</td>\n",
       "      <td>26.5</td>\n",
       "      <td>4</td>\n",
       "      <td>15</td>\n",
       "      <td>26.7</td>\n",
       "      <td>2</td>\n",
       "      <td>2</td>\n",
       "      <td>100.0</td>\n",
       "      <td>1</td>\n",
       "      <td>14</td>\n",
       "      <td>15</td>\n",
       "      <td>5</td>\n",
       "      <td>4</td>\n",
       "      <td>3</td>\n",
       "      <td>3</td>\n",
       "      <td>24</td>\n",
       "      <td>0</td>\n",
       "      <td>0</td>\n",
       "      <td>1.500000</td>\n",
       "    </tr>\n",
       "    <tr>\n",
       "      <th>15</th>\n",
       "      <td>Angel Robinson</td>\n",
       "      <td>PHO</td>\n",
       "      <td>F/C</td>\n",
       "      <td>198</td>\n",
       "      <td>88.0</td>\n",
       "      <td>22.446689</td>\n",
       "      <td>US</td>\n",
       "      <td>August 30, 1995</td>\n",
       "      <td>21</td>\n",
       "      <td>Arizona State</td>\n",
       "      <td>1</td>\n",
       "      <td>15</td>\n",
       "      <td>237</td>\n",
       "      <td>25</td>\n",
       "      <td>44</td>\n",
       "      <td>56.8</td>\n",
       "      <td>1</td>\n",
       "      <td>1</td>\n",
       "      <td>100.0</td>\n",
       "      <td>7</td>\n",
       "      <td>7</td>\n",
       "      <td>100.0</td>\n",
       "      <td>16</td>\n",
       "      <td>42</td>\n",
       "      <td>58</td>\n",
       "      <td>8</td>\n",
       "      <td>1</td>\n",
       "      <td>11</td>\n",
       "      <td>16</td>\n",
       "      <td>58</td>\n",
       "      <td>0</td>\n",
       "      <td>0</td>\n",
       "      <td>3.866667</td>\n",
       "    </tr>\n",
       "    <tr>\n",
       "      <th>25</th>\n",
       "      <td>Brittney Griner</td>\n",
       "      <td>PHO</td>\n",
       "      <td>C</td>\n",
       "      <td>206</td>\n",
       "      <td>93.0</td>\n",
       "      <td>21.915355</td>\n",
       "      <td>US</td>\n",
       "      <td>October 18, 1990</td>\n",
       "      <td>26</td>\n",
       "      <td>Baylor</td>\n",
       "      <td>5</td>\n",
       "      <td>22</td>\n",
       "      <td>682</td>\n",
       "      <td>167</td>\n",
       "      <td>293</td>\n",
       "      <td>57.0</td>\n",
       "      <td>0</td>\n",
       "      <td>0</td>\n",
       "      <td>0.0</td>\n",
       "      <td>127</td>\n",
       "      <td>154</td>\n",
       "      <td>82.5</td>\n",
       "      <td>43</td>\n",
       "      <td>129</td>\n",
       "      <td>172</td>\n",
       "      <td>39</td>\n",
       "      <td>13</td>\n",
       "      <td>54</td>\n",
       "      <td>52</td>\n",
       "      <td>461</td>\n",
       "      <td>6</td>\n",
       "      <td>0</td>\n",
       "      <td>20.954545</td>\n",
       "    </tr>\n",
       "    <tr>\n",
       "      <th>27</th>\n",
       "      <td>Camille Little</td>\n",
       "      <td>PHO</td>\n",
       "      <td>F</td>\n",
       "      <td>188</td>\n",
       "      <td>82.0</td>\n",
       "      <td>23.200543</td>\n",
       "      <td>US</td>\n",
       "      <td>January 18, 1985</td>\n",
       "      <td>32</td>\n",
       "      <td>North Carolina</td>\n",
       "      <td>11</td>\n",
       "      <td>30</td>\n",
       "      <td>759</td>\n",
       "      <td>93</td>\n",
       "      <td>219</td>\n",
       "      <td>42.5</td>\n",
       "      <td>9</td>\n",
       "      <td>52</td>\n",
       "      <td>17.3</td>\n",
       "      <td>33</td>\n",
       "      <td>52</td>\n",
       "      <td>63.5</td>\n",
       "      <td>42</td>\n",
       "      <td>71</td>\n",
       "      <td>113</td>\n",
       "      <td>42</td>\n",
       "      <td>28</td>\n",
       "      <td>13</td>\n",
       "      <td>50</td>\n",
       "      <td>228</td>\n",
       "      <td>0</td>\n",
       "      <td>0</td>\n",
       "      <td>7.600000</td>\n",
       "    </tr>\n",
       "    <tr>\n",
       "      <th>32</th>\n",
       "      <td>Cayla George</td>\n",
       "      <td>PHO</td>\n",
       "      <td>C</td>\n",
       "      <td>193</td>\n",
       "      <td>87.0</td>\n",
       "      <td>23.356332</td>\n",
       "      <td>AU</td>\n",
       "      <td>April 20, 1987</td>\n",
       "      <td>30</td>\n",
       "      <td>Georgia</td>\n",
       "      <td>1</td>\n",
       "      <td>28</td>\n",
       "      <td>365</td>\n",
       "      <td>40</td>\n",
       "      <td>105</td>\n",
       "      <td>38.1</td>\n",
       "      <td>13</td>\n",
       "      <td>45</td>\n",
       "      <td>28.9</td>\n",
       "      <td>7</td>\n",
       "      <td>12</td>\n",
       "      <td>58.3</td>\n",
       "      <td>10</td>\n",
       "      <td>71</td>\n",
       "      <td>81</td>\n",
       "      <td>15</td>\n",
       "      <td>9</td>\n",
       "      <td>11</td>\n",
       "      <td>13</td>\n",
       "      <td>100</td>\n",
       "      <td>1</td>\n",
       "      <td>0</td>\n",
       "      <td>3.571429</td>\n",
       "    </tr>\n",
       "  </tbody>\n",
       "</table>\n",
       "</div>"
      ],
      "text/plain": [
       "               Name Team  Pos  Height  Weight        BMI Birth_Place  \\\n",
       "6     Alexis Prince  PHO    G     188    81.0  22.917610          US   \n",
       "15   Angel Robinson  PHO  F/C     198    88.0  22.446689          US   \n",
       "25  Brittney Griner  PHO    C     206    93.0  21.915355          US   \n",
       "27   Camille Little  PHO    F     188    82.0  23.200543          US   \n",
       "32     Cayla George  PHO    C     193    87.0  23.356332          AU   \n",
       "\n",
       "           Birthdate  Age         College Experience  Games Played  MIN  FGM  \\\n",
       "6   February 5, 1994   23          Baylor          R            16  112    9   \n",
       "15   August 30, 1995   21   Arizona State          1            15  237   25   \n",
       "25  October 18, 1990   26          Baylor          5            22  682  167   \n",
       "27  January 18, 1985   32  North Carolina         11            30  759   93   \n",
       "32    April 20, 1987   30         Georgia          1            28  365   40   \n",
       "\n",
       "    FGA   FG%  15:00  3PA    3P%  FTM  FTA    FT%  OREB  DREB  REB  AST  STL  \\\n",
       "6    34  26.5      4   15   26.7    2    2  100.0     1    14   15    5    4   \n",
       "15   44  56.8      1    1  100.0    7    7  100.0    16    42   58    8    1   \n",
       "25  293  57.0      0    0    0.0  127  154   82.5    43   129  172   39   13   \n",
       "27  219  42.5      9   52   17.3   33   52   63.5    42    71  113   42   28   \n",
       "32  105  38.1     13   45   28.9    7   12   58.3    10    71   81   15    9   \n",
       "\n",
       "    BLK  TO  PTS  DD2  TD3        PPG  \n",
       "6     3   3   24    0    0   1.500000  \n",
       "15   11  16   58    0    0   3.866667  \n",
       "25   54  52  461    6    0  20.954545  \n",
       "27   13  50  228    0    0   7.600000  \n",
       "32   11  13  100    1    0   3.571429  "
      ]
     },
     "execution_count": 109,
     "metadata": {},
     "output_type": "execute_result"
    }
   ],
   "source": [
    "# from the four teams above, create data sets for each (i.e. the clusters)\n",
    "t1 = wnba[wnba['Team'] == list(teams)[0]]\n",
    "t2 = wnba[wnba['Team'] == list(teams)[1]]\n",
    "t3 = wnba[wnba['Team'] == list(teams)[2]]\n",
    "t4 = wnba[wnba['Team'] == list(teams)[3]]\n",
    "\n",
    "# combine all together\n",
    "data = pd.concat([t1, t2, t3, t4]); data.head()"
   ]
  },
  {
   "cell_type": "markdown",
   "metadata": {},
   "source": [
    "We're now going to use the data collected to estimate the mean for the following player attributes:\n",
    "- Height\n",
    "- Age\n",
    "- BMI\n",
    "- Total points"
   ]
  },
  {
   "cell_type": "code",
   "execution_count": 112,
   "metadata": {},
   "outputs": [
    {
     "name": "stdout",
     "output_type": "stream",
     "text": [
      "Sampling error for height: -0.06400121617511445 \n",
      "Sampling error for age: -1.401337792642142 \n",
      "Sampling error for BMI: 0.23095444165950596 \n",
      "Sampling error for total points: -27.79674673152934\n"
     ]
    }
   ],
   "source": [
    "# sampling error for height\n",
    "sampling_error_height = np.mean(wnba['Height']) - np.mean(data['Height'])\n",
    "# sampling error for age\n",
    "sampling_error_age = np.mean(wnba['Age']) - np.mean(data['Age'])\n",
    "# sampling error for BMI\n",
    "sampling_error_BMI = np.mean(wnba['BMI']) - np.mean(data['BMI'])\n",
    "# sampling error for total points\n",
    "sampling_error_points = np.mean(wnba['PTS']) - np.mean(data['PTS'])\n",
    "\n",
    "print('Sampling error for height:' , sampling_error_height, \n",
    "      '\\nSampling error for age:', sampling_error_age, \n",
    "      '\\nSampling error for BMI:', sampling_error_BMI, \n",
    "      '\\nSampling error for total points:', sampling_error_points)"
   ]
  },
  {
   "cell_type": "markdown",
   "metadata": {},
   "source": [
    "## _Sampling in Data Science Practice_\n",
    "\n",
    "**Notes**\n",
    "- Say you work for e-commerce company that has table in database with 10+ million rows of online transactions\n",
    "    - job is to find categories of customers with low buying rate\n",
    "    - sampling allows us to work on and gain valuable insights on significantly less than 10+ million rows (which will save you a lot of code!)\n",
    "- Another situation, collecting data from an API that either has usage limit or is not free\n",
    "    - forced to sample, knowing how and what to sample can be of great use\n",
    "- Also, when data is scattered across different locations, sampling can be a valuable tool\n",
    "    - clustering sampling would be great choice in this scenario\n",
    "  \n",
    "## Descriptive and Inferential Statistics\n",
    "- when describing a sample/population (by measuring averages, proportions, and other metrics) we do **descriptive statistics**\n",
    "- when trying to use a sample to draw conclusions about a population --> inferential statistics\n",
    "    - we're _inferring_ information from the sample about the population"
   ]
  }
 ],
 "metadata": {
  "colab": {
   "collapsed_sections": [],
   "name": "dataquest-sampling.ipynb",
   "provenance": [],
   "version": "0.3.2"
  },
  "kernelspec": {
   "display_name": "Python 3",
   "language": "python",
   "name": "python3"
  },
  "language_info": {
   "codemirror_mode": {
    "name": "ipython",
    "version": 3
   },
   "file_extension": ".py",
   "mimetype": "text/x-python",
   "name": "python",
   "nbconvert_exporter": "python",
   "pygments_lexer": "ipython3",
   "version": "3.7.3"
  }
 },
 "nbformat": 4,
 "nbformat_minor": 4
}
