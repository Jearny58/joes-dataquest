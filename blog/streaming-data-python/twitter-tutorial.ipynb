{
 "cells": [
  {
   "cell_type": "markdown",
   "metadata": {},
   "source": [
    "# _Tutorial: Working with Streaming Data and the Twitter API in Python_\n",
    "\n",
    "This notebook is based on the following Twitter API [tutorial](https://www.dataquest.io/blog/streaming-data-python/) on Dataquest. The idea for this project _was not my own_, however I thought it would be best to follow along with the lesson and gain skills related to streaming data. \n",
    "\n",
    "The tutorial walks us through how to \"_create a tool that enables us to find out how people feel about Donald Trump and Hillary Clinton, both of whom are US Presidential candidates._\" This is what we'll need to do in this tutorial:\n",
    "- Stream tweets from the Twitter API\n",
    "- Filter out the tweets that aren't relevant\n",
    "- Process the tweets to figure out what emotions they express about each candidate\n",
    "- store the tweets for additional analysis\n",
    "\n",
    "## _Programming Paradigm: Event-driven programming_\n",
    "\n",
    "This type of programming is based around a program executing actions based on external inputs (like our streaming tweets). Below is some psuedocode that will get us started."
   ]
  },
  {
   "cell_type": "code",
   "execution_count": null,
   "metadata": {},
   "outputs": [],
   "source": [
    "def filter_tweet(tweet):\n",
    "# Remove any tweets that don't match our criteria.\n",
    "    if not tweet_matches_criteria(tweet):\n",
    "        return\n",
    "# Process the remaining tweets.\n",
    "process_tweet(tweet)\n",
    "def process_tweet(tweet):\n",
    "# Annotate the tweet dictionary with any other information we need.\n",
    "    tweet[\"sentiment\"] = get_sentiment(tweet)\n",
    "# Store the tweet.\n",
    "store_tweet(tweet)\n",
    "def store_tweet(tweet):\n",
    "# Saves a tweet for later processing. ..."
   ]
  },
  {
   "cell_type": "markdown",
   "metadata": {},
   "source": [
    "# _The Twitter Streaming API_\n",
    "\n",
    "- Link: https://developer.twitter.com/en/docs\n",
    "- Main rules when streaming tweets from Twitter:\n",
    "    - Create persistent connection to the API, read each connection incrementally\n",
    "    - process tweets quickly, and don't let your program get backed up\n",
    "    - handle errors and other issues properly\n",
    "- Link for Twitter Streaming API clients: https://developer.twitter.com/en/community\n",
    "    - [Tweepy](https://github.com/tweepy/tweepy) is most popular"
   ]
  },
  {
   "cell_type": "code",
   "execution_count": 1,
   "metadata": {},
   "outputs": [],
   "source": [
    "# import libraries that we'll need for later\n",
    "from settings import private\n",
    "import tweepy\n",
    "import matplotlib.pyplot as plt\n",
    "import scipy\n",
    "import numpy as np\n",
    "import pandas as pd\n",
    "from textblob import TextBlob\n",
    "from sqlalchemy.exc import ProgrammingError\n",
    "import json"
   ]
  },
  {
   "cell_type": "code",
   "execution_count": 2,
   "metadata": {},
   "outputs": [],
   "source": [
    "# setup tweepy to authenticate with Twitter with the following code\n",
    "auth = tweepy.OAuthHandler(private.TWITTER_APP_KEY, private.TWITTER_APP_SECRET)\n",
    "auth.set_access_token(private.TWITTER_KEY, private.TWITTER_SECRET)"
   ]
  },
  {
   "cell_type": "code",
   "execution_count": 3,
   "metadata": {},
   "outputs": [],
   "source": [
    "# create an API object to pull data from Twitter, pass in the authentication from above\n",
    "api = tweepy.API(auth)"
   ]
  },
  {
   "cell_type": "markdown",
   "metadata": {},
   "source": [
    "# _Setting up a listener_\n",
    "\n",
    "- opening Twitter stream using tweepy requires user-defined `listener` class\n",
    "- `StreamListener` class has `on_data` method\n",
    "    - automatically figures out what kind of data Twitter sent\n",
    "    - calls appropriate method to deal with data type\n",
    "- for now, we only care about when users post tweets\n",
    "    - will override the `on_status` method"
   ]
  },
  {
   "cell_type": "code",
   "execution_count": 4,
   "metadata": {},
   "outputs": [],
   "source": [
    "# create a listener that prints text of any tweet that comes from the Twitter API\n",
    "class StreamListener(tweepy.StreamListener):\n",
    "    def on_status(self, status):\n",
    "        print(status.text)\n",
    "        \n",
    "    # override on_error method to handle errors properly, will send 420 status code if being rate limited\n",
    "    # and will disconnect, if anything else will keep going\n",
    "    def on_error(self, status_code):\n",
    "        if status_code == 420:\n",
    "            return False"
   ]
  },
  {
   "cell_type": "markdown",
   "metadata": {},
   "source": [
    "# _Starting the listener_\n",
    "\n",
    "- once we setup listener, we're ready to wire everything up and stream tweets\n",
    "- below we'll:\n",
    "    - create an instance of `StreamListener` class\n",
    "    - create an instance of the tweepy `Stream` class\n",
    "        - streams the tweets\n",
    "        - pass authentication credentials `api.auth` so that Twitter allows us to connect\n",
    "        - pass in `stream_listener` so that our callback functions are called\n",
    "    - start streaming tweets by calling `filter` method\n",
    "        - streams tweets from `filter.json` API endpoint, passing to listener callback\n",
    "            - pass this in a list of terms to filter on, as API requires"
   ]
  },
  {
   "cell_type": "code",
   "execution_count": null,
   "metadata": {},
   "outputs": [],
   "source": [
    "# this will simply print out tweets mentioning the terms below, \n",
    "# Run if interested in getting a stream of tweets but the resulting output is extremely long\n",
    "stream_listener = StreamListener()\n",
    "stream = tweepy.Stream(auth=api.auth, listener=stream_listener)\n",
    "stream.filter(track=[\"trump\", \"donald trump\", \"impeachment\"])"
   ]
  },
  {
   "cell_type": "markdown",
   "metadata": {},
   "source": [
    "# _Filtering events_\n",
    "\n",
    "- what if we want to ignore the retweets?\n",
    "    - reason: same text can show up hundreds or thousands of times, skewing results\n",
    "        - one person's tweet will count thousands of times in our analysis\n",
    "- tweet that is passed into `on_status` method is instance of `Status` class\n",
    "    - has properties describing tweet, including if it was retweeted\n",
    "- below we'll modify the `on_status` function to filter out retweets\n",
    "    - if the `retweeted_status` property exists, then don't process the tweet\n",
    "    - print all tweets that aren't retweets"
   ]
  },
  {
   "cell_type": "code",
   "execution_count": 5,
   "metadata": {},
   "outputs": [],
   "source": [
    "# modification of on_status function that filters out retweets\n",
    "class StreamListener(tweepy.StreamListener):\n",
    "    def on_status(self, status):\n",
    "        if status.retweeted:\n",
    "            return\n",
    "        print(status.text)\n",
    "        \n",
    "    # override on_error method to handle errors properly, will send 420 status code if being rate limited\n",
    "    # and will disconnect, if anything else will keep going\n",
    "    def on_error(self, status_code):\n",
    "        if status_code == 420:\n",
    "            return False"
   ]
  },
  {
   "cell_type": "code",
   "execution_count": 7,
   "metadata": {},
   "outputs": [
    {
     "name": "stdout",
     "output_type": "stream",
     "text": [
      "Last edit:  2019-10-01 13:43:23.910273\n"
     ]
    }
   ],
   "source": [
    "from datetime import datetime\n",
    "# current date and time\n",
    "now = datetime.now()\n",
    "print(\"Last edit: \", now)"
   ]
  },
  {
   "cell_type": "markdown",
   "metadata": {},
   "source": [
    "# _Filtering events (cont.)_\n",
    "\n",
    "- full [list](https://developer.twitter.com/en/docs/tweets/data-dictionary/overview/tweet-object) of available properties of tweets\n",
    "- could perform additional filtering by using fields such as:\n",
    "    - `retweet_count` — the number of times a tweet has been retweeted.\n",
    "    - `withheld_in_countries` — the tweet has been withheld in certain countries.\n",
    "    - `favorite_count` — the number of times the tweet has been favorited by other users.\n",
    "\n",
    "Last edit was made approximately at the time listed above. \n",
    "\n",
    "Link to blog post: [Dataquest Streaming Tutorial](https://www.dataquest.io/blog/streaming-data-python/)"
   ]
  },
  {
   "cell_type": "markdown",
   "metadata": {},
   "source": [
    "# _Extracting information_\n",
    "\n",
    "- we have to process tweets quickly --> i.e. don't do anything too intensive before saving them\n",
    "- focus on extracting and storing properties we want\n",
    "- there are a few fields that will be interesting to us:\n",
    "    - `status.user.description`: the user's description (from their biography)\n",
    "    - `status.user.location`: location the user who created the tweet wrote in their bio\n",
    "    - `status.user.screen_name`: screen name of the user\n",
    "    - `status.user.created_at`: when the user's account was created\n",
    "    - `status.user.followers_count`: how many followers the user has\n",
    "    - `status.user.profile_background_color`: background color the user has chosen for their profile\n",
    "    - `status.text`: text of the tweet\n",
    "    - `status.id_str`: unique ID Twitter assigned to the tweet\n",
    "    - `status.created_at`: when tweet was sent\n",
    "    - `status.retweet_count`: how many times the tweet has been retweeted\n",
    "    - `status.coordinates`: geographic coordinates from where the tweet was sent\n",
    "- Can extract the above information in the `on_status` method"
   ]
  },
  {
   "cell_type": "code",
   "execution_count": 6,
   "metadata": {},
   "outputs": [],
   "source": [
    "# modification of on_status function that filters out retweets\n",
    "class StreamListener(tweepy.StreamListener):\n",
    "    def on_status(self, status):\n",
    "        if status.retweeted:\n",
    "            return\n",
    "\n",
    "        description = status.user.description\n",
    "        loc = status.user.location\n",
    "        text = status.text\n",
    "        coords = status.coordinates\n",
    "        geo = status.geo\n",
    "        name = status.user.screen_name\n",
    "        user_created = status.user.created_at\n",
    "        followers = status.user.followers_count\n",
    "        id_str = status.id_str\n",
    "        created = status.created_at\n",
    "        retweets = status.retweet_count\n",
    "        bg_color = status.user.profile_background_color\n",
    "        \n",
    "    # override on_error method to handle errors properly, will send 420 status code if being rate limited\n",
    "    # and will disconnect, if anything else will keep going\n",
    "    def on_error(self, status_code):\n",
    "        if status_code == 420:\n",
    "            return False"
   ]
  },
  {
   "cell_type": "markdown",
   "metadata": {},
   "source": [
    "# _Processing the tweets_\n",
    "\n",
    "- interested in emotion of people in regards to recent impeachment inquiry into President Donald Trump\n",
    "    - want to analyze the text of each tweet to figure out sentiment it expresses\n",
    "- can use sentiment analysis to tag each tweet with a sentiment score, from `-1` to `1`\n",
    "    - `-1`: means the tweet is very negative\n",
    "    - `0`: neutral\n",
    "    - `1`: means the tweet is very positive\n",
    "- sentiment analysis tools typically generate score based on works known to be positive/negative sentiment\n",
    "    - ex. if `hate` occurs in a string, more likely to be negative\n",
    "    - essentially string matching, extremely quick (i.e. a good thing for this case)\n",
    "- can use `TextBlob` library to perform sentiment analysis"
   ]
  },
  {
   "cell_type": "code",
   "execution_count": 7,
   "metadata": {},
   "outputs": [],
   "source": [
    "# modification of on_status function that filters out retweets\n",
    "class StreamListener(tweepy.StreamListener):\n",
    "    def on_status(self, status):\n",
    "        if status.retweeted:\n",
    "            return\n",
    "\n",
    "        description = status.user.description\n",
    "        loc = status.user.location\n",
    "        text = status.text\n",
    "        coords = status.coordinates\n",
    "        geo = status.geo\n",
    "        name = status.user.screen_name\n",
    "        user_created = status.user.created_at\n",
    "        followers = status.user.followers_count\n",
    "        id_str = status.id_str\n",
    "        created = status.created_at\n",
    "        retweets = status.retweet_count\n",
    "        bg_color = status.user.profile_background_color\n",
    "        blob = TextBlob(text) # initialize TextBlob class on the text of the tweet\n",
    "        sent = blob.sentiment # get sentiment score from the class\n",
    "        \n",
    "    # override on_error method to handle errors properly, will send 420 status code if being rate limited\n",
    "    # and will disconnect, if anything else will keep going\n",
    "    def on_error(self, status_code):\n",
    "        if status_code == 420:\n",
    "            return False"
   ]
  },
  {
   "cell_type": "markdown",
   "metadata": {},
   "source": [
    "# _Processing the tweets (cont.)_\n",
    "\n",
    "- once we have the `sent` object, we need to extract `polarity` and `subjectivity` from it\n",
    "    - `polarity`: positivity/negativity of tweet on -1 to 1 scale\n",
    "    - `subjectivity`: how objective/subjective the tweet is, 0 being very objective and 1 being very subjective"
   ]
  },
  {
   "cell_type": "code",
   "execution_count": 8,
   "metadata": {},
   "outputs": [],
   "source": [
    "# modification of on_status function that filters out retweets\n",
    "class StreamListener(tweepy.StreamListener):\n",
    "    def on_status(self, status):\n",
    "        if status.retweeted:\n",
    "            return\n",
    "\n",
    "        description = status.user.description\n",
    "        loc = status.user.location\n",
    "        text = status.text\n",
    "        coords = status.coordinates\n",
    "        geo = status.geo\n",
    "        name = status.user.screen_name\n",
    "        user_created = status.user.created_at\n",
    "        followers = status.user.followers_count\n",
    "        id_str = status.id_str\n",
    "        created = status.created_at\n",
    "        retweets = status.retweet_count\n",
    "        bg_color = status.user.profile_background_color\n",
    "        blob = TextBlob(text) # initialize TextBlob class on the text of the tweet\n",
    "        sent = blob.sentiment # get sentiment score from the class\n",
    "        polarity = sent.polarity # get polarity score from sentiment\n",
    "        subjectivity = sent.subjectivity # get subjectivity score from sentiment\n",
    "        \n",
    "    # override on_error method to handle errors properly, will send 420 status code if being rate limited\n",
    "    # and will disconnect, if anything else will keep going\n",
    "    def on_error(self, status_code):\n",
    "        if status_code == 420:\n",
    "            return False"
   ]
  },
  {
   "cell_type": "markdown",
   "metadata": {},
   "source": [
    "# _Storing the tweets_\n",
    "\n",
    "- once we have data we want on each tweet, we're ready to store it for later processing\n",
    "- storing in CSV makes it hard to query\n",
    "    - if we want to read from CSV file, either have to load whole thing or go through process to load only the pieces we want\n",
    "- database is a good palce to store our data, specifically a relational database called SQLite\n",
    "    - simple, doesn't require any processes to be running\n",
    "    - everything is stored in a single file\n",
    "- need to use the [dataset](https://dataset.readthedocs.io/en/latest/) package\n",
    "    - makes it simple to access a database and store data\n",
    "    - we simply store data and the `dataset` package will automatically creat the database and tables we need"
   ]
  },
  {
   "cell_type": "code",
   "execution_count": 11,
   "metadata": {},
   "outputs": [],
   "source": [
    "# first have to connect our database using a connection string\n",
    "import dataset\n",
    "db = dataset.connect(\"sqlite:///tweets.db\")"
   ]
  },
  {
   "cell_type": "markdown",
   "metadata": {},
   "source": [
    "When using _SQLite_, if the database file (i.e. `tweets.db`) doesn't exist, it will automatically be created in the current folder. \n",
    "\n",
    "Next, we have to dump our coordinates json dictionary to a string, so we can store it:"
   ]
  },
  {
   "cell_type": "code",
   "execution_count": 12,
   "metadata": {},
   "outputs": [],
   "source": [
    "# modification of on_status function \n",
    "class StreamListener(tweepy.StreamListener):\n",
    "    def on_status(self, status):\n",
    "        if status.retweeted:\n",
    "            return\n",
    "\n",
    "        description = status.user.description\n",
    "        loc = status.user.location\n",
    "        text = status.text\n",
    "        coords = status.coordinates\n",
    "        geo = status.geo\n",
    "        name = status.user.screen_name\n",
    "        user_created = status.user.created_at\n",
    "        followers = status.user.followers_count\n",
    "        id_str = status.id_str\n",
    "        created = status.created_at\n",
    "        retweets = status.retweet_count\n",
    "        bg_color = status.user.profile_background_color\n",
    "        blob = TextBlob(text) # initialize TextBlob class on the text of the tweet\n",
    "        sent = blob.sentiment # get sentiment score from the class\n",
    "        polarity = sent.polarity # get polarity score from sentiment\n",
    "        subjectivity = sent.subjectivity # get subjectivity score from sentiment\n",
    "        \n",
    "        # dump coordinates JSON dictionary to a string so we can store it\n",
    "        if geo is not None:\n",
    "            geo = json.dumps(geo)\n",
    "        \n",
    "    # override on_error method to handle errors properly, will send 420 status code if being rate limited\n",
    "    # and will disconnect, if anything else will keep going\n",
    "    def on_error(self, status_code):\n",
    "        if status_code == 420:\n",
    "            return False"
   ]
  }
 ],
 "metadata": {
  "kernelspec": {
   "display_name": "Python 3",
   "language": "python",
   "name": "python3"
  },
  "language_info": {
   "codemirror_mode": {
    "name": "ipython",
    "version": 3
   },
   "file_extension": ".py",
   "mimetype": "text/x-python",
   "name": "python",
   "nbconvert_exporter": "python",
   "pygments_lexer": "ipython3",
   "version": "3.7.3"
  }
 },
 "nbformat": 4,
 "nbformat_minor": 4
}
