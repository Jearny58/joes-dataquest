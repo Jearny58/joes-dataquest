{
 "cells": [
  {
   "cell_type": "markdown",
   "metadata": {},
   "source": [
    "# _Tutorial: Working with Streaming Data and the Twitter API in Python_\n",
    "\n",
    "This notebook is based on the following Twitter API [tutorial](https://www.dataquest.io/blog/streaming-data-python/) on Dataquest. The idea for this project _was not my own_, however I thought it would be best to follow along with the lesson and gain skills related to streaming data. \n",
    "\n",
    "The tutorial walks us through how to \"_create a tool that enables us to find out how people feel about Donald Trump and Hillary Clinton, both of whom are US Presidential candidates._\" This is what we'll need to do in this tutorial:\n",
    "- Stream tweets from the Twitter API\n",
    "- Filter out the tweets that aren't relevant\n",
    "- Process the tweets to figure out what emotions they express about each candidate\n",
    "- store the tweets for additional analysis\n",
    "\n",
    "## _Programming Paradigm: Event-driven programming_\n",
    "\n",
    "This type of programming is based around a program executing actions based on external inputs (like our streaming tweets). Below is some psuedocode that will get us started."
   ]
  },
  {
   "cell_type": "code",
   "execution_count": null,
   "metadata": {},
   "outputs": [],
   "source": [
    "def filter_tweet(tweet):\n",
    "# Remove any tweets that don't match our criteria.\n",
    "    if not tweet_matches_criteria(tweet):\n",
    "        return\n",
    "# Process the remaining tweets.\n",
    "process_tweet(tweet)\n",
    "def process_tweet(tweet):\n",
    "# Annotate the tweet dictionary with any other information we need.\n",
    "    tweet[\"sentiment\"] = get_sentiment(tweet)\n",
    "# Store the tweet.\n",
    "store_tweet(tweet)\n",
    "def store_tweet(tweet):\n",
    "# Saves a tweet for later processing. ..."
   ]
  },
  {
   "cell_type": "markdown",
   "metadata": {},
   "source": [
    "# _The Twitter Streaming API_\n",
    "\n",
    "- Link: https://developer.twitter.com/en/docs\n",
    "- Main rules when streaming tweets from Twitter:\n",
    "    - Create persistent connection to the API, read each connection incrementally\n",
    "    - process tweets quickly, and don't let your program get backed up\n",
    "    - handle errors and other issues properly\n",
    "- Link for Twitter Streaming API clients: https://developer.twitter.com/en/community\n",
    "    - [Tweepy](https://github.com/tweepy/tweepy) is most popular"
   ]
  },
  {
   "cell_type": "code",
   "execution_count": 22,
   "metadata": {},
   "outputs": [],
   "source": [
    "# import libraries that we'll need for later\n",
    "from settings import private\n",
    "import tweepy\n",
    "import matplotlib.pyplot as plt\n",
    "import scipy\n",
    "import numpy as np\n",
    "import pandas as pd\n",
    "from textblob import TextBlob\n",
    "from sqlalchemy.exc import ProgrammingError\n",
    "import json"
   ]
  },
  {
   "cell_type": "code",
   "execution_count": 8,
   "metadata": {},
   "outputs": [],
   "source": [
    "# setup tweepy to authenticate with Twitter with the following code\n",
    "auth = tweepy.OAuthHandler(private.TWITTER_APP_KEY, private.TWITTER_APP_SECRET)\n",
    "auth.set_access_token(private.TWITTER_KEY, private.TWITTER_SECRET)"
   ]
  },
  {
   "cell_type": "code",
   "execution_count": 9,
   "metadata": {},
   "outputs": [],
   "source": [
    "# create an API object to pull data from Twitter, pass in the authentication from above\n",
    "api = tweepy.API(auth)"
   ]
  },
  {
   "cell_type": "markdown",
   "metadata": {},
   "source": [
    "# _Setting up a listener_\n",
    "\n",
    "- opening Twitter stream using tweepy requires user-defined `listener` class\n",
    "- `StreamListener` class has `on_data` method\n",
    "    - automatically figures out what kind of data Twitter sent\n",
    "    - calls appropriate method to deal with data type\n",
    "- for now, we only care about when users post tweets\n",
    "    - will override the `on_status` method"
   ]
  },
  {
   "cell_type": "code",
   "execution_count": 14,
   "metadata": {},
   "outputs": [],
   "source": [
    "# create a listener that prints text of any tweet that comes from the Twitter API\n",
    "class StreamListener(tweepy.StreamListener):\n",
    "    def on_status(self, status):\n",
    "        print(status.text)\n",
    "        \n",
    "    # override on_error method to handle errors properly, will send 420 status code if being rate limited\n",
    "    # and will disconnect, if anything else will keep going\n",
    "    def on_error(self, status_code):\n",
    "        if status_code == 420:\n",
    "            return False"
   ]
  },
  {
   "cell_type": "markdown",
   "metadata": {},
   "source": [
    "# _Starting the listener_\n",
    "\n",
    "- once we setup listener, we're ready to wire everything up and stream tweets\n",
    "- below we'll:\n",
    "    - create an instance of `StreamListener` class\n",
    "    - create an instance of the tweepy `Stream` class\n",
    "        - streams the tweets\n",
    "        - pass authentication credentials `api.auth` so that Twitter allows us to connect\n",
    "        - pass in `stream_listener` so that our callback functions are called\n",
    "    - start streaming tweets by calling `filter` method\n",
    "        - streams tweets from `filter.json` API endpoint, passing to listener callback\n",
    "            - pass this in a list of terms to filter on, as API requires"
   ]
  },
  {
   "cell_type": "code",
   "execution_count": null,
   "metadata": {},
   "outputs": [],
   "source": [
    "# this will simply print out tweets mentioning the terms below, didn't run it because it made notebook\n",
    "# extremely long\n",
    "stream_listener = StreamListener()\n",
    "stream = tweepy.Stream(auth=api.auth, listener=stream_listener)\n",
    "stream.filter(track=[\"trump\", \"donald trump\", \"impeachment\"])"
   ]
  },
  {
   "cell_type": "markdown",
   "metadata": {},
   "source": [
    "# _Filtering events_\n",
    "\n",
    "- what if we want to ignore the retweets?\n",
    "    - reason: same text can show up hundreds or thousands of times, skewing results\n",
    "        - one person's tweet will count thousands of times in our analysis\n",
    "- tweet that is passed into `on_status` method is instance of `Status` class\n",
    "    - has properties describing tweet, including if it was retweeted\n",
    "- below we'll modify the `on_status` function to filter out retweets\n",
    "    - if the `retweeted_status` property exists, then don't process the tweet\n",
    "    - print all tweets that aren't retweets"
   ]
  },
  {
   "cell_type": "code",
   "execution_count": 18,
   "metadata": {},
   "outputs": [],
   "source": [
    "# modification of on_status function that filters out retweets\n",
    "class StreamListener(tweepy.StreamListener):\n",
    "    def on_status(self, status):\n",
    "        if status.retweeted:\n",
    "            return\n",
    "        print(status.text)\n",
    "        \n",
    "    # override on_error method to handle errors properly, will send 420 status code if being rate limited\n",
    "    # and will disconnect, if anything else will keep going\n",
    "    def on_error(self, status_code):\n",
    "        if status_code == 420:\n",
    "            return False"
   ]
  },
  {
   "cell_type": "code",
   "execution_count": 28,
   "metadata": {},
   "outputs": [
    {
     "name": "stdout",
     "output_type": "stream",
     "text": [
      "Last edit:  2019-09-30 18:18:19.135810\n",
      "Resetart from Filtering events section in Dataquest blog post; see below for link.\n"
     ]
    }
   ],
   "source": [
    "from datetime import datetime\n",
    "# current date and time\n",
    "now = datetime.now()\n",
    "print(\"Last edit: \", now)\n",
    "print('Resetart from Filtering events section in Dataquest blog post; see below for link.')"
   ]
  },
  {
   "cell_type": "markdown",
   "metadata": {},
   "source": [
    "# _Filtering events (cont.)_\n",
    "\n",
    "Last edit was made approximately at the time listed above. \n",
    "\n",
    "Link to blog post: [Dataquest Streaming Tutorial](https://www.dataquest.io/blog/streaming-data-python/)"
   ]
  }
 ],
 "metadata": {
  "kernelspec": {
   "display_name": "Python 3",
   "language": "python",
   "name": "python3"
  },
  "language_info": {
   "codemirror_mode": {
    "name": "ipython",
    "version": 3
   },
   "file_extension": ".py",
   "mimetype": "text/x-python",
   "name": "python",
   "nbconvert_exporter": "python",
   "pygments_lexer": "ipython3",
   "version": "3.7.3"
  }
 },
 "nbformat": 4,
 "nbformat_minor": 4
}
